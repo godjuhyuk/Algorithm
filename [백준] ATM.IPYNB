{
 "cells": [
  {
   "cell_type": "code",
   "execution_count": 13,
   "metadata": {},
   "outputs": [
    {
     "name": "stdout",
     "output_type": "stream",
     "text": [
      "22\n"
     ]
    }
   ],
   "source": [
    "n = 5\n",
    "p = [3,1,4,3,2]\n",
    "# n = int(input())\n",
    "# p = list(map(int, input().split()))\n",
    "p.sort()\n",
    "# dp = [p[0]]\n",
    "# for i in range(1, n):\n",
    "#     dp.append(p[i] + dp[i-1])\n",
    "ans = p[0]\n",
    "dp = p[0]\n",
    "for i in range(1, n):\n",
    "    ans += p[i] + dp\n",
    "    dp = p[i]\n",
    "print(ans)"
   ]
  }
 ],
 "metadata": {
  "kernelspec": {
   "display_name": "Python 3",
   "language": "python",
   "name": "python3"
  },
  "language_info": {
   "codemirror_mode": {
    "name": "ipython",
    "version": 3
   },
   "file_extension": ".py",
   "mimetype": "text/x-python",
   "name": "python",
   "nbconvert_exporter": "python",
   "pygments_lexer": "ipython3",
   "version": "3.11.1"
  },
  "orig_nbformat": 4
 },
 "nbformat": 4,
 "nbformat_minor": 2
}
