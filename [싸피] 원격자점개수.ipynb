{
 "cells": [
  {
   "cell_type": "code",
   "execution_count": null,
   "metadata": {},
   "outputs": [],
   "source": [
    "try:\n",
    "    import sys\n",
    "    T = int(sys.stdin.readline().strip())\n",
    "    for t in range(1, T+1):\n",
    "    a = int(sys.stdin.readline().strip())  \n",
    "    cnt = 0\n",
    "    for i in range(2*a+1):\n",
    "        for j in range(2*a+1):\n",
    "            if (a-i)**2 +(a-j)**2 <= a**2:\n",
    "                cnt +=1\n",
    "    sys.stdin.write(f\"#{t} {cnt}\\n\")\n",
    "except Exception as e:\n",
    "    print(e)"
   ]
  }
 ],
 "metadata": {
  "language_info": {
   "name": "python"
  },
  "orig_nbformat": 4
 },
 "nbformat": 4,
 "nbformat_minor": 2
}
