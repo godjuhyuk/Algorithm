{
 "cells": [
  {
   "cell_type": "code",
   "execution_count": null,
   "metadata": {},
   "outputs": [],
   "source": [
    "# 8\n",
    "# 1 1 0 0 0 0 1 1\n",
    "# 1 1 0 0 0 0 1 1\n",
    "# 0 0 0 0 1 1 0 0\n",
    "# 0 0 0 0 1 1 0 0\n",
    "# 1 0 0 0 1 1 1 1\n",
    "# 0 1 0 0 1 1 1 1\n",
    "# 0 0 1 1 1 1 1 1\n",
    "# 0 0 1 1 1 1 1 1\n",
    "import sys\n",
    "def check_grid(row, col, size, grid):\n",
    "    for i in range(row, row+size):\n",
    "        for j in range(col, col+size):\n",
    "            if grid[i][j] != grid[row][col]:\n",
    "                return False\n",
    "\n",
    "    return True\n",
    "\n",
    "\n",
    "def partition(row, col, size, grid):\n",
    "    global ans;\n",
    "    if check_grid(row, col, size, grid):\n",
    "        ans[grid[row][col]] += 1\n",
    "    else:\n",
    "        size //= 2\n",
    "        partition(row, col, size, grid)\n",
    "        partition(row+size, col, size, grid)\n",
    "        partition(row, col+size, size, grid)\n",
    "        partition(row+size, col+size, size, grid)\n",
    "    \n",
    "n = int(input())\n",
    "ans = [0, 0]\n",
    "grid = [[int(x.strip()) for x in sys.stdin.readline().split(\" \")] for _ in range(n)]\n",
    "partition(0, 0, n, grid)\n",
    "print(ans)\n"
   ]
  }
 ],
 "metadata": {
  "language_info": {
   "name": "python"
  },
  "orig_nbformat": 4
 },
 "nbformat": 4,
 "nbformat_minor": 2
}
