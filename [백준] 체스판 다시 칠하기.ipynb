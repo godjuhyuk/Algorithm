{
 "cells": [
  {
   "cell_type": "code",
   "execution_count": 21,
   "metadata": {},
   "outputs": [
    {
     "name": "stdout",
     "output_type": "stream",
     "text": [
      "0\n",
      "0\n",
      "0\n"
     ]
    }
   ],
   "source": [
    "N, M = map(int, input().split())\n",
    "chess_stage = \"\"\n",
    "for _ in range(N):\n",
    "    chess_stage += input().split()[0]\n",
    "# chess_stage = input().replace(\" \",\"\")\n",
    "correct_stage_W = \"WBWBWBWBBWBWBWBWWBWBWBWBBWBWBWBWWBWBWBWBBWBWBWBWWBWBWBWBBWBWBWBW\"\n",
    "correct_stage_B = \"BWBWBWBWWBWBWBWBBWBWBWBWWBWBWBWBBWBWBWBWWBWBWBWBBWBWBWBWWBWBWBWB\"\n",
    "min = 2500\n",
    "for x in range(N-7):\n",
    "    for y in range(M-7):\n",
    "        cnt_B = 0\n",
    "        cnt_W = 0\n",
    "        temp_stage=\"\"\n",
    "        for i in range(8):\n",
    "                temp_stage+=chess_stage[x*M+y +M*i : x*M+y+8 + M*i]\n",
    "        for i in range(64):\n",
    "            if temp_stage[i] != correct_stage_B[i]:\n",
    "                    cnt_B+=1\n",
    "            if temp_stage[i] != correct_stage_W[i]:\n",
    "                    cnt_W+=1\n",
    "        if min > cnt_B:\n",
    "                min = cnt_B\n",
    "        if min > cnt_W:\n",
    "                min = cnt_W\n",
    "print(min)"
   ]
  },
  {
   "cell_type": "code",
   "execution_count": 44,
   "metadata": {},
   "outputs": [
    {
     "data": {
      "text/plain": [
       "'WBWBWBWBBWBWBWBWWBWBWBWBBWBBBWBWWBWBWBWBBWBWBWBWWBWBWBWBBWBWBWBW'"
      ]
     },
     "execution_count": 44,
     "metadata": {},
     "output_type": "execute_result"
    }
   ],
   "source": [
    "# N, M = [int(i) for i in input().split()]\n",
    "# colors = [[0 if c=='W' else 1 for c in input()] for _ in range(N)]\n",
    "# is_same = [[1 if colors[i][j]==(i+j)%2 else 0 for j in range(M)] for i in range(N)]\n",
    "# same_blocks = [[sum(map(sum, [k[j:j+8] for k in is_same[i:i+8]])) for j in range(M-7)] for i in range(N-7)]\n",
    "# min_ = min(map(min, same_blocks))\n",
    "# max_ = max(map(max, same_blocks))\n",
    "# print(min(min_, 64-max_))"
   ]
  }
 ],
 "metadata": {
  "kernelspec": {
   "display_name": "base",
   "language": "python",
   "name": "python3"
  },
  "language_info": {
   "codemirror_mode": {
    "name": "ipython",
    "version": 3
   },
   "file_extension": ".py",
   "mimetype": "text/x-python",
   "name": "python",
   "nbconvert_exporter": "python",
   "pygments_lexer": "ipython3",
   "version": "3.9.13"
  },
  "orig_nbformat": 4
 },
 "nbformat": 4,
 "nbformat_minor": 2
}
