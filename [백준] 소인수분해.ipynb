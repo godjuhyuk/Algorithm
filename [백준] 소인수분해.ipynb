{
 "cells": [
  {
   "cell_type": "code",
   "execution_count": 20,
   "metadata": {},
   "outputs": [
    {
     "name": "stdout",
     "output_type": "stream",
     "text": [
      "97\n",
      "103\n"
     ]
    }
   ],
   "source": [
    "N = int(input())\n",
    "def is_prime(num):\n",
    "    cnt = 0\n",
    "    for i in range(2, int(num**1/2)+1):\n",
    "        cnt += 1 if num%i ==0 else 0\n",
    "    return True if cnt == 0 and num > 1 else False\n",
    "prime_list = [i for i in range(2, N+1) if is_prime(i)]\n",
    "idx = 0\n",
    "while True:\n",
    "    if idx == len(prime_list) or N == 1: break\n",
    "    if N%prime_list[idx] == 0:\n",
    "        N/= prime_list[idx]\n",
    "        print(prime_list[idx])\n",
    "    else:\n",
    "        idx +=1\n",
    "    "
   ]
  },
  {
   "cell_type": "code",
   "execution_count": 19,
   "metadata": {},
   "outputs": [
    {
     "name": "stdout",
     "output_type": "stream",
     "text": [
      "97\n",
      "103\n"
     ]
    }
   ],
   "source": [
    "N = int(input())\n",
    "def is_prime(num):\n",
    "    f = True if num > 1 else False\n",
    "    for i in range(2, int(num**1/2)+1):\n",
    "        if num%i==0:\n",
    "            f = False\n",
    "            break\n",
    "    return f\n",
    "\n",
    "F = True\n",
    "while F:\n",
    "    for i in range(2, N+1):\n",
    "        if is_prime(i) and N%i==0:\n",
    "            print(i)\n",
    "            N =int(N/i)\n",
    "            break\n",
    "    if N==1:\n",
    "        F = False"
   ]
  },
  {
   "cell_type": "code",
   "execution_count": 51,
   "metadata": {},
   "outputs": [
    {
     "name": "stdout",
     "output_type": "stream",
     "text": [
      "[2, 3, 5, 7, 11, 13, 17, 19]\n",
      "19\n"
     ]
    }
   ],
   "source": [
    "import math\n",
    "\n",
    "def get_primes(n):\n",
    "    # 구하고자 하는 수만큼 True를 갖는 리스트 생성\n",
    "    is_primes = [True] * (n+1)\n",
    "    # n의 최대 약수가 sqrt(n) 이하이므로 계산한 후, 소숫점이 있을 경우 올림으로 최대 반복 횟수 계산\n",
    "    max_length = int(n**1/2) + 1\n",
    "    for i in range(2, max_length):\n",
    "        # True일 경우, 소수\n",
    "        if is_primes[i]:\n",
    "            # i이후 i의 배수들을 지워나감\n",
    "            for j in range(i+i, n, i):\n",
    "                is_primes[j] = False\n",
    "\n",
    "    # 리스트의 True로 남아 있는 인덱스(소수)를 추출\n",
    "    return [i for i in range(2, n+1) if is_primes[i]]\n",
    "\n",
    "\n",
    "N = int(input())\n",
    "prime_list = get_primes(N)\n",
    "idx = 0\n",
    "while True:\n",
    "    if  N == 1: break\n",
    "    if N%prime_list[idx] == 0:\n",
    "        N = int(N/prime_list[idx])\n",
    "        print(prime_list[idx])\n",
    "    else:\n",
    "        idx +=1"
   ]
  },
  {
   "cell_type": "code",
   "execution_count": null,
   "metadata": {},
   "outputs": [],
   "source": [
    "n=int(input())\n",
    "for i in range(2,int(n**(0.5))+2):\n",
    "    while n%i==0:print(i);n//=i\n",
    "if n!=1:print(n) "
   ]
  }
 ],
 "metadata": {
  "kernelspec": {
   "display_name": "Python 3",
   "language": "python",
   "name": "python3"
  },
  "language_info": {
   "codemirror_mode": {
    "name": "ipython",
    "version": 3
   },
   "file_extension": ".py",
   "mimetype": "text/x-python",
   "name": "python",
   "nbconvert_exporter": "python",
   "pygments_lexer": "ipython3",
   "version": "3.6.7"
  },
  "orig_nbformat": 4
 },
 "nbformat": 4,
 "nbformat_minor": 2
}
