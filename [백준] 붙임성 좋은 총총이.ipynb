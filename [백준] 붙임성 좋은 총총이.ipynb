{
 "cells": [
  {
   "cell_type": "code",
   "execution_count": 14,
   "metadata": {},
   "outputs": [
    {
     "data": {
      "text/plain": [
       "['a']"
      ]
     },
     "execution_count": 14,
     "metadata": {},
     "output_type": "execute_result"
    }
   ],
   "source": [
    "[x for x in st if st[x]]"
   ]
  },
  {
   "cell_type": "code",
   "execution_count": 8,
   "metadata": {},
   "outputs": [
    {
     "name": "stdout",
     "output_type": "stream",
     "text": [
      "2\n"
     ]
    }
   ],
   "source": [
    "st = {'a':True, 'B':False}\n",
    "print(len([x for x, val in enumerate(st) if val]))"
   ]
  },
  {
   "cell_type": "code",
   "execution_count": 21,
   "metadata": {},
   "outputs": [
    {
     "data": {
      "text/plain": [
       "{'ChongChong': True, 'b': False, 'a': False, 'c': True, 'd': True}"
      ]
     },
     "execution_count": 21,
     "metadata": {},
     "output_type": "execute_result"
    }
   ],
   "source": [
    "st"
   ]
  },
  {
   "cell_type": "code",
   "execution_count": 20,
   "metadata": {},
   "outputs": [
    {
     "name": "stdout",
     "output_type": "stream",
     "text": [
      "3\n"
     ]
    }
   ],
   "source": [
    "import sys\n",
    "input = sys.stdin.readline\n",
    "st = {\n",
    "    'ChongChong':True\n",
    "}\n",
    "for _ in range(int(input())):\n",
    "    A, B = input().split()\n",
    "    st[A] = True if st.setdefault(B, False) else st.setdefault(A, False)\n",
    "    st[B] = True if st.setdefault(A, False) else st.setdefault(B, False)\n",
    "print(len([x for x in st if st[x]]))"
   ]
  },
  {
   "cell_type": "code",
   "execution_count": 4,
   "metadata": {},
   "outputs": [
    {
     "data": {
      "text/plain": [
       "{'ChongChong',\n",
       " 'bnb2011',\n",
       " 'chansol',\n",
       " 'chogahui05',\n",
       " 'jthis',\n",
       " 'jyheo98',\n",
       " 'lms0806',\n",
       " 'pichulia',\n",
       " 'pjshwa',\n",
       " 'r4pidstart',\n",
       " 'swoon',\n",
       " 'tony9402'}"
      ]
     },
     "execution_count": 4,
     "metadata": {},
     "output_type": "execute_result"
    }
   ],
   "source": [
    "12\n",
    "bnb2011 chansol\n",
    "chansol chogahui05\n",
    "chogahui05 jthis\n",
    "jthis ChongChong\n",
    "jthis jyheo98\n",
    "jyheo98 lms0806\n",
    "lms0806 pichulia\n",
    "pichulia pjshwa\n",
    "pjshwa r4pidstart\n",
    "r4pidstart swoon\n",
    "swoon tony9402\n",
    "tony9402 bnb2011"
   ]
  },
  {
   "cell_type": "code",
   "execution_count": 2,
   "metadata": {},
   "outputs": [],
   "source": [
    "a = \"\"\"\"bnb2011 chansol\n",
    "chansol chogahui05\n",
    "chogahui05 jthis\n",
    "jthis ChongChong\n",
    "jthis jyheo98\n",
    "jyheo98 lms0806\n",
    "lms0806 pichulia\n",
    "pichulia pjshwa\n",
    "pjshwa r4pidstart\n",
    "r4pidstart swoon\n",
    "swoon tony9402\n",
    "tony9402 bnb2011\"\"\".split()"
   ]
  }
 ],
 "metadata": {
  "kernelspec": {
   "display_name": "base",
   "language": "python",
   "name": "python3"
  },
  "language_info": {
   "codemirror_mode": {
    "name": "ipython",
    "version": 3
   },
   "file_extension": ".py",
   "mimetype": "text/x-python",
   "name": "python",
   "nbconvert_exporter": "python",
   "pygments_lexer": "ipython3",
   "version": "3.9.13"
  },
  "orig_nbformat": 4
 },
 "nbformat": 4,
 "nbformat_minor": 2
}
