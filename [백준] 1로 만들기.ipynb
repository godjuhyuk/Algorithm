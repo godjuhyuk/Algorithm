{
 "cells": [
  {
   "cell_type": "code",
   "execution_count": 1,
   "metadata": {},
   "outputs": [],
   "source": [
    "a = [0] * (10**6)\n"
   ]
  },
  {
   "cell_type": "code",
   "execution_count": 111,
   "metadata": {},
   "outputs": [
    {
     "name": "stdout",
     "output_type": "stream",
     "text": [
      "18\n"
     ]
    }
   ],
   "source": [
    "# 정수 X에 사용할 수 있는 연산은 다음과 같이 세 가지 이다.\n",
    "\n",
    "# X가 3으로 나누어 떨어지면, 3으로 나눈다.\n",
    "# X가 2로 나누어 떨어지면, 2로 나눈다.\n",
    "# 1을 뺀다.\n",
    "# 정수 N이 주어졌을 때, 위와 같은 연산 세 개를 적절히 사용해서 1을 만들려고 한다. 연산을 사용하는 횟수의 최솟값을 출력하시오.\n",
    "# 10 -> 9-> 3-> 1\n",
    "# \n",
    "\n",
    "N= int(input())\n",
    "d= [N-i for i in range(N+1)]\n",
    "for i in range(N, 0, -1):\n",
    "    memo = d[i] + 1\n",
    "    if i%3 == 0 and d[i//3] > memo:\n",
    "        d[i//3] = memo\n",
    "    if i%2 == 0 and d[i//2] > memo: \n",
    "        d[i//2] = memo\n",
    "    if d[i-1] >= d[i] and d[i-1] > memo:\n",
    "        d[i-1] = memo\n",
    "print(d[1]) if N >1 else print(0)\n",
    "# def sol(N, cnt):\n",
    "#     if N < 1:\n",
    "#         return\n",
    "#     if (N%3 == 0 and d[N//3] > cnt) or (N%2 == 0 and d[N//2] > cnt):\n",
    "#         if (N%3 == 0 and d[N//3] > cnt):\n",
    "#             d[N//3] = cnt\n",
    "#             sol(N//3, cnt+1)\n",
    "#         if (N%2 == 0 and d[N//2] > cnt):\n",
    "#             d[N//2] = cnt\n",
    "#             sol(N//2, cnt+1)\n",
    "#     if N>=2 and d[N-1] > cnt:\n",
    "#         d[N-1] = cnt\n",
    "#         sol(N-1, cnt+1)\n",
    "#     else:\n",
    "#         return\n",
    "#     return\n",
    "# sol(N, cnt=1)\n"
   ]
  },
  {
   "cell_type": "code",
   "execution_count": null,
   "metadata": {},
   "outputs": [],
   "source": []
  },
  {
   "cell_type": "code",
   "execution_count": 115,
   "metadata": {},
   "outputs": [
    {
     "name": "stdout",
     "output_type": "stream",
     "text": [
      "30 {1: 0, 2: 1}\n",
      "10 {1: 0, 2: 1}\n",
      "3 {1: 0, 2: 1}\n",
      "1 {1: 0, 2: 1}\n",
      "1 {1: 0, 2: 1}\n",
      "5 {1: 0, 2: 1, 3: 1}\n",
      "1 {1: 0, 2: 1, 3: 1}\n",
      "2 {1: 0, 2: 1, 3: 1}\n",
      "15 {1: 0, 2: 1, 3: 1, 5: 3, 10: 3}\n",
      "5 {1: 0, 2: 1, 3: 1, 5: 3, 10: 3}\n",
      "7 {1: 0, 2: 1, 3: 1, 5: 3, 10: 3}\n",
      "2 {1: 0, 2: 1, 3: 1, 5: 3, 10: 3}\n",
      "3 {1: 0, 2: 1, 3: 1, 5: 3, 10: 3}\n",
      "4\n"
     ]
    }
   ],
   "source": [
    "from sys import stdin\n",
    "\n",
    "d = {1: 0, 2: 1}\n",
    "\n",
    "\n",
    "def sol(n: int) -> int:\n",
    "    print(n, d)\n",
    "    if n in d:\n",
    "        return d[n]\n",
    "    t = 1 + min(sol(n // 3) + n % 3, sol(n // 2) + n % 2)\n",
    "    d[n] = t\n",
    "    \n",
    "    return t\n",
    "\n",
    "\n",
    "print(sol(int(input())))"
   ]
  }
 ],
 "metadata": {
  "kernelspec": {
   "display_name": "Python 3",
   "language": "python",
   "name": "python3"
  },
  "language_info": {
   "codemirror_mode": {
    "name": "ipython",
    "version": 3
   },
   "file_extension": ".py",
   "mimetype": "text/x-python",
   "name": "python",
   "nbconvert_exporter": "python",
   "pygments_lexer": "ipython3",
   "version": "3.11.1"
  },
  "orig_nbformat": 4
 },
 "nbformat": 4,
 "nbformat_minor": 2
}
