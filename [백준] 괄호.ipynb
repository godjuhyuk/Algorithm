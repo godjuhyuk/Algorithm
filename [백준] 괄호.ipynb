{
 "cells": [
  {
   "cell_type": "code",
   "execution_count": 10,
   "metadata": {},
   "outputs": [
    {
     "name": "stdout",
     "output_type": "stream",
     "text": [
      "YES\n",
      "YES\n",
      "NO\n",
      "YES\n",
      "NO\n"
     ]
    }
   ],
   "source": [
    "import sys\n",
    "for _ in range(int(input())):\n",
    "    parenthsis = sys.stdin.readline().strip()\n",
    "    paren_stack = []\n",
    "    for i in parenthsis:\n",
    "        paren_stack.append(i)\n",
    "        if paren_stack[len(paren_stack) - 2] == '(' and i == ')':\n",
    "            paren_stack.pop()\n",
    "            paren_stack.pop()\n",
    "    sys.stdout.write('YES\\n') if len(paren_stack) == 0 else sys.stdout.write('NO\\n')"
   ]
  },
  {
   "cell_type": "code",
   "execution_count": 11,
   "metadata": {},
   "outputs": [
    {
     "data": {
      "text/plain": [
       "'()'"
      ]
     },
     "execution_count": 11,
     "metadata": {},
     "output_type": "execute_result"
    }
   ],
   "source": [
    "'()'.strip()"
   ]
  }
 ],
 "metadata": {
  "kernelspec": {
   "display_name": "base",
   "language": "python",
   "name": "python3"
  },
  "language_info": {
   "codemirror_mode": {
    "name": "ipython",
    "version": 3
   },
   "file_extension": ".py",
   "mimetype": "text/x-python",
   "name": "python",
   "nbconvert_exporter": "python",
   "pygments_lexer": "ipython3",
   "version": "3.9.13"
  },
  "orig_nbformat": 4
 },
 "nbformat": 4,
 "nbformat_minor": 2
}
