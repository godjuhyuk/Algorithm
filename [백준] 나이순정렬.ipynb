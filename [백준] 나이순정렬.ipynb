{
 "cells": [
  {
   "cell_type": "code",
   "execution_count": 4,
   "metadata": {},
   "outputs": [
    {
     "name": "stdout",
     "output_type": "stream",
     "text": [
      "20 Sunyoung\n",
      "21 JunKyu\n",
      "21 Dohyun\n"
     ]
    }
   ],
   "source": [
    "# 3\n",
    "# 21 Junkyu\n",
    "# 21 Dohyun\n",
    "# 20 Sunyoung\n",
    "\n",
    "# N = input()\n",
    "def law(s):\n",
    "    return s.split(' ')[2]\n",
    "\n",
    "a = ['21 JunKyu', '21 Dohyun', '20 Sunyoung']\n",
    "for i in range(len(a)):\n",
    "    a[i] += f' {i}'\n",
    "for i in sorted(a, key=lambda x: (x.split(' ')[0], law(x))):\n",
    "    spl = i.split(' ')\n",
    "    print(f'{spl[0]} {spl[1]}')\n",
    "\n"
   ]
  }
 ],
 "metadata": {
  "kernelspec": {
   "display_name": "base",
   "language": "python",
   "name": "python3"
  },
  "language_info": {
   "codemirror_mode": {
    "name": "ipython",
    "version": 3
   },
   "file_extension": ".py",
   "mimetype": "text/x-python",
   "name": "python",
   "nbconvert_exporter": "python",
   "pygments_lexer": "ipython3",
   "version": "3.9.13"
  },
  "orig_nbformat": 4
 },
 "nbformat": 4,
 "nbformat_minor": 2
}
