{
 "cells": [
  {
   "cell_type": "code",
   "execution_count": 58,
   "metadata": {},
   "outputs": [
    {
     "name": "stdout",
     "output_type": "stream",
     "text": [
      "365808847\n"
     ]
    }
   ],
   "source": [
    "N= int(input())\n",
    "# ans = [x for x in range(1, 10)]\n",
    "test = {key: 1 for key in range(10) if key != 0}\n",
    "test[0] = 0\n",
    "# cnt = len(ans)\n",
    "for iter in range(N-1):\n",
    "    # temp_arr = []\n",
    "    # find = 0\n",
    "    temp_test = {key: 0 for key in range(10)}\n",
    "    # for i in ans:\n",
    "    #     last_num = i % 10\n",
    "    #     if last_num + 1 < 10 and last_num - 1 >= 0:\n",
    "    #         temp_arr.append(i*10 + last_num + 1)\n",
    "    #         temp_arr.append(i*10 + last_num - 1)\n",
    "    #     elif last_num == 0:\n",
    "    #         temp_arr.append(i*10 + 1)\n",
    "    #         find += 1\n",
    "    #     else:\n",
    "    #         temp_arr.append(i*10 + 8)\n",
    "    #         find += 1\n",
    "    # print('\\n', test)\n",
    "    for i in range(0, 10):\n",
    "        if i == 0:\n",
    "            temp_test[i+1] += test[i]\n",
    "        elif i == 9:\n",
    "            temp_test[i-1] += test[i]\n",
    "        else:\n",
    "            temp_test[i+1] += test[i]\n",
    "            temp_test[i-1] += test[i]\n",
    "    # print(temp_test, end='\\n')\n",
    "    # print(ans)\n",
    "    # ans = temp_arr\n",
    "    test = temp_test.copy()\n",
    "\n",
    "\n",
    "print(sum(test.values()) % (10**9))\n",
    "# print(len(ans)% (10**9)) if N>1 else print(9)"
   ]
  },
  {
   "cell_type": "code",
   "execution_count": 62,
   "metadata": {},
   "outputs": [
    {
     "name": "stdout",
     "output_type": "stream",
     "text": [
      "17\n"
     ]
    }
   ],
   "source": [
    "old = {key: 1 for key in range(10) if key != 0}\n",
    "old[0] = 0\n",
    "for _ in range(int(input())-1):\n",
    "    new = {key: 0 for key in range(10)}\n",
    "    for i in range(0, 10):\n",
    "        if i == 0:\n",
    "            new[i+1] += old[i]\n",
    "        elif i == 9:\n",
    "            new[i-1] += old[i]\n",
    "        else:\n",
    "            new[i+1] += old[i]\n",
    "            new[i-1] += old[i]\n",
    "    old = new.copy()\n",
    "print(sum(old.values()) % (10**9))"
   ]
  },
  {
   "cell_type": "code",
   "execution_count": 66,
   "metadata": {},
   "outputs": [
    {
     "name": "stdout",
     "output_type": "stream",
     "text": [
      "9\n"
     ]
    }
   ],
   "source": [
    "old = [0] + [1] * 9\n",
    "for _ in range(int(input())-1):\n",
    "    new = [0]*10\n",
    "    for i in range(0, 10):\n",
    "        if i == 0:\n",
    "            new[i+1] += old[i]\n",
    "        elif i == 9:\n",
    "            new[i-1] += old[i]\n",
    "        else:\n",
    "            new[i+1] += old[i]\n",
    "            new[i-1] += old[i]\n",
    "    old = new[:]\n",
    "print(sum(old) % (10**9))"
   ]
  },
  {
   "cell_type": "code",
   "execution_count": 63,
   "metadata": {},
   "outputs": [
    {
     "data": {
      "text/plain": [
       "[2, 2, 3]"
      ]
     },
     "execution_count": 63,
     "metadata": {},
     "output_type": "execute_result"
    }
   ],
   "source": [
    "a= [1,2,3]\n",
    "b=a\n",
    "b[0] +=1 \n",
    "a"
   ]
  }
 ],
 "metadata": {
  "kernelspec": {
   "display_name": "Python 3",
   "language": "python",
   "name": "python3"
  },
  "language_info": {
   "codemirror_mode": {
    "name": "ipython",
    "version": 3
   },
   "file_extension": ".py",
   "mimetype": "text/x-python",
   "name": "python",
   "nbconvert_exporter": "python",
   "pygments_lexer": "ipython3",
   "version": "3.11.1"
  },
  "orig_nbformat": 4
 },
 "nbformat": 4,
 "nbformat_minor": 2
}
