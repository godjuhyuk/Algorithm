{
 "cells": [
  {
   "cell_type": "code",
   "execution_count": 14,
   "metadata": {},
   "outputs": [],
   "source": [
    "# 1차 시도 \n",
    "import sys\n",
    "input()\n",
    "chat_log = \"\"\n",
    "# for x in input().split(' '):\n",
    "for x in sys.stdin.readlines():\n",
    "    chat_log += f'{x.strip()} '\n",
    "ans = 0\n",
    "cnt_list = chat_log.split('ENTER')\n",
    "cnt_list.pop(0)\n",
    "for temp in cnt_list:\n",
    "    ans+= len(set(temp.strip().split(' ')))\n",
    "print(ans)"
   ]
  },
  {
   "cell_type": "code",
   "execution_count": 16,
   "metadata": {},
   "outputs": [
    {
     "name": "stdout",
     "output_type": "stream",
     "text": [
      "5\n"
     ]
    }
   ],
   "source": [
    "# 2차 시도 \n",
    "import sys\n",
    "chat_log = [x.strip() for x in sys.stdin.readlines()[1:]]\n",
    "ans, loop_flag, temp_set = 0, False, set()\n",
    "while len(chat_log):\n",
    "    if chat_log.pop(0) == 'ENTER': loop_flag = True\n",
    "    while loop_flag is True and len(chat_log) !=0:\n",
    "        if chat_log[0] == 'ENTER':\n",
    "            ans += len(temp_set)\n",
    "            temp_set, loop_flag = set(), False\n",
    "            break\n",
    "        else:\n",
    "            temp_set.add(chat_log.pop(0))\n",
    "ans += len(temp_set)\n",
    "print(ans)"
   ]
  },
  {
   "cell_type": "code",
   "execution_count": null,
   "metadata": {},
   "outputs": [],
   "source": [
    "# 정답 풀이\n",
    "from sys import stdin\n",
    "input = stdin.readline\n",
    "_set, ans = set(), 0\n",
    "for _ in range(int(input())):\n",
    "    word = input().strip()\n",
    "    if word == 'ENTER':\n",
    "        ans+= len(_set)\n",
    "        _set = set()\n",
    "    else:\n",
    "        _set.add(word)\n",
    "print(ans + len(_set))"
   ]
  }
 ],
 "metadata": {
  "kernelspec": {
   "display_name": "base",
   "language": "python",
   "name": "python3"
  },
  "language_info": {
   "codemirror_mode": {
    "name": "ipython",
    "version": 3
   },
   "file_extension": ".py",
   "mimetype": "text/x-python",
   "name": "python",
   "nbconvert_exporter": "python",
   "pygments_lexer": "ipython3",
   "version": "3.9.13"
  },
  "orig_nbformat": 4
 },
 "nbformat": 4,
 "nbformat_minor": 2
}
