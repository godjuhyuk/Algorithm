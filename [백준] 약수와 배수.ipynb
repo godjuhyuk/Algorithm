{
 "cells": [
  {
   "cell_type": "code",
   "execution_count": 39,
   "metadata": {},
   "outputs": [
    {
     "name": "stdout",
     "output_type": "stream",
     "text": [
      "neither\n",
      "multiple\n"
     ]
    }
   ],
   "source": [
    "\n",
    "a, b = map(int, input().split())\n",
    "\n",
    "while(a + b != 0):\n",
    "    if a == 0 or b == 0:\n",
    "        print('neither')\n",
    "        a, b = map(int, input().split())\n",
    "\n",
    "    elif a % b == 0:\n",
    "        print(\"multiple\")\n",
    "        a, b = map(int, input().split())\n",
    "    elif b % a == 0:\n",
    "        print(\"factor\")\n",
    "        a, b = map(int, input().split())\n",
    "    else:\n",
    "        print('neither')\n",
    "        a, b = map(int, input().split())"
   ]
  }
 ],
 "metadata": {
  "kernelspec": {
   "display_name": "Python 3",
   "language": "python",
   "name": "python3"
  },
  "language_info": {
   "codemirror_mode": {
    "name": "ipython",
    "version": 3
   },
   "file_extension": ".py",
   "mimetype": "text/x-python",
   "name": "python",
   "nbconvert_exporter": "python",
   "pygments_lexer": "ipython3",
   "version": "3.6.7"
  },
  "orig_nbformat": 4
 },
 "nbformat": 4,
 "nbformat_minor": 2
}
