{
 "cells": [
  {
   "cell_type": "code",
   "execution_count": 16,
   "metadata": {},
   "outputs": [
    {
     "name": "stdout",
     "output_type": "stream",
     "text": [
      "1\n",
      "2\n",
      "5\n"
     ]
    }
   ],
   "source": [
    "import sys    \n",
    "for _ in range(int(input())):\n",
    "    N, target = map(int, sys.stdin.readline().split())\n",
    "    printer = list(map(int, sys.stdin.readline().split()))\n",
    "    max_ = max(printer)\n",
    "    cnt = 0 \n",
    "    while True:\n",
    "        if max_ == printer[0]:\n",
    "            printer.pop(0)\n",
    "            cnt +=1\n",
    "            if target == 0: break\n",
    "            max_ = max(printer)\n",
    "        else:\n",
    "            printer.append(printer.pop(0))\n",
    "        target += -1 if target > 0 else len(printer) - 1\n",
    "    print(cnt)"
   ]
  }
 ],
 "metadata": {
  "kernelspec": {
   "display_name": "base",
   "language": "python",
   "name": "python3"
  },
  "language_info": {
   "codemirror_mode": {
    "name": "ipython",
    "version": 3
   },
   "file_extension": ".py",
   "mimetype": "text/x-python",
   "name": "python",
   "nbconvert_exporter": "python",
   "pygments_lexer": "ipython3",
   "version": "3.9.13"
  },
  "orig_nbformat": 4
 },
 "nbformat": 4,
 "nbformat_minor": 2
}
