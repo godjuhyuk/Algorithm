{
 "cells": [
  {
   "cell_type": "code",
   "execution_count": 33,
   "metadata": {},
   "outputs": [
    {
     "name": "stdout",
     "output_type": "stream",
     "text": [
      "G J A\n",
      "G J B\n",
      "G J C\n",
      "G K A\n",
      "G K B\n",
      "G K C\n",
      "G L A\n",
      "G L B\n",
      "G L C\n",
      "H J A\n",
      "H J B\n",
      "H J C\n",
      "H K A\n",
      "H K B\n",
      "H K C\n",
      "H L A\n",
      "H L B\n",
      "H L C\n",
      "I J A\n",
      "I J B\n",
      "I J C\n",
      "I K A\n",
      "I K B\n",
      "I K C\n",
      "I L A\n",
      "I L B\n",
      "I L C\n"
     ]
    }
   ],
   "source": [
    "N = input()\n",
    "keypad=  {\n",
    "    '2' : 'ABC',\n",
    "    '3' : 'DEF',\n",
    "    '4' : 'GHI',\n",
    "    '5' : 'JKL',\n",
    "    '6' : 'MNO',\n",
    "    '7' : 'PQRS',\n",
    "    '8' : 'TUV',\n",
    "    '9' : 'WXYZ'\n",
    "}\n",
    "candidate = []\n",
    "for num in N:\n",
    "    candidate.append(keypad[num])\n",
    "\n",
    "def make_word(candidate, temp=[], idx = 0):\n",
    "    if idx == len(N):\n",
    "        print(temp[:])\n",
    "        return\n",
    "    for char in candidate[idx]:\n",
    "        temp.append(char)\n",
    "        make_word(candidate, temp, idx+1)\n",
    "        temp.pop()\n",
    "\n",
    "make_word(candidate)\n",
    "\n",
    "# def make_word(candidate, result, start = 0, end = len(N)):\n",
    "#     if start == end:\n",
    "#         print(' '.join(result))\n",
    "#         return\n",
    "#     for char in candidate[start]:\n",
    "#         result[start] = char\n",
    "#         make_word(candidate, result, start+1, end)\n",
    "\n",
    "# make_word(candidate, [''] * len(N))\n"
   ]
  }
 ],
 "metadata": {
  "kernelspec": {
   "display_name": "Python 3",
   "language": "python",
   "name": "python3"
  },
  "language_info": {
   "codemirror_mode": {
    "name": "ipython",
    "version": 3
   },
   "file_extension": ".py",
   "mimetype": "text/x-python",
   "name": "python",
   "nbconvert_exporter": "python",
   "pygments_lexer": "ipython3",
   "version": "3.11.1"
  },
  "orig_nbformat": 4
 },
 "nbformat": 4,
 "nbformat_minor": 2
}
