{
 "cells": [
  {
   "cell_type": "code",
   "execution_count": 2,
   "metadata": {},
   "outputs": [
    {
     "name": "stdout",
     "output_type": "stream",
     "text": [
      "-1\n"
     ]
    }
   ],
   "source": [
    "N= int(input())\n",
    "M= int(input())\n",
    "def is_prime(num):\n",
    "    cnt = 0\n",
    "    for i in range(2, int(num**1/2)+1):\n",
    "        cnt += 1 if num%i ==0 else 0\n",
    "    return True if cnt == 0 and num > 1 else False\n",
    "min_prime = -1\n",
    "sum = 0\n",
    "for num in range(N, M+1):\n",
    "    if is_prime(num):\n",
    "        sum+=num\n",
    "        if min_prime == -1:\n",
    "            min_prime = num\n",
    "\n",
    "if min_prime == -1:\n",
    "    print(min_prime)\n",
    "else:\n",
    "    print(sum)\n",
    "    print(min_prime)\n",
    "        \n",
    "\n"
   ]
  }
 ],
 "metadata": {
  "kernelspec": {
   "display_name": "Python 3",
   "language": "python",
   "name": "python3"
  },
  "language_info": {
   "codemirror_mode": {
    "name": "ipython",
    "version": 3
   },
   "file_extension": ".py",
   "mimetype": "text/x-python",
   "name": "python",
   "nbconvert_exporter": "python",
   "pygments_lexer": "ipython3",
   "version": "3.6.7"
  },
  "orig_nbformat": 4
 },
 "nbformat": 4,
 "nbformat_minor": 2
}
