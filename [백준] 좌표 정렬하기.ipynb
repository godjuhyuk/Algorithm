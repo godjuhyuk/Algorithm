{
 "cells": [
  {
   "cell_type": "code",
   "execution_count": 1,
   "metadata": {},
   "outputs": [
    {
     "name": "stdout",
     "output_type": "stream",
     "text": [
      "[[1, -1], [1, 1], [2, 2]]\n"
     ]
    }
   ],
   "source": [
    "print(sorted([[1,1], [1,-1], [2,2]]))"
   ]
  },
  {
   "cell_type": "code",
   "execution_count": 7,
   "metadata": {},
   "outputs": [
    {
     "name": "stdout",
     "output_type": "stream",
     "text": [
      "-5 -12\n",
      "1 -100\n",
      "1 -1\n",
      "2 -100\n",
      "2 2\n"
     ]
    }
   ],
   "source": [
    "import sys\n",
    "N= int(input())\n",
    "# arr = [list(map(int, input().split())) for _ in range(N) ]\n",
    "arr = [list(map(int, sys.stdin.readline().split())) for _ in range(N) ]\n",
    "for i in sorted(arr):\n",
    "    sys.stdout.write(' '.join(map(str, i)) + '\\n')\n",
    "    # print(*i)"
   ]
  },
  {
   "cell_type": "code",
   "execution_count": null,
   "metadata": {},
   "outputs": [],
   "source": [
    "import sys\n",
    "\n",
    "def cond(dot):\n",
    "    x, y = dot.split()\n",
    "    return int(x) + int(y)/1000000\n",
    "\n",
    "dots = sorted(sys.stdin.readlines()[1:], key=lambda x: cond(x))\n",
    "print(''.join(dots))"
   ]
  },
  {
   "cell_type": "code",
   "execution_count": null,
   "metadata": {},
   "outputs": [],
   "source": []
  },
  {
   "cell_type": "code",
   "execution_count": null,
   "metadata": {},
   "outputs": [],
   "source": []
  }
 ],
 "metadata": {
  "kernelspec": {
   "display_name": "base",
   "language": "python",
   "name": "python3"
  },
  "language_info": {
   "codemirror_mode": {
    "name": "ipython",
    "version": 3
   },
   "file_extension": ".py",
   "mimetype": "text/x-python",
   "name": "python",
   "nbconvert_exporter": "python",
   "pygments_lexer": "ipython3",
   "version": "3.9.13"
  },
  "orig_nbformat": 4
 },
 "nbformat": 4,
 "nbformat_minor": 2
}
