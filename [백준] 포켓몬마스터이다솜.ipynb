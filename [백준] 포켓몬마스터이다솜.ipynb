{
 "cells": [
  {
   "cell_type": "code",
   "execution_count": null,
   "metadata": {},
   "outputs": [],
   "source": [
    "import sys\n",
    "N, M = map(int, input().split())\n",
    "arr = [x.strip() for x in sys.stdin.readlines()]\n",
    "poke_arr, test_arr = arr[:N], arr[N:N+M]\n",
    "ans, ans2 = [], {}\n",
    "\n",
    "for idx, val in enumerate(poke_arr):\n",
    "    ans2[val] = str(idx+1)\n",
    "\n",
    "for a in test_arr:\n",
    "    if a.isdigit() is True:\n",
    "        ans.append(poke_arr[int(a)-1])\n",
    "    else:\n",
    "        ans.append(ans2[a])\n",
    "\n",
    "print('\\n'.join(ans))"
   ]
  }
 ],
 "metadata": {
  "language_info": {
   "name": "python"
  },
  "orig_nbformat": 4
 },
 "nbformat": 4,
 "nbformat_minor": 2
}
