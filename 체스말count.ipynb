{
 "cells": [
  {
   "cell_type": "code",
   "execution_count": 3,
   "metadata": {},
   "outputs": [
    {
     "name": "stdout",
     "output_type": "stream",
     "text": [
      "-1 0 0 1 0 7\n"
     ]
    }
   ],
   "source": [
    "queen, king, look, bishop, knight, pawn = map(int, input().split())\n",
    "origin_cnt = {\n",
    "    'queen' : 1,\n",
    "    'king' : 1,\n",
    "    'look' : 2,\n",
    "    'bishop' : 2,\n",
    "    'knight' : 2,\n",
    "    'pawn' : 8,\n",
    "}\n",
    "find_cnt = {\n",
    "    'queen' : queen,\n",
    "    'king' : king,\n",
    "    'look' : look,\n",
    "    'bishop' : bishop,\n",
    "    'knight' : knight,\n",
    "    'pawn' : pawn,\n",
    "}\n",
    "\n",
    "return_dict = {\n",
    "    'queen' : 0,\n",
    "    'king' : 0,\n",
    "    'look' : 0,\n",
    "    'bishop' : 0,\n",
    "    'knight' : 0,\n",
    "    'pawn' : 0,\n",
    "}\n",
    "\n",
    "return_arr = []\n",
    "for name in list(find_cnt.keys()):\n",
    "    if origin_cnt[name] != find_cnt[name]:\n",
    "        return_dict[name] = origin_cnt[name] - find_cnt[name]\n",
    "    else:\n",
    "        return_dict[name] = 0\n",
    "\n",
    "print(*list(return_dict.values()))\n"
   ]
  },
  {
   "cell_type": "code",
   "execution_count": 32,
   "metadata": {},
   "outputs": [
    {
     "name": "stdout",
     "output_type": "stream",
     "text": [
      "1 0 0 0 0 1\n"
     ]
    }
   ],
   "source": [
    "# return_dict = {\n",
    "#     'queen' : 0,\n",
    "#     'king' : 0,\n",
    "#     'look' : 0,\n",
    "#     'bishop' : 0,\n",
    "#     'knight' : 0,\n",
    "#     'pawn' : 0,\n",
    "# }\n",
    "\n",
    "return_arr = []\n",
    "for name in list(find_cnt.keys()):\n",
    "    if origin_cnt[name] != find_cnt[name]:\n",
    "        # return_dict[name] = origin_cnt[name] - find_cnt[name]\n",
    "        return_arr.append(origin_cnt[name] - find_cnt[name])\n",
    "    else:\n",
    "        return_arr.append(0)\n",
    "\n",
    "print(return_arr[0], return_arr[1], return_arr[2], return_arr[3], return_arr[4], return_arr[5])\n",
    "\n",
    "\n",
    "        "
   ]
  },
  {
   "cell_type": "code",
   "execution_count": 36,
   "metadata": {},
   "outputs": [
    {
     "name": "stdout",
     "output_type": "stream",
     "text": [
      "-1 0 0 1 0 7\n"
     ]
    }
   ],
   "source": [
    "print(*return_arr)"
   ]
  }
 ],
 "metadata": {
  "interpreter": {
   "hash": "085600a7aa13deceb8deb0fe24866ff20c45f3fe42a7fd427e717b2e61e27c6a"
  },
  "kernelspec": {
   "display_name": "Python 3.10.1 64-bit",
   "language": "python",
   "name": "python3"
  },
  "language_info": {
   "codemirror_mode": {
    "name": "ipython",
    "version": 3
   },
   "file_extension": ".py",
   "mimetype": "text/x-python",
   "name": "python",
   "nbconvert_exporter": "python",
   "pygments_lexer": "ipython3",
   "version": "3.10.1"
  },
  "orig_nbformat": 4
 },
 "nbformat": 4,
 "nbformat_minor": 2
}
