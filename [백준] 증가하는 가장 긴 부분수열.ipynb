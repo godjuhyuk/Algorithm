{
 "cells": [
  {
   "cell_type": "code",
   "execution_count": 11,
   "metadata": {},
   "outputs": [
    {
     "data": {
      "text/plain": [
       "[1, 3, 4]"
      ]
     },
     "execution_count": 11,
     "metadata": {},
     "output_type": "execute_result"
    }
   ],
   "source": [
    "list(set([3,3,3,1,4]))"
   ]
  },
  {
   "cell_type": "code",
   "execution_count": 26,
   "metadata": {},
   "outputs": [
    {
     "data": {
      "text/plain": [
       "0.3956056893519643"
      ]
     },
     "execution_count": 26,
     "metadata": {},
     "output_type": "execute_result"
    }
   ],
   "source": [
    "53764/135903"
   ]
  },
  {
   "cell_type": "code",
   "execution_count": 44,
   "metadata": {},
   "outputs": [
    {
     "name": "stdout",
     "output_type": "stream",
     "text": [
      "11\n"
     ]
    },
    {
     "ename": "NameError",
     "evalue": "name 'd' is not defined",
     "output_type": "error",
     "traceback": [
      "\u001b[1;31m---------------------------------------------------------------------------\u001b[0m",
      "\u001b[1;31mNameError\u001b[0m                                 Traceback (most recent call last)",
      "Cell \u001b[1;32mIn[44], line 59\u001b[0m\n\u001b[0;32m     31\u001b[0m     \u001b[39mprint\u001b[39m(d)\n\u001b[0;32m     33\u001b[0m         \u001b[39m# print(temp_arr)\u001b[39;00m\n\u001b[0;32m     34\u001b[0m         \u001b[39m# if num_arr[i] > d[i-1][1][-1]:\u001b[39;00m\n\u001b[0;32m     35\u001b[0m         \u001b[39m#     d[i][0] = d[i-1][0] + 1\u001b[39;00m\n\u001b[1;32m   (...)\u001b[0m\n\u001b[0;32m     57\u001b[0m     \u001b[39m# return d[-1][0], temp_arr\u001b[39;00m\n\u001b[0;32m     58\u001b[0m     \u001b[39m# print(test)\u001b[39;00m\n\u001b[1;32m---> 59\u001b[0m sol(num_arr, N)\n",
      "Cell \u001b[1;32mIn[44], line 31\u001b[0m, in \u001b[0;36msol\u001b[1;34m(num_arr, N)\u001b[0m\n\u001b[0;32m     10\u001b[0m \u001b[39mprint\u001b[39m(\u001b[39mmax\u001b[39m(dp))\n\u001b[0;32m     11\u001b[0m \u001b[39m# _min = num_arr[0]\u001b[39;00m\n\u001b[0;32m     12\u001b[0m \u001b[39m# d = [[1, [num_arr[0]]]]\u001b[39;00m\n\u001b[0;32m     13\u001b[0m \u001b[39m# min_change = False\u001b[39;00m\n\u001b[1;32m   (...)\u001b[0m\n\u001b[0;32m     29\u001b[0m     \u001b[39m#             d[-1][1].append(num_arr[i])\u001b[39;00m\n\u001b[0;32m     30\u001b[0m     \u001b[39m# min_change = False    \u001b[39;00m\n\u001b[1;32m---> 31\u001b[0m \u001b[39mprint\u001b[39m(d)\n",
      "\u001b[1;31mNameError\u001b[0m: name 'd' is not defined"
     ]
    }
   ],
   "source": [
    "N, num_arr= int(input()), list(map(int, input().split()))\n",
    "# num_arr = [110, 20, 330, 330, 40, 550, 60, 770, 30, 110, 80, 990, 330, 1110, 100, 110,120, 140, 1, 2, 3, 4, 5, 150, 160, 170]\n",
    "# N = len(num_arr)\n",
    "def sol(num_arr, N):\n",
    "    dp = [1] * N \n",
    "    for i in range(N):\n",
    "        for j in range(i):\n",
    "            if num_arr[j] < num_arr[i] and dp[j] + 1 > dp[i]:\n",
    "                dp[i] = dp[j] + 1\n",
    "    print(max(dp))\n",
    "    # _min = num_arr[0]\n",
    "    # d = [[1, [num_arr[0]]]]\n",
    "    # min_change = False\n",
    "\n",
    "    #     if num_arr[i] < _min:\n",
    "    #         _min = num_arr[i]\n",
    "    #         min_change = True\n",
    "        # for j in range(len(d)):\n",
    "        #     if _min < d[j][1][0] and min_change:\n",
    "        #         d.append([1, [_min]])\n",
    "            \n",
    "        #     if num_arr[i] > d[j][1][-1]:\n",
    "        #         d[j][1].append(num_arr[i])\n",
    "        #         d[j][0] += 1\n",
    "        #     elif len(d[j][1]) > 1:\n",
    "        #         if num_arr[i] < d[j][1][-1] and num_arr[i] > d[j][1][-2]:\n",
    "        #             d.append([d[j][0], d[j][1].copy()])\n",
    "        #             d[-1][1].pop()\n",
    "        #             d[-1][1].append(num_arr[i])\n",
    "        # min_change = False    \n",
    "            \n",
    "        # print(temp_arr)\n",
    "        # if num_arr[i] > d[i-1][1][-1]:\n",
    "        #     d[i][0] = d[i-1][0] + 1\n",
    "        #     d[i][1].append(num_arr[i])\n",
    "        # else:\n",
    "        #     d[i] = d[i-1].copy()\n",
    "        # if num_arr[i] < temp_arr[-1]:\n",
    "        #     temp_arr.pop()\n",
    "        #     if len(temp_arr) == 0:\n",
    "        #         temp_arr.append(num_arr[i])\n",
    "        #     elif max(temp_arr) < num_arr[i]:\n",
    "        #         temp_arr.append(num_arr[i])\n",
    "        # elif num_arr[i] > temp_arr[-1] and len(temp_arr) >= 1:\n",
    "        #     if num_arr[i] > max(temp_arr):\n",
    "        #         temp_arr.append(num_arr[i])\n",
    "        #         cnt += 1\n",
    "\n",
    "        # if  cnt > d[i][0]:\n",
    "        #     d[i][0] = cnt\n",
    "        #     d[i][1] = [num_arr[i]]\n",
    "        # if num_arr[i] < temp_arr[0]:\n",
    "        #     print(temp_arr)\n",
    "        #     temp_arr = [num_arr[i]]\n",
    "        #     cnt = 1\n",
    "    # return d[-1][0], temp_arr\n",
    "    # print(test)\n",
    "sol(num_arr, N)\n"
   ]
  },
  {
   "cell_type": "code",
   "execution_count": 57,
   "metadata": {},
   "outputs": [
    {
     "name": "stdout",
     "output_type": "stream",
     "text": [
      "[110, 20, 330, 330, 40, 550, 60, 770, 30, 110, 80, 990, 330, 1110, 100, 110, 120, 140, 1, 2, 3, 4, 5, 150, 160, 170, 40]\n",
      "[-1, -1, 0, 0, 1, 2, 4, 5, 1, 6, 6, 7, 9, 11, 10, 14, 15, 16, -1, 18, 19, 20, 21, 17, 23, 24, 22]\n"
     ]
    }
   ],
   "source": [
    "num_arr = [110, 20, 330, 330, 40, 550, 60, 770, 30, 110, 80, 990, 330, 1110, 100, 110, 120, 140, 1, 2, 3, 4, 5, 150, 160, 170, 40]\n",
    "\n",
    "N = len(num_arr)\n",
    "lis_lengths = [1] * N\n",
    "prev_indices = [-1] * N\n",
    "print(num_arr)\n",
    "for i in range(N):\n",
    "    for j in range(i):\n",
    "        if num_arr[j] < num_arr[i] and lis_lengths[j] + 1 > lis_lengths[i]:\n",
    "            lis_lengths[i] = lis_lengths[j] + 1\n",
    "            prev_indices[i] = j\n",
    "print(prev_indices)\n",
    "max_length = max(lis_lengths)\n",
    "max_index = lis_lengths.index(max_length)\n",
    "lis = []\n",
    "curr_index = max_index\n",
    "while curr_index != -1:\n",
    "    lis.append(num_arr[curr_index])\n",
    "    curr_index = prev_indices[curr_index]\n",
    "\n",
    "# lis.reverse()\n",
    "\n",
    "# print(\"가장 긴 증가 부분 수열:\", lis)\n"
   ]
  },
  {
   "cell_type": "code",
   "execution_count": 53,
   "metadata": {},
   "outputs": [
    {
     "data": {
      "text/plain": [
       "26"
      ]
     },
     "execution_count": 53,
     "metadata": {},
     "output_type": "execute_result"
    }
   ],
   "source": [
    "N"
   ]
  },
  {
   "cell_type": "code",
   "execution_count": 49,
   "metadata": {},
   "outputs": [
    {
     "name": "stdout",
     "output_type": "stream",
     "text": [
      "[20, 30, 60, 80, 100, 110, 120, 140, 150, 160, 170]\n",
      "11\n"
     ]
    }
   ],
   "source": [
    "# 1등 풀이\n",
    "# 예) stack = [20, 40, 60, 80, 330, 1110], i = 100\n",
    "def sol():\n",
    "    nums = [110, 20, 330, 330, 40, 550, 60, 770, 30, 110, 80, 990, 330, 1110, 100, 110, 120, 140, 150, 160, 170]\n",
    "    N = len(nums)\n",
    "    # N = int(input())\n",
    "    # nums = [*map(int,input().split())]\n",
    "    stack = [nums[0]]\n",
    "\n",
    "    for i in nums[1:]:\n",
    "        if stack[-1] < i:\n",
    "            stack.append(i)\n",
    "        else:\n",
    "            for j,v in enumerate(stack):\n",
    "                if i <= v:\n",
    "                    stack[j] = i\n",
    "                    break\n",
    "    print(stack)\n",
    "    return len(stack)\n",
    "\n",
    "print(sol())"
   ]
  }
 ],
 "metadata": {
  "kernelspec": {
   "display_name": "Python 3",
   "language": "python",
   "name": "python3"
  },
  "language_info": {
   "codemirror_mode": {
    "name": "ipython",
    "version": 3
   },
   "file_extension": ".py",
   "mimetype": "text/x-python",
   "name": "python",
   "nbconvert_exporter": "python",
   "pygments_lexer": "ipython3",
   "version": "3.11.1"
  },
  "orig_nbformat": 4
 },
 "nbformat": 4,
 "nbformat_minor": 2
}
