{
 "cells": [
  {
   "cell_type": "code",
   "execution_count": 3,
   "metadata": {},
   "outputs": [
    {
     "name": "stdout",
     "output_type": "stream",
     "text": [
      "3999999919\n"
     ]
    }
   ],
   "source": [
    "def is_prime(num):\n",
    "    for i in range(2, int(num**0.5) + 1):\n",
    "        if num%i == 0:\n",
    "            return False\n",
    "    return True if num != 1 else False\n",
    "\n",
    "for _ in  range(int(input())):\n",
    "    n = int(input())\n",
    "    if n <= 2:\n",
    "        print(2)\n",
    "    elif n%2 == 0:\n",
    "        for i in range(n+1, 2*n, 2):\n",
    "            if is_prime(i) is True:\n",
    "                print(i)\n",
    "                break\n",
    "    else:\n",
    "        for i in range(n, 2*n + 1, 2):\n",
    "            if is_prime(i) is True:\n",
    "                print(i)\n",
    "                break\n"
   ]
  },
  {
   "cell_type": "code",
   "execution_count": 2,
   "metadata": {},
   "outputs": [
    {
     "data": {
      "text/plain": [
       "True"
      ]
     },
     "execution_count": 2,
     "metadata": {},
     "output_type": "execute_result"
    }
   ],
   "source": [
    "import random\n",
    "\n",
    "def is_prime(n, k=5):\n",
    "    if n < 2: \n",
    "        return False\n",
    "    if n <= 3: \n",
    "        return True\n",
    "    if n % 2 == 0: \n",
    "        return False\n",
    "\n",
    "    # n-1 = 2^r * d 계산\n",
    "    r, d = 0, n-1\n",
    "    while d % 2 == 0:\n",
    "        r += 1\n",
    "        d //= 2\n",
    "\n",
    "    # k번 검사 수행\n",
    "    for _ in range(k):\n",
    "        a = random.randint(2, n-2) # 2 <= a <= n-2\n",
    "        x = pow(a, d, n) # a^d mod n\n",
    "\n",
    "        # a^d mod n == 1 or a^((2^j)*d) mod n == -1\n",
    "        if x == 1 or x == n-1:\n",
    "            continue\n",
    "\n",
    "        for j in range(r-1):\n",
    "            x = pow(x, 2, n)\n",
    "            if x == n-1:\n",
    "                break\n",
    "        else:\n",
    "            return False\n",
    "\n",
    "    return True\n",
    "\n",
    "is_prime(3999999919, 100)\n"
   ]
  },
  {
   "cell_type": "code",
   "execution_count": 1,
   "metadata": {},
   "outputs": [
    {
     "name": "stdout",
     "output_type": "stream",
     "text": [
      "3999999919\n"
     ]
    }
   ],
   "source": [
    "# 밀러라빈 알고리즘\n",
    "def t():\n",
    " h=[3999999919]\n",
    " e=[]\n",
    " for q in h:\n",
    "  while not u(q):q+=1\n",
    "  e.append(q)\n",
    " print(\"\\n\".join(map(str, e)))\n",
    "def u(i):\n",
    " c=(2,3,61)\n",
    " if i<=66:return i in(2,3,5,7,11,13,17,19,23,29,31,37,41,43,47,53,59,61)\n",
    " k=i-1;b=0\n",
    " while k%2==0:k//=2;b+=1\n",
    " for r in c:\n",
    "  o=pow(r,k,i)\n",
    "  if o==1 or o==i-1:continue\n",
    "  for _ in range(b-1):\n",
    "   o=pow(o,2,i)\n",
    "   if o==1:return False\n",
    "   elif o==i-1:break\n",
    "  else:return False\n",
    " return True\n",
    "t()"
   ]
  },
  {
   "cell_type": "code",
   "execution_count": null,
   "metadata": {},
   "outputs": [],
   "source": [
    "def is_prime(num):\n",
    "\n",
    "    for i in range(2, int(num**0.5) + 1):\n",
    "        if num%i == 0:\n",
    "            return False\n",
    "    return True if num != 1 else False\n",
    "\n",
    "for _ in  range(int(input())):\n",
    "    n = int(input())\n",
    "    if n <= 2:\n",
    "        print(2)\n",
    "    elif n%2 == 0:\n",
    "        for i in range(n+1, 2*n, 2):\n",
    "            if is_prime(i) is True:\n",
    "                print(i)\n",
    "                break\n",
    "    else:\n",
    "        for i in range(n, 2*n + 1, 2):\n",
    "            if is_prime(i) is True:\n",
    "                print(i)\n",
    "                break\n"
   ]
  },
  {
   "cell_type": "code",
   "execution_count": 27,
   "metadata": {},
   "outputs": [
    {
     "name": "stdout",
     "output_type": "stream",
     "text": [
      "2\n",
      "2\n",
      "2\n",
      "2\n"
     ]
    }
   ],
   "source": [
    "def is_prime(num):\n",
    "    for i in range(2, int(num**0.5) + 1):\n",
    "        if num%i == 0:\n",
    "            return False\n",
    "    return True if num != 1 else False\n",
    "\n",
    "while True:\n",
    "    n = int(input())\n",
    "    if n == 0: break\n",
    "    cnt = 0\n",
    "    if n == 1:\n",
    "        cnt+=1\n",
    "    elif n == 2:\n",
    "        cnt = 2\n",
    "    elif n%2 == 0:\n",
    "        for i in range(n+1, 2*n, 2):\n",
    "            if is_prime(i) is True:\n",
    "                cnt+=1\n",
    "    else:\n",
    "        for i in range(n, 2*n + 1, 2):\n",
    "            if is_prime(i) is True:\n",
    "                cnt+=1\n",
    "    print(cnt)\n",
    "\n"
   ]
  }
 ],
 "metadata": {
  "kernelspec": {
   "display_name": "base",
   "language": "python",
   "name": "python3"
  },
  "language_info": {
   "codemirror_mode": {
    "name": "ipython",
    "version": 3
   },
   "file_extension": ".py",
   "mimetype": "text/x-python",
   "name": "python",
   "nbconvert_exporter": "python",
   "pygments_lexer": "ipython3",
   "version": "3.9.13"
  },
  "orig_nbformat": 4
 },
 "nbformat": 4,
 "nbformat_minor": 2
}
