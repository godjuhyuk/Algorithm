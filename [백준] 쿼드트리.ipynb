{
 "cells": [
  {
   "cell_type": "code",
   "execution_count": null,
   "metadata": {},
   "outputs": [],
   "source": [
    "import sys\n",
    "\n",
    "\n",
    "def check_grid(row, col, size):\n",
    "    for i in range(row, row+size):\n",
    "        for j in range(col, col+size):\n",
    "            if grid[i][j] != grid[row][col]:\n",
    "                return False\n",
    "        \n",
    "    return True\n",
    "\n",
    "\n",
    "def partition(row, col, size, depths):\n",
    "    global ans;\n",
    "    if check_grid(row, col, size):\n",
    "        ans += grid[row][col]\n",
    "    else:\n",
    "        ans += \"(\"\n",
    "        partition(row, col, size, depths+1)\n",
    "        partition(row+size, col, size, depths+1)\n",
    "        partition(row, col+size, size, depths+1)\n",
    "        partition(row+size, col+size, size, depths+1)\n",
    "        ans += \")\"\n",
    "\n",
    "n = int(sys.stdin.readline())\n",
    "black, white, depths = 0, 0, 0\n",
    "grid = [[int(x) for x in sys.stdin.readline().split(\"\")] for _ in range(n)]\n",
    "ans = \"(\"\n",
    "partition(0, 0, n, 0)"
   ]
  }
 ],
 "metadata": {
  "language_info": {
   "name": "python"
  },
  "orig_nbformat": 4
 },
 "nbformat": 4,
 "nbformat_minor": 2
}
