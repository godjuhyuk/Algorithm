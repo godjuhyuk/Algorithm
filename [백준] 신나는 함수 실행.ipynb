{
 "cells": [
  {
   "cell_type": "code",
   "execution_count": 25,
   "metadata": {},
   "outputs": [],
   "source": [
    "a= [[ [ [0] for _ in range(20)] for _ in range(20)] for _ in range(20) ]"
   ]
  },
  {
   "cell_type": "code",
   "execution_count": 14,
   "metadata": {},
   "outputs": [
    {
     "data": {
      "text/plain": [
       "0"
      ]
     },
     "execution_count": 14,
     "metadata": {},
     "output_type": "execute_result"
    }
   ],
   "source": [
    "a[1][1][0]"
   ]
  },
  {
   "cell_type": "code",
   "execution_count": 29,
   "metadata": {},
   "outputs": [
    {
     "ename": "TypeError",
     "evalue": "str() argument 'encoding' must be str, not int",
     "output_type": "error",
     "traceback": [
      "\u001b[1;31m---------------------------------------------------------------------------\u001b[0m",
      "\u001b[1;31mTypeError\u001b[0m                                 Traceback (most recent call last)",
      "Cell \u001b[1;32mIn[29], line 1\u001b[0m\n\u001b[1;32m----> 1\u001b[0m \u001b[39mstr\u001b[39;49m(\u001b[39m1\u001b[39;49m,\u001b[39m2\u001b[39;49m,\u001b[39m3\u001b[39;49m)\n",
      "\u001b[1;31mTypeError\u001b[0m: str() argument 'encoding' must be str, not int"
     ]
    }
   ],
   "source": [
    "str(1,2,3)"
   ]
  },
  {
   "cell_type": "code",
   "execution_count": 70,
   "metadata": {},
   "outputs": [],
   "source": [
    "\n",
    "\n",
    "def w(a,b,c):\n",
    "    if a<=0 or b<=0 or c<=0:\n",
    "        return 1\n",
    "    elif a>20 or b>20 or c>20:\n",
    "        return 2**20\n",
    "    elif max(a,b,c) != a:\n",
    "        return 2**a\n",
    "    elif a== b and b==c:\n",
    "        return 2**a\n",
    "    else:\n",
    "        return w(a-1, b, c) + w(a-1, b-1, c) + w(a-1, b, c-1) - w(a-1, b-1, c-1)\n",
    "\n",
    "a = {}\n",
    "for i in range(0, 21):\n",
    "    for j in range(0, 21):\n",
    "        for k in range(0, 21):\n",
    "            if i==0 or j==0 or k == 0: \n",
    "                a[str([i,j,k])] = 1\n",
    "            elif max(i,j,k) != i:\n",
    "                a[str([i,j,k])] = 2**i\n",
    "            elif max(i, j, k) == i and (i == j or i == k):\n",
    "                a[str([i,j,k])] = 2**i\n",
    "            else:\n",
    "                a[str([i,j,k])] = a[str([i-1,j,k])] + a[str([i-1,j-1,k])] + a[str([i-1,j,k-1])] - a[str([i-1,j-1,k-1])]"
   ]
  },
  {
   "cell_type": "code",
   "execution_count": 72,
   "metadata": {},
   "outputs": [
    {
     "data": {
      "text/plain": [
       "2067714"
      ]
     },
     "execution_count": 72,
     "metadata": {},
     "output_type": "execute_result"
    }
   ],
   "source": [
    "a['[19, 4, 6]']"
   ]
  },
  {
   "cell_type": "code",
   "execution_count": 2,
   "metadata": {},
   "outputs": [
    {
     "name": "stdout",
     "output_type": "stream",
     "text": [
      "w(-1, 21, 4) = 1\n"
     ]
    },
    {
     "ename": "ValueError",
     "evalue": "not enough values to unpack (expected 3, got 0)",
     "output_type": "error",
     "traceback": [
      "\u001b[1;31m---------------------------------------------------------------------------\u001b[0m",
      "\u001b[1;31mValueError\u001b[0m                                Traceback (most recent call last)",
      "Cell \u001b[1;32mIn[2], line 18\u001b[0m\n\u001b[0;32m     15\u001b[0m                 a[\u001b[39mstr\u001b[39m([i,j,k])] \u001b[39m=\u001b[39m a[\u001b[39mstr\u001b[39m([i\u001b[39m-\u001b[39m\u001b[39m1\u001b[39m,j,k])] \u001b[39m+\u001b[39m a[\u001b[39mstr\u001b[39m([i\u001b[39m-\u001b[39m\u001b[39m1\u001b[39m,j\u001b[39m-\u001b[39m\u001b[39m1\u001b[39m,k])] \u001b[39m+\u001b[39m a[\u001b[39mstr\u001b[39m([i\u001b[39m-\u001b[39m\u001b[39m1\u001b[39m,j,k\u001b[39m-\u001b[39m\u001b[39m1\u001b[39m])] \u001b[39m-\u001b[39m a[\u001b[39mstr\u001b[39m([i\u001b[39m-\u001b[39m\u001b[39m1\u001b[39m,j\u001b[39m-\u001b[39m\u001b[39m1\u001b[39m,k\u001b[39m-\u001b[39m\u001b[39m1\u001b[39m])]\n\u001b[0;32m     17\u001b[0m \u001b[39mwhile\u001b[39;00m \u001b[39mTrue\u001b[39;00m:\n\u001b[1;32m---> 18\u001b[0m     i, j, k \u001b[39m=\u001b[39m \u001b[39mmap\u001b[39m(\u001b[39mint\u001b[39m, \u001b[39minput\u001b[39m()\u001b[39m.\u001b[39msplit())\n\u001b[0;32m     19\u001b[0m     \u001b[39m# i, j, k = map(int, sys.stdin.readline().split())\u001b[39;00m\n\u001b[0;32m     20\u001b[0m     \u001b[39mif\u001b[39;00m i \u001b[39m==\u001b[39m \u001b[39m-\u001b[39m\u001b[39m1\u001b[39m \u001b[39mand\u001b[39;00m j \u001b[39m==\u001b[39m \u001b[39m-\u001b[39m\u001b[39m1\u001b[39m \u001b[39mand\u001b[39;00m k \u001b[39m==\u001b[39m \u001b[39m-\u001b[39m\u001b[39m1\u001b[39m: \u001b[39mbreak\u001b[39;00m\n",
      "\u001b[1;31mValueError\u001b[0m: not enough values to unpack (expected 3, got 0)"
     ]
    }
   ],
   "source": [
    "import sys\n",
    "a = {}\n",
    "for i in range(0, 21):\n",
    "    for j in range(0, 21):\n",
    "        for k in range(0, 21):\n",
    "            if i==0 or j==0 or k == 0: \n",
    "                a[str([i,j,k])] = 1\n",
    "            elif i>20 or j>20 or k>20:\n",
    "                a[str([i,j,k])] = 2**20\n",
    "            elif max(i,j,k) != i:\n",
    "                a[str([i,j,k])] = 2**i\n",
    "            elif max(i, j, k) == i and (i == j or i == k):\n",
    "                a[str([i,j,k])] = 2**i\n",
    "            else:\n",
    "                a[str([i,j,k])] = a[str([i-1,j,k])] + a[str([i-1,j-1,k])] + a[str([i-1,j,k-1])] - a[str([i-1,j-1,k-1])]\n",
    "\n",
    "while True:\n",
    "    i, j, k = map(int, input().split())\n",
    "    # i, j, k = map(int, sys.stdin.readline().split())\n",
    "    if i == -1 and j == -1 and k == -1: break\n",
    "    elif i<= 0 or j <= 0 or k<=0:\n",
    "        print(f'w({i}, {j}, {k}) = 1')\n",
    "    elif max(i,j,k)>20: print(f'w({i}, {j}, {k}) = {2**20}')\n",
    "    else:\n",
    "        print(f'w({i}, {j}, {k}) = {a[str([i, j, k])]}')"
   ]
  },
  {
   "cell_type": "code",
   "execution_count": null,
   "metadata": {},
   "outputs": [],
   "source": [
    "# w(9, 4, 5) = 217\n",
    "# w(15, 3, 10) = 8077\n",
    "# w(15, 3, 2) = 4671\n",
    "# w(15, 3, 4) = 45985\n",
    "# w(16, 3, 2) = 6157\n",
    "# w(17, 3, 2) = 7974\n",
    "# w(18, 3, 2) = 10168\n",
    "# w(19, 3, 2) = 12788\n",
    "# w(19, 3, 4) = 253100\n",
    "# w(19, 3, 6) = 1177526\n",
    "# w(19, 4, 6) = 2067714\n",
    "from itertools import permutations\n",
    "len(list(permutations(range(19), 15)))"
   ]
  }
 ],
 "metadata": {
  "kernelspec": {
   "display_name": "Python 3",
   "language": "python",
   "name": "python3"
  },
  "language_info": {
   "codemirror_mode": {
    "name": "ipython",
    "version": 3
   },
   "file_extension": ".py",
   "mimetype": "text/x-python",
   "name": "python",
   "nbconvert_exporter": "python",
   "pygments_lexer": "ipython3",
   "version": "3.11.1"
  },
  "orig_nbformat": 4
 },
 "nbformat": 4,
 "nbformat_minor": 2
}
