{
 "cells": [
  {
   "cell_type": "code",
   "execution_count": 15,
   "metadata": {},
   "outputs": [
    {
     "name": "stdout",
     "output_type": "stream",
     "text": [
      "[[71, 39, 44], [0, 0, 0], [0, 0, 0], [0, 0, 0], [0, 0, 0], [0, 0, 0], [0, 0, 0], [0, 0, 0]]\n",
      "[[71, 39, 44], [71, 127, 94], [0, 0, 0], [0, 0, 0], [0, 0, 0], [0, 0, 0], [0, 0, 0], [0, 0, 0]]\n",
      "[[71, 39, 44], [71, 127, 94], [145, 108, 134], [0, 0, 0], [0, 0, 0], [0, 0, 0], [0, 0, 0], [0, 0, 0]]\n",
      "[[71, 39, 44], [71, 127, 94], [145, 108, 134], [197, 163, 208], [0, 0, 0], [0, 0, 0], [0, 0, 0], [0, 0, 0]]\n",
      "[[71, 39, 44], [71, 127, 94], [145, 108, 134], [197, 163, 208], [246, 255, 174], [0, 0, 0], [0, 0, 0], [0, 0, 0]]\n",
      "[[71, 39, 44], [71, 127, 94], [145, 108, 134], [197, 163, 208], [246, 255, 174], [239, 187, 261], [0, 0, 0], [0, 0, 0]]\n",
      "[[71, 39, 44], [71, 127, 94], [145, 108, 134], [197, 163, 208], [246, 255, 174], [239, 187, 261], [234, 264, 216], [0, 0, 0]]\n",
      "[[71, 39, 44], [71, 127, 94], [145, 108, 134], [197, 163, 208], [246, 255, 174], [239, 187, 261], [234, 264, 216], [276, 282, 253]]\n"
     ]
    }
   ],
   "source": [
    "# 3\n",
    "# 26 40 83 => 0 14 57\n",
    "# 49 60 57 => 0 11 8\n",
    "# 13 89 99 => 0 76 86\n",
    "\n",
    "# 8\n",
    "# 71 39 44 =>   32 0 5  => 27 0 0 \n",
    "# 32 83 55 =>   0 51 23 => 0 28 0\n",
    "# 51 37 63 =>   14 0 26 => 0 0 12\n",
    "# 89 29 100 =>  60 0 71 => 0 0 11\n",
    "# 83 58 11 =>   72 47 0 => 25 0 0 \n",
    "# 65 13 15 =>   52 0 2 => 50 0 0 \n",
    "# 47 25 29 =>   22 0 4 => 18 0 0\n",
    "# 60 66 19 =>   41 47 0 => 0 6 0\n",
    "\n",
    "# 100 100 5 =>  95 95 0\n",
    "# 100 100 4 =>  96 96 0\n",
    "# 100 100 5 =>  95 95 0\n",
    "# 100 5 1   =>  99 4 0\n",
    "# 100 100 10 => 90 90 0\n",
    "import sys\n",
    "N =int(input())\n",
    "# price_info = [list(map(int, input().split())) for _ in range(N)]\n",
    "price_info = [list(map(int, sys.stdin.readline().split())) for _ in range(N)]\n",
    "dp = [[0 for _ in range(3)] for _ in range(N)]\n",
    "for i in range(N):\n",
    "    for j in range(3):\n",
    "        if i == 0:\n",
    "            dp[i][j] = price_info[i][j]\n",
    "        else:\n",
    "            dp[i][j] = min(dp[i-1][(j+1) % 3], dp[i-1][(j+2) % 3]) + price_info[i][j]\n",
    "print(min(dp[-1]))\n",
    "\n",
    "\n",
    "# [[], [], []]\n",
    "# test_min = -sys.maxsizec\n",
    "# temp = [0] * 3*(2**(N-1))\n",
    "# for home_idx, arr in enumerate(price_info):\n",
    "    # for color, val in enumerate(arr):\n",
    "        # temp[home_idx * 3 + color] += val\n",
    "        \n",
    "    \n",
    "\n",
    "# for i in range(N):\n",
    "#     for j in range(3):\n",
    "#         dp[i][j].append([j, price_info[i][j]])\n",
    "\n",
    "\n",
    "        \n",
    "# _min, all_candidate = sys.maxsize, set([0,1,2])\n",
    "# def sol(price_info, candidate=all_candidate, depths=0, _sum = 0):\n",
    "#     print(_sum)\n",
    "#     global _min\n",
    "#     if depths == N and _min > _sum:\n",
    "#         # test.append(_sum)\n",
    "#         _min = _sum\n",
    "#         return\n",
    "#     elif depths == N:\n",
    "#         return\n",
    "    \n",
    "#     for i in candidate:\n",
    "#         sol(price_info, all_candidate - set([i]), depths+1, _sum + price_info[depths][i])\n",
    "# sol(price_info)\n",
    "# print(_min)"
   ]
  },
  {
   "cell_type": "code",
   "execution_count": 5,
   "metadata": {},
   "outputs": [
    {
     "data": {
      "text/plain": [
       "[[[0, 1, 2, 3, 4],\n",
       "  [0, 1, 2, 3, 4],\n",
       "  [0, 1, 2, 3, 4],\n",
       "  [0, 1, 2, 3, 4],\n",
       "  [0, 1, 2, 3, 4]],\n",
       " [[0, 1, 2, 3, 4],\n",
       "  [0, 1, 2, 3, 4],\n",
       "  [0, 1, 2, 3, 4],\n",
       "  [0, 1, 2, 3, 4],\n",
       "  [0, 1, 2, 3, 4]],\n",
       " [[0, 1, 2, 3, 4],\n",
       "  [0, 1, 2, 3, 4],\n",
       "  [0, 1, 2, 3, 4],\n",
       "  [0, 1, 2, 3, 4],\n",
       "  [0, 1, 2, 3, 4]],\n",
       " [[0, 1, 2, 3, 4],\n",
       "  [0, 1, 2, 3, 4],\n",
       "  [0, 1, 2, 3, 4],\n",
       "  [0, 1, 2, 3, 4],\n",
       "  [0, 1, 2, 3, 4]],\n",
       " [[0, 1, 2, 3, 4],\n",
       "  [0, 1, 2, 3, 4],\n",
       "  [0, 1, 2, 3, 4],\n",
       "  [0, 1, 2, 3, 4],\n",
       "  [0, 1, 2, 3, 4]]]"
      ]
     },
     "execution_count": 5,
     "metadata": {},
     "output_type": "execute_result"
    }
   ],
   "source": [
    "[[[k for k in range(5)] for x in range(5)] for _ in range(5)]\n",
    "# for i in range(5):\n",
    "#     for j in range(3):\n",
    "#         print(i,j )"
   ]
  }
 ],
 "metadata": {
  "kernelspec": {
   "display_name": "Python 3",
   "language": "python",
   "name": "python3"
  },
  "language_info": {
   "codemirror_mode": {
    "name": "ipython",
    "version": 3
   },
   "file_extension": ".py",
   "mimetype": "text/x-python",
   "name": "python",
   "nbconvert_exporter": "python",
   "pygments_lexer": "ipython3",
   "version": "3.11.1"
  },
  "orig_nbformat": 4
 },
 "nbformat": 4,
 "nbformat_minor": 2
}
