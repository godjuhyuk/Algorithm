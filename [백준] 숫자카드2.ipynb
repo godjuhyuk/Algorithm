{
 "cells": [
  {
   "cell_type": "code",
   "execution_count": 8,
   "metadata": {},
   "outputs": [
    {
     "data": {
      "text/plain": [
       "['abc']"
      ]
     },
     "execution_count": 8,
     "metadata": {},
     "output_type": "execute_result"
    }
   ],
   "source": [
    "\"abc\".s"
   ]
  },
  {
   "cell_type": "code",
   "execution_count": 3,
   "metadata": {},
   "outputs": [
    {
     "ename": "IndexError",
     "evalue": "list index out of range",
     "output_type": "error",
     "traceback": [
      "\u001b[1;31m---------------------------------------------------------------------------\u001b[0m",
      "\u001b[1;31mIndexError\u001b[0m                                Traceback (most recent call last)",
      "Cell \u001b[1;32mIn[3], line 35\u001b[0m\n\u001b[0;32m     33\u001b[0m \t\u001b[39m# grid.append(list(map(int, sys.stdin.readline().strip())))\u001b[39;00m\n\u001b[0;32m     34\u001b[0m ans \u001b[39m=\u001b[39m \u001b[39m\"\u001b[39m\u001b[39m(\u001b[39m\u001b[39m\"\u001b[39m\n\u001b[1;32m---> 35\u001b[0m partition(\u001b[39m0\u001b[39;49m, \u001b[39m0\u001b[39;49m, n, \u001b[39m0\u001b[39;49m)\u001b[39m# your code goes here\u001b[39;00m\n",
      "Cell \u001b[1;32mIn[3], line 14\u001b[0m, in \u001b[0;36mpartition\u001b[1;34m(row, col, size, depths)\u001b[0m\n\u001b[0;32m     12\u001b[0m \u001b[39mdef\u001b[39;00m \u001b[39mpartition\u001b[39m(row, col, size, depths):\n\u001b[0;32m     13\u001b[0m     \u001b[39mglobal\u001b[39;00m ans;\n\u001b[1;32m---> 14\u001b[0m     \u001b[39mif\u001b[39;00m check_grid(row, col, size):\n\u001b[0;32m     15\u001b[0m         ans \u001b[39m+\u001b[39m\u001b[39m=\u001b[39m grid[row][col]\n\u001b[0;32m     16\u001b[0m         \u001b[39mreturn\u001b[39;00m;\n",
      "Cell \u001b[1;32mIn[3], line 7\u001b[0m, in \u001b[0;36mcheck_grid\u001b[1;34m(row, col, size)\u001b[0m\n\u001b[0;32m      5\u001b[0m \u001b[39mfor\u001b[39;00m i \u001b[39min\u001b[39;00m \u001b[39mrange\u001b[39m(row, row\u001b[39m+\u001b[39msize):\n\u001b[0;32m      6\u001b[0m     \u001b[39mfor\u001b[39;00m j \u001b[39min\u001b[39;00m \u001b[39mrange\u001b[39m(col, col\u001b[39m+\u001b[39msize):\n\u001b[1;32m----> 7\u001b[0m         \u001b[39mif\u001b[39;00m grid[i][j] \u001b[39m!=\u001b[39m grid[row][col]:\n\u001b[0;32m      8\u001b[0m             \u001b[39mreturn\u001b[39;00m \u001b[39mFalse\u001b[39;00m\n\u001b[0;32m      9\u001b[0m \u001b[39mreturn\u001b[39;00m \u001b[39mTrue\u001b[39;00m\n",
      "\u001b[1;31mIndexError\u001b[0m: list index out of range"
     ]
    }
   ],
   "source": [
    "import sys\n",
    "\n",
    "\n",
    "def check_grid(row, col, size):\n",
    "    for i in range(row, row+size):\n",
    "        for j in range(col, col+size):\n",
    "            if grid[i][j] != grid[row][col]:\n",
    "                return False\n",
    "    return True\n",
    "\n",
    "\n",
    "def partition(row, col, size):\n",
    "    global ans;\n",
    "    if check_grid(row, col, size):\n",
    "        ans += grid[row][col]\n",
    "        return;\n",
    "    else:\n",
    "        size //= 2\n",
    "        ans += \"(\"\n",
    "        partition(row, col, size)\n",
    "        partition(row+size, col, size)\n",
    "        partition(row, col+size, size)\n",
    "        partition(row+size, col+size, size)\n",
    "        ans += \")\"\n",
    "        return;\n",
    "\n",
    "n = int(input())\n",
    "# n = int(sys.stdin.readline())\n",
    "black, white = 0, 0\n",
    "grid = []\n",
    "for i in range(n):\n",
    "\tgrid.append(input().split())\n",
    "\t# grid.append(list(map(int, sys.stdin.readline().strip())))\n",
    "ans = \"(\"\n",
    "partition(0, 0, n, 0)# your code goes here"
   ]
  },
  {
   "cell_type": "code",
   "execution_count": 14,
   "metadata": {},
   "outputs": [
    {
     "name": "stdout",
     "output_type": "stream",
     "text": [
      "1 1\n"
     ]
    }
   ],
   "source": [
    "import sys\n",
    "N = input()\n",
    "test= {}\n",
    "for x in map(int, input().split()):\n",
    "    if x not in test.keys():\n",
    "        test.setdefault(x, 1)\n",
    "    else:\n",
    "        test.update({x:test.get(x)+1})\n",
    "M= input()\n",
    "for x in map(int, input().split()):\n",
    "    if x in test.keys():\n",
    "        print(test.get(x), end=\" \")\n",
    "    else:\n",
    "        print(0, end=\" \")"
   ]
  }
 ],
 "metadata": {
  "kernelspec": {
   "display_name": "base",
   "language": "python",
   "name": "python3"
  },
  "language_info": {
   "codemirror_mode": {
    "name": "ipython",
    "version": 3
   },
   "file_extension": ".py",
   "mimetype": "text/x-python",
   "name": "python",
   "nbconvert_exporter": "python",
   "pygments_lexer": "ipython3",
   "version": "3.11.4"
  },
  "orig_nbformat": 4
 },
 "nbformat": 4,
 "nbformat_minor": 2
}
