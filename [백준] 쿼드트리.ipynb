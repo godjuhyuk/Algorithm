{
 "cells": [
  {
   "cell_type": "code",
   "execution_count": null,
   "metadata": {},
   "outputs": [],
   "source": [
    "import sys\n",
    "\n",
    "n = int(sys.stdin.readline())\n",
    "black, white, depths = 0, 0, 0\n",
    "grid = [[int(x) for x in sys.stdin.readline().split(\"\")] for _ in range(n)]\n",
    "\n",
    "\n",
    "def partition(row, col, size, depths):\n",
    "    if check_grid(row, col, size):\n",
    "        if grid[row][col] == 0: \n",
    "            \n",
    "    "
   ]
  }
 ],
 "metadata": {
  "language_info": {
   "name": "python"
  },
  "orig_nbformat": 4
 },
 "nbformat": 4,
 "nbformat_minor": 2
}
