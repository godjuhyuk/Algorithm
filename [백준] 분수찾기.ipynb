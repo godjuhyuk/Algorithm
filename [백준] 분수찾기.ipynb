{
 "cells": [
  {
   "cell_type": "code",
   "execution_count": 35,
   "metadata": {},
   "outputs": [
    {
     "name": "stdout",
     "output_type": "stream",
     "text": [
      "2/4\n"
     ]
    }
   ],
   "source": [
    "n = int(input())\n",
    "# 합 2 => 1/1  : 1\n",
    "# 합 3 => 1/2, 2/1 : 2, 3\n",
    "# 합 4 => 3/1, 2/2, 1/3 : 4, 5, 6\n",
    "# 합 5 => 1/4, 2/3, 3/2, 4/1 : 7, 8, 9, 10\n",
    "\n",
    "# [1], [2,3], [4,5,6], [7,8,9, 10]\n",
    "memo = []\n",
    "cnt, sum = 0, 0\n",
    "while sum < n:\n",
    "    cnt += 1\n",
    "    sum += cnt\n",
    "    memo.append(sum)\n",
    "\n",
    "idx = cnt - memo[-1] + n - 1\n",
    "if cnt % 2 != 0:\n",
    "    print(f'{cnt - idx}/{idx + 1}')\n",
    "else:\n",
    "    print(f'{idx + 1}/{cnt - idx}')\n",
    "\n",
    "\n",
    "\n"
   ]
  },
  {
   "cell_type": "code",
   "execution_count": 62,
   "metadata": {},
   "outputs": [
    {
     "name": "stdout",
     "output_type": "stream",
     "text": [
      "4\n"
     ]
    }
   ],
   "source": [
    "n = int(input())\n",
    "sum, cnt= 0, 0\n",
    "while sum < n-1:\n",
    "    sum += 6* cnt \n",
    "    cnt+=1\n",
    "print(cnt) if n>1 else print(1)"
   ]
  },
  {
   "cell_type": "code",
   "execution_count": 38,
   "metadata": {},
   "outputs": [
    {
     "data": {
      "text/plain": [
       "1000008918"
      ]
     },
     "execution_count": 38,
     "metadata": {},
     "output_type": "execute_result"
    }
   ],
   "source": [
    "N"
   ]
  }
 ],
 "metadata": {
  "kernelspec": {
   "display_name": "Python 3",
   "language": "python",
   "name": "python3"
  },
  "language_info": {
   "codemirror_mode": {
    "name": "ipython",
    "version": 3
   },
   "file_extension": ".py",
   "mimetype": "text/x-python",
   "name": "python",
   "nbconvert_exporter": "python",
   "pygments_lexer": "ipython3",
   "version": "3.11.1"
  },
  "orig_nbformat": 4
 },
 "nbformat": 4,
 "nbformat_minor": 2
}
