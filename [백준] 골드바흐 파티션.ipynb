{
 "cells": [
  {
   "cell_type": "code",
   "execution_count": 12,
   "metadata": {},
   "outputs": [
    {
     "name": "stdout",
     "output_type": "stream",
     "text": [
      "7 7\n"
     ]
    }
   ],
   "source": [
    "# 매번 소수 array를 만들기 때문에 시간초과가 나는 것으로 보입니다. 소수 array는 한 번만 만들어도 충분합니다. 반복문 밖으로 뺍시다.\n",
    "# 골드바흐의 추측이 사실이라면, 4는 당연히 2+2이기 때문에 6 이상의 짝수에 대해서만 처리한다면, 이 경우는 두 개의 홀수 소수 합으로 표현 가능합니다.\n",
    "# 짝수 2N에 대해서 i를 1에서부터 1씩 증가시켜 나가는 건 너무 오래 걸립니다. 홀수 소수만 이용함에 착안하여 3에서부터 2씩 증가시켜 가면서 i, 2N-i가 둘 다 소수인지 체크하는 것도 시간이 오래 걸립니다.\n",
    "# 두 소수의 차이가 가장 작은 것까지 찾아 나가기 위해서 필연적으로 N 근방까지 반복문을 돌리기 때문입니다.\n",
    "# 줄일 수 있는 방법은 무엇이 있을까요? 한 번 답을 얻으면 끝을 낼 수 있는 방법이 존재합니다!\n",
    "\n",
    "def get_primes(n):\n",
    "    is_primes = [True] * n\n",
    "    max_length = int(n**1/2) + 1\n",
    "    for i in range(2, max_length):\n",
    "        if is_primes[i]:\n",
    "            for j in range(i+i, n, i):\n",
    "                is_primes[j] = False\n",
    "    return [i for i in range(2, n) if is_primes[i]]\n",
    "\n",
    "N = int(input())\n",
    "prime_list = get_primes(10000)\n",
    "for _ in range(N):\n",
    "    n = int(input())\n",
    "    ans_arr =[]\n",
    "    for i in prime_list:\n",
    "        if i >= n: break    \n",
    "        for j in prime_list:\n",
    "            if j >= n: break;\n",
    "            if i + j == n:\n",
    "                ans_arr.append([i, j])\n",
    "    abs_min = n\n",
    "    min_idx = 0\n",
    "    for idx, arr in enumerate(ans_arr):\n",
    "        if abs(arr[0] - arr[1]) < abs_min:\n",
    "            abs_min = abs(arr[0] - arr[1])\n",
    "            min_idx = idx\n",
    "    print(*ans_arr[min_idx])   "
   ]
  }
 ],
 "metadata": {
  "kernelspec": {
   "display_name": "Python 3",
   "language": "python",
   "name": "python3"
  },
  "language_info": {
   "codemirror_mode": {
    "name": "ipython",
    "version": 3
   },
   "file_extension": ".py",
   "mimetype": "text/x-python",
   "name": "python",
   "nbconvert_exporter": "python",
   "pygments_lexer": "ipython3",
   "version": "3.6.7"
  },
  "orig_nbformat": 4
 },
 "nbformat": 4,
 "nbformat_minor": 2
}
