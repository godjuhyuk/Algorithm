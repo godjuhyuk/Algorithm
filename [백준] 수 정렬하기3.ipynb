{
 "cells": [
  {
   "cell_type": "code",
   "execution_count": 12,
   "metadata": {},
   "outputs": [
    {
     "name": "stdout",
     "output_type": "stream",
     "text": [
      "[0, 0, 0, 1, 2]\n"
     ]
    }
   ],
   "source": [
    "import sys\n",
    "# N = int(sys.stdin.readline())\n",
    "N = int(input())\n",
    "# arr = [int(sys.stdin.readline()) for _ in range(N)]\n",
    "# arr = [5,4,3,3,3,3,2,1,10,90,-3]\n",
    "count_arr = [0] * 10001\n",
    "for _ in range(N):\n",
    "    # count_arr[int(sys.stdin.readline())] += 1\n",
    "    temp_num = int(input())\n",
    "    count_arr[temp_num] += 1\n",
    "    # if max_ < temp_num:\n",
    "    #     max_ = temp_num\n",
    "    # if min_ > temp_num:\n",
    "    #     min_ = temp_num\n",
    "\n",
    "for i in range(1, len(count_arr)):  \n",
    "    count_arr[i] += count_arr[i-1]\n",
    "\n",
    "sorted_arr = [0] * N\n",
    "for num in range(10000, 0, -1):\n",
    "    idx = count_arr[num] - 1\n",
    "    sorted_arr[idx] = num\n",
    "    count_arr[num] -=1 \n",
    "print(sorted_arr)\n",
    "    # sys.stdout.write('\\n'.join(map(str, sorted_arr)))"
   ]
  },
  {
   "cell_type": "code",
   "execution_count": 5,
   "metadata": {},
   "outputs": [
    {
     "data": {
      "text/plain": [
       "1"
      ]
     },
     "execution_count": 5,
     "metadata": {},
     "output_type": "execute_result"
    }
   ],
   "source": [
    "min_"
   ]
  }
 ],
 "metadata": {
  "kernelspec": {
   "display_name": "base",
   "language": "python",
   "name": "python3"
  },
  "language_info": {
   "codemirror_mode": {
    "name": "ipython",
    "version": 3
   },
   "file_extension": ".py",
   "mimetype": "text/x-python",
   "name": "python",
   "nbconvert_exporter": "python",
   "pygments_lexer": "ipython3",
   "version": "3.9.13"
  },
  "orig_nbformat": 4
 },
 "nbformat": 4,
 "nbformat_minor": 2
}
