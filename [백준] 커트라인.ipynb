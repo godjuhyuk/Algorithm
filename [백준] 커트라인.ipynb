{
 "cells": [
  {
   "cell_type": "code",
   "execution_count": null,
   "metadata": {},
   "outputs": [],
   "source": [
    "\n",
    "N, k = map(int, input().split())\n",
    "arr = map(int, input().split())\n",
    "print(sorted(arr, reverse=True)[k-1])\n"
   ]
  }
 ],
 "metadata": {
  "language_info": {
   "name": "python"
  },
  "orig_nbformat": 4
 },
 "nbformat": 4,
 "nbformat_minor": 2
}
