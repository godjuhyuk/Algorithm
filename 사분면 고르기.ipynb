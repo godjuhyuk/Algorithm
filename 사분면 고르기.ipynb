{
 "cells": [
  {
   "cell_type": "code",
   "execution_count": 2,
   "metadata": {},
   "outputs": [
    {
     "name": "stdout",
     "output_type": "stream",
     "text": [
      "4\n"
     ]
    }
   ],
   "source": [
    "x = float(input())\n",
    "y = float(input())\n",
    "\n",
    "if x > 0 and y>0:\n",
    "    print(1)\n",
    "elif x > 0 and y<0:\n",
    "    print(4)\n",
    "elif x < 0 and y>0:\n",
    "    print(2)\n",
    "elif x < 0 and y<0:\n",
    "    print(3)\n"
   ]
  }
 ],
 "metadata": {
  "interpreter": {
   "hash": "085600a7aa13deceb8deb0fe24866ff20c45f3fe42a7fd427e717b2e61e27c6a"
  },
  "kernelspec": {
   "display_name": "Python 3.10.1 64-bit",
   "language": "python",
   "name": "python3"
  },
  "language_info": {
   "codemirror_mode": {
    "name": "ipython",
    "version": 3
   },
   "file_extension": ".py",
   "mimetype": "text/x-python",
   "name": "python",
   "nbconvert_exporter": "python",
   "pygments_lexer": "ipython3",
   "version": "3.10.1"
  },
  "orig_nbformat": 4
 },
 "nbformat": 4,
 "nbformat_minor": 2
}
