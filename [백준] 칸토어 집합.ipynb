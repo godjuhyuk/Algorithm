{
 "cells": [
  {
   "cell_type": "code",
   "execution_count": 56,
   "metadata": {},
   "outputs": [
    {
     "name": "stdout",
     "output_type": "stream",
     "text": [
      "-\n"
     ]
    }
   ],
   "source": [
    "# n==3\n",
    "# --------------------------- k = 0 \n",
    "# ---------         --------- k = 1 2^0\n",
    "# ---   ---         ---   --- k = 2 2^1\n",
    "# - -   - -         - -   - - k = 3 2^2\n",
    "\n",
    "# n==2\n",
    "# ---------\n",
    "# ---   ---\n",
    "# - -   - -\n",
    "import sys\n",
    "def sol(n):\n",
    "    ans = '-' * (3**n)\n",
    "    def cantor(ans, n):\n",
    "        if n == 0: \n",
    "            return ans\n",
    "        else:\n",
    "            mid = 3**(n-1)\n",
    "            return cantor('-'*mid, n-1) + ' ' * mid + cantor('-'*mid, n-1)\n",
    "    print(cantor(ans, n))\n",
    "sol(0)\n",
    "# for n in sys.stdin.readlines():\n",
    "    # sol(int(n.strip()))"
   ]
  }
 ],
 "metadata": {
  "kernelspec": {
   "display_name": "base",
   "language": "python",
   "name": "python3"
  },
  "language_info": {
   "codemirror_mode": {
    "name": "ipython",
    "version": 3
   },
   "file_extension": ".py",
   "mimetype": "text/x-python",
   "name": "python",
   "nbconvert_exporter": "python",
   "pygments_lexer": "ipython3",
   "version": "3.9.13"
  },
  "orig_nbformat": 4
 },
 "nbformat": 4,
 "nbformat_minor": 2
}
