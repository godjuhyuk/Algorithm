{
 "cells": [
  {
   "cell_type": "code",
   "execution_count": null,
   "metadata": {},
   "outputs": [],
   "source": [
    "import sys\n",
    "\n",
    "a, b = map(int, sys.stdin.readline().split())\n",
    "while( not (a==0 and b==0) ):\n",
    "    print(a+b)\n",
    "    a, b = map(int, sys.stdin.readline().split())"
   ]
  }
 ],
 "metadata": {
  "kernelspec": {
   "display_name": "Python 3.8.8 ('base')",
   "language": "python",
   "name": "python3"
  },
  "language_info": {
   "name": "python",
   "version": "3.8.8"
  },
  "orig_nbformat": 4,
  "vscode": {
   "interpreter": {
    "hash": "80725a5d4783801daf92d35e3de29f83f3303a24bd0467f36404c047292b52a0"
   }
  }
 },
 "nbformat": 4,
 "nbformat_minor": 2
}
