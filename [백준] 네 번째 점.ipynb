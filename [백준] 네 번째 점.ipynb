{
 "cells": [
  {
   "cell_type": "code",
   "execution_count": 3,
   "metadata": {},
   "outputs": [
    {
     "name": "stdout",
     "output_type": "stream",
     "text": [
      "30 10\n"
     ]
    }
   ],
   "source": [
    "a_x, a_y = input().split()\n",
    "b_x, b_y = input().split()\n",
    "c_x, c_y = input().split()\n",
    "\n",
    "x_dict= {a_x:0, b_x:0, c_x:0}\n",
    "y_dict= {a_y:0, b_y:0, c_y:0}\n",
    "\n",
    "x_dict[a_x] +=1\n",
    "x_dict[b_x] +=1\n",
    "x_dict[c_x] +=1\n",
    "y_dict[a_y] +=1\n",
    "y_dict[b_y] +=1\n",
    "y_dict[c_y] +=1\n",
    "\n",
    "print(int([i for i in x_dict.keys() if x_dict[i] == 1][0]), int([i for i in y_dict.keys() if y_dict[i] == 1][0]))"
   ]
  }
 ],
 "metadata": {
  "kernelspec": {
   "display_name": "Python 3",
   "language": "python",
   "name": "python3"
  },
  "language_info": {
   "codemirror_mode": {
    "name": "ipython",
    "version": 3
   },
   "file_extension": ".py",
   "mimetype": "text/x-python",
   "name": "python",
   "nbconvert_exporter": "python",
   "pygments_lexer": "ipython3",
   "version": "3.6.7"
  },
  "orig_nbformat": 4
 },
 "nbformat": 4,
 "nbformat_minor": 2
}
