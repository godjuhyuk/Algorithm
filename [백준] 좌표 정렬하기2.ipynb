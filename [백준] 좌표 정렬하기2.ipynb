{
 "cells": [
  {
   "cell_type": "code",
   "execution_count": 4,
   "metadata": {},
   "outputs": [
    {
     "name": "stdout",
     "output_type": "stream",
     "text": [
      "-5 2\n",
      "1 2\n",
      "3 2\n",
      "-100 4 \n"
     ]
    }
   ],
   "source": [
    "import sys\n",
    "def dot(a):\n",
    "    x, y = map(int, a.split())\n",
    "    return y+ 0.000001*x\n",
    "\n",
    "print(''.join(sorted(sys.stdin.readlines()[1:], key=lambda x: dot(x))))\n",
    "    "
   ]
  },
  {
   "cell_type": "code",
   "execution_count": null,
   "metadata": {},
   "outputs": [],
   "source": []
  }
 ],
 "metadata": {
  "kernelspec": {
   "display_name": "base",
   "language": "python",
   "name": "python3"
  },
  "language_info": {
   "codemirror_mode": {
    "name": "ipython",
    "version": 3
   },
   "file_extension": ".py",
   "mimetype": "text/x-python",
   "name": "python",
   "nbconvert_exporter": "python",
   "pygments_lexer": "ipython3",
   "version": "3.9.13"
  },
  "orig_nbformat": 4
 },
 "nbformat": 4,
 "nbformat_minor": 2
}
