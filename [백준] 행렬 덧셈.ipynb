{
 "cells": [
  {
   "cell_type": "code",
   "execution_count": 1,
   "metadata": {},
   "outputs": [
    {
     "name": "stdout",
     "output_type": "stream",
     "text": [
      "3 3\n",
      "3 3\n"
     ]
    }
   ],
   "source": [
    "N, M = map(int, input().split())\n",
    "matrix_arr = []\n",
    "for _ in range(2):\n",
    "    temp = []\n",
    "    for _ in range(N):\n",
    "        row = list(map(int, input().split()))\n",
    "        temp.append(row)\n",
    "    matrix_arr.append(temp)\n",
    "\n",
    "A = matrix_arr[0]\n",
    "B = matrix_arr[1]\n",
    "\n",
    "for row1, row2 in zip(A,B):\n",
    "    print(*[row1[i] + row2[i] for i in range(len(row1))])\n",
    "\n",
    "\n"
   ]
  },
  {
   "cell_type": "code",
   "execution_count": null,
   "metadata": {},
   "outputs": [],
   "source": []
  }
 ],
 "metadata": {
  "kernelspec": {
   "display_name": "base",
   "language": "python",
   "name": "python3"
  },
  "language_info": {
   "name": "python",
   "version": "3.9.13"
  },
  "orig_nbformat": 4
 },
 "nbformat": 4,
 "nbformat_minor": 2
}
