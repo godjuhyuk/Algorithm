{
 "cells": [
  {
   "cell_type": "code",
   "execution_count": null,
   "metadata": {},
   "outputs": [],
   "source": [
    "# 정수를 저장하는 큐를 구현한 다음, 입력으로 주어지는 명령을 처리하는 프로그램을 작성하시오.\n",
    "\n",
    "# 명령은 총 여섯 가지이다.\n",
    "\n",
    "# push X: 정수 X를 큐에 넣는 연산이다.\n",
    "# pop: 큐에서 가장 앞에 있는 정수를 빼고, 그 수를 출력한다. 만약 큐에 들어있는 정수가 없는 경우에는 -1을 출력한다.\n",
    "# size: 큐에 들어있는 정수의 개수를 출력한다.\n",
    "# empty: 큐가 비어있으면 1, 아니면 0을 출력한다.\n",
    "# front: 큐의 가장 앞에 있는 정수를 출력한다. 만약 큐에 들어있는 정수가 없는 경우에는 -1을 출력한다.\n",
    "# back: 큐의 가장 뒤에 있는 정수를 출력한다. 만약 큐에 들어있는 정수가 없는 경우에는 -1을 출력한다.\n",
    "\n",
    "#1차 시도\n",
    "import sys\n",
    "def push(arr, val):\n",
    "    arr.append(val)\n",
    "def size(arr):\n",
    "    sys.stdout.write(str(len(arr))+ '\\n')\n",
    "def empty(arr):\n",
    "    sys.stdout.write(\"1\\n\" if len(arr) == 0 else \"0\\n\")\n",
    "def front(arr):\n",
    "    sys.stdout.write(str(arr[0]) + \"\\n\" if len(arr) > 0 else '-1\\n' )\n",
    "def back(arr):\n",
    "    sys.stdout.write(str(arr[-1]) + \"\\n\" if len(arr) > 0 else '-1\\n' )    \n",
    "def pop(arr):\n",
    "    sys.stdout.write(str(arr.pop(0)) + \"\\n\" if len(arr) != 0 else \"-1\\n\")\n",
    "\n",
    "queue = []\n",
    "queue_dict = {\n",
    "    'push': push,\n",
    "    'size': size,\n",
    "    'empty': empty,\n",
    "    'front': front,\n",
    "    'back': back,\n",
    "    'pop': pop\n",
    "}\n",
    "\n",
    "for _ in range(int(input())):\n",
    "    # cmd = input().split(' ')\n",
    "    cmd = sys.stdin.readline().strip().split(' ')\n",
    "    queue_dict[cmd[0]](queue) if len(cmd) == 1 else queue_dict[cmd[0]](queue, cmd[1])"
   ]
  },
  {
   "cell_type": "code",
   "execution_count": 3,
   "metadata": {},
   "outputs": [
    {
     "name": "stdout",
     "output_type": "stream",
     "text": [
      "1\n",
      "3\n",
      "3\n",
      "0\n",
      "1\n",
      "['2', '3']\n"
     ]
    }
   ],
   "source": [
    "# 2차 시도 ( 아마 pop을 개선하지 못해서 실패일거임)\n",
    "import sys\n",
    "queue = []\n",
    "for _ in range(int(input())):\n",
    "    # cmd = input()\n",
    "    cmd = sys.stdin.readline().strip()\n",
    "    if cmd == 'size':\n",
    "        sys.stdout.write(str(len(queue))+ '\\n')\n",
    "    elif cmd == 'empty':\n",
    "        sys.stdout.write(\"1\\n\" if len(queue) == 0 else \"0\\n\")\n",
    "    elif cmd == 'front':\n",
    "        sys.stdout.write(str(queue[0]) + \"\\n\" if len(queue) > 0 else '-1\\n' )\n",
    "    elif cmd == 'back':\n",
    "        sys.stdout.write(str(queue[-1]) + \"\\n\" if len(queue) > 0 else '-1\\n' )    \n",
    "    elif cmd == 'pop':\n",
    "        sys.stdout.write(str(queue.pop(0)) + \"\\n\" if len(queue) != 0 else \"-1\\n\")\n",
    "    else:\n",
    "        queue.append(cmd.split(' ')[1])\n",
    "print(queue)"
   ]
  },
  {
   "cell_type": "code",
   "execution_count": 9,
   "metadata": {},
   "outputs": [
    {
     "name": "stdout",
     "output_type": "stream",
     "text": [
      "1\n"
     ]
    },
    {
     "ename": "IndexError",
     "evalue": "list index out of range",
     "output_type": "error",
     "traceback": [
      "\u001b[1;31m---------------------------------------------------------------------------\u001b[0m",
      "\u001b[1;31mIndexError\u001b[0m                                Traceback (most recent call last)",
      "\u001b[1;32m~\\AppData\\Local\\Temp\\ipykernel_6764\\3241470666.py\u001b[0m in \u001b[0;36m<module>\u001b[1;34m\u001b[0m\n\u001b[0;32m     17\u001b[0m         \u001b[0msys\u001b[0m\u001b[1;33m.\u001b[0m\u001b[0mstdout\u001b[0m\u001b[1;33m.\u001b[0m\u001b[0mwrite\u001b[0m\u001b[1;33m(\u001b[0m\u001b[0mstr\u001b[0m\u001b[1;33m(\u001b[0m\u001b[0mqueue\u001b[0m\u001b[1;33m.\u001b[0m\u001b[0mpopleft\u001b[0m\u001b[1;33m(\u001b[0m\u001b[1;33m)\u001b[0m\u001b[1;33m)\u001b[0m \u001b[1;33m+\u001b[0m \u001b[1;34m\"\\n\"\u001b[0m \u001b[1;32mif\u001b[0m \u001b[0mlen\u001b[0m\u001b[1;33m(\u001b[0m\u001b[0mqueue\u001b[0m\u001b[1;33m)\u001b[0m \u001b[1;33m!=\u001b[0m \u001b[1;36m0\u001b[0m \u001b[1;32melse\u001b[0m \u001b[1;34m\"-1\\n\"\u001b[0m\u001b[1;33m)\u001b[0m\u001b[1;33m\u001b[0m\u001b[1;33m\u001b[0m\u001b[0m\n\u001b[0;32m     18\u001b[0m     \u001b[1;32melse\u001b[0m\u001b[1;33m:\u001b[0m\u001b[1;33m\u001b[0m\u001b[1;33m\u001b[0m\u001b[0m\n\u001b[1;32m---> 19\u001b[1;33m         \u001b[0mqueue\u001b[0m\u001b[1;33m.\u001b[0m\u001b[0mappend\u001b[0m\u001b[1;33m(\u001b[0m\u001b[0mcmd\u001b[0m\u001b[1;33m.\u001b[0m\u001b[0msplit\u001b[0m\u001b[1;33m(\u001b[0m\u001b[1;34m' '\u001b[0m\u001b[1;33m)\u001b[0m\u001b[1;33m[\u001b[0m\u001b[1;36m1\u001b[0m\u001b[1;33m]\u001b[0m\u001b[1;33m)\u001b[0m\u001b[1;33m\u001b[0m\u001b[1;33m\u001b[0m\u001b[0m\n\u001b[0m",
      "\u001b[1;31mIndexError\u001b[0m: list index out of range"
     ]
    }
   ],
   "source": [
    "# 3차 시도\n",
    "import sys\n",
    "from collections import deque\n",
    "queue = deque()\n",
    "for _ in range(int(input())):\n",
    "    cmd = input()\n",
    "    # cmd = sys.stdin.readline().strip()\n",
    "    if cmd == 'size':\n",
    "        sys.stdout.write(str(len(queue))+ '\\n')\n",
    "    elif cmd == 'empty':\n",
    "        sys.stdout.write(\"1\\n\" if len(queue) == 0 else \"0\\n\")\n",
    "    elif cmd == 'front':\n",
    "        sys.stdout.write(str(queue[0]) + \"\\n\" if len(queue) > 0 else '-1\\n' )\n",
    "    elif cmd == 'back':\n",
    "        sys.stdout.write(str(queue[-1]) + \"\\n\" if len(queue) > 0 else '-1\\n' )    \n",
    "    elif cmd == 'pop':\n",
    "        sys.stdout.write(str(queue.popleft()) + \"\\n\" if len(queue) != 0 else \"-1\\n\")\n",
    "    else:\n",
    "        queue.append(cmd.split(' ')[1])"
   ]
  },
  {
   "cell_type": "code",
   "execution_count": null,
   "metadata": {},
   "outputs": [],
   "source": [
    "arr = ()"
   ]
  }
 ],
 "metadata": {
  "kernelspec": {
   "display_name": "base",
   "language": "python",
   "name": "python3"
  },
  "language_info": {
   "codemirror_mode": {
    "name": "ipython",
    "version": 3
   },
   "file_extension": ".py",
   "mimetype": "text/x-python",
   "name": "python",
   "nbconvert_exporter": "python",
   "pygments_lexer": "ipython3",
   "version": "3.9.13"
  },
  "orig_nbformat": 4
 },
 "nbformat": 4,
 "nbformat_minor": 2
}
