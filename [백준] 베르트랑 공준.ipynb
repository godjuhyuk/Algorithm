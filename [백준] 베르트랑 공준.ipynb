{
 "cells": [
  {
   "cell_type": "code",
   "execution_count": 21,
   "metadata": {},
   "outputs": [
    {
     "name": "stdout",
     "output_type": "stream",
     "text": [
      "1\n"
     ]
    }
   ],
   "source": [
    "import sys\n",
    "while True:\n",
    "    M = int(input())\n",
    "    if M==0:break\n",
    "    N = 2*M\n",
    "\n",
    "    eratosthenes = [False] + [True] * ((N - 1) // 2)\n",
    "\n",
    "    for i in range(1, int(N ** 0.5)):\n",
    "        if eratosthenes[i]:\n",
    "            eratosthenes[2 * i * (i + 1)::i * 2 + 1] = [False] * ((((N + 1) // 2) - i * i * 2) // (i * 2 + 1))\n",
    "    if M == 1:print(1)\n",
    "    elif M==2: print(1)\n",
    "    else:\n",
    "        print(len([f'{x}' for x, val in zip(range(M+1+(M & 1 == 0), N + 1, 2), eratosthenes[(M+1) // 2:]) if val]))"
   ]
  },
  {
   "cell_type": "code",
   "execution_count": null,
   "metadata": {},
   "outputs": [],
   "source": [
    "import sys\n",
    "def prime(n):\n",
    "    if n <= 1:\n",
    "        return []\n",
    "    sieve = [True] * (n+1)\n",
    "    for i in range(3,int(n**.5)+1,2):\n",
    "        if sieve[i]:\n",
    "            sieve[i*i::2*i] = [False]*len(sieve[i*i::2*i])\n",
    "    return [2] + [i for i in range(3,n+1,2) if sieve[i]]\n",
    "\n",
    "def Search(prime, n):\n",
    "    l,r = 0, len(prime)-1\n",
    "    while l<=r:\n",
    "        m=(l+r)//2\n",
    "\n",
    "        if prime[m] > n:\n",
    "            r = m-1\n",
    "        else:\n",
    "            l = m+1\n",
    "    return l\n",
    "primeList = prime(123456*2)\n",
    "\n",
    "while True:\n",
    "    input = int(sys.stdin.readline().strip())\n",
    "    if input!=0:\n",
    "        \n",
    "        print(Search(primeList,input*2) - Search(primeList,input))\n",
    "    else:\n",
    "        break"
   ]
  }
 ],
 "metadata": {
  "kernelspec": {
   "display_name": "base",
   "language": "python",
   "name": "python3"
  },
  "language_info": {
   "codemirror_mode": {
    "name": "ipython",
    "version": 3
   },
   "file_extension": ".py",
   "mimetype": "text/x-python",
   "name": "python",
   "nbconvert_exporter": "python",
   "pygments_lexer": "ipython3",
   "version": "3.9.13"
  },
  "orig_nbformat": 4
 },
 "nbformat": 4,
 "nbformat_minor": 2
}
