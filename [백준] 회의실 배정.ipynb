{
 "cells": [
  {
   "cell_type": "code",
   "execution_count": 1,
   "metadata": {},
   "outputs": [
    {
     "data": {
      "text/plain": [
       "['a', 'b']"
      ]
     },
     "execution_count": 1,
     "metadata": {},
     "output_type": "execute_result"
    }
   ],
   "source": [
    "'a b'.split()"
   ]
  },
  {
   "cell_type": "code",
   "execution_count": 61,
   "metadata": {},
   "outputs": [
    {
     "name": "stdout",
     "output_type": "stream",
     "text": [
      "[[6, 8]]\n"
     ]
    }
   ],
   "source": [
    "# import sys\n",
    "# input = sys.stdin.readline()\n",
    "# N= int(input())\n",
    "# stack = [list(map(int, input().split())) for _ in range(N)]\n",
    "\n",
    "N= 10\n",
    "schedule = [\n",
    "  [1,7], [6,8], [6, 9], [7, 9]\n",
    "]\n",
    "\n",
    "schedule.sort(key = lambda x: x[1])\n",
    "stack, pop_list, ans = [], [], 0\n",
    "for i in range(len(schedule)):\n",
    "    info = schedule[i]\n",
    "    if i == 0:\n",
    "        stack.append(info)\n",
    "        ans += 1\n",
    "    elif stack[-1][1] <= info[0]:\n",
    "        stack.append(info)\n",
    "        ans += 1\n",
    "    elif stack[-1][1] - stack[-1][0] > info[1] - info[0]:\n",
    "        pop_list.append(stack.pop())\n",
    "        stack.append(info)\n",
    "    \n",
    "print(stack)"
   ]
  },
  {
   "cell_type": "code",
   "execution_count": 70,
   "metadata": {},
   "outputs": [
    {
     "name": "stdout",
     "output_type": "stream",
     "text": [
      "[[6, 8], [1, 10], [10, 15], [8, 20]]\n",
      "2\n"
     ]
    }
   ],
   "source": [
    "n= 10\n",
    "meetings = [\n",
    "  [1,10], [6,8], [8, 20],  [10, 15]\n",
    "]\n",
    "# import sys\n",
    "# input = sys.stdin.readline\n",
    "# N= int(input())\n",
    "# meetings = [list(map(int, input().split())) for _ in range(N)]\n",
    "# 회의를 끝나는 시간을 기준으로 오름차순 정렬\n",
    "meetings.sort(key= lambda x: (x[1], x[0]))\n",
    "print(meetings)\n",
    "count = 0  # 선택한 회의의 개수\n",
    "end_time = 0  # 현재 회의실이 사용 중인 회의의 끝나는 시간\n",
    "stack = []\n",
    "for meeting in meetings:\n",
    "    start, end = meeting\n",
    "    if start >= end_time:  # 현재 회의실이 사용 가능한 경우\n",
    "        count += 1\n",
    "        end_time = end\n",
    "\n",
    "print(count)"
   ]
  },
  {
   "attachments": {},
   "cell_type": "markdown",
   "metadata": {},
   "source": [
    "use_info"
   ]
  },
  {
   "cell_type": "code",
   "execution_count": null,
   "metadata": {},
   "outputs": [],
   "source": [
    "import sys\n",
    "l = sys.stdin.readlines()\n",
    "meetings = zip(l[1::2], l[2::2])\n",
    "meetings.sort(key=lambda x: (x[1], x[0]))\n",
    "count = 0\n",
    "end_time = 0\n",
    "for meeting in meetings:\n",
    "    start, end = meeting\n",
    "    if start >= end_time:\n",
    "        count += 1\n",
    "        end_time = end\n",
    "print(count)"
   ]
  }
 ],
 "metadata": {
  "kernelspec": {
   "display_name": "Python 3",
   "language": "python",
   "name": "python3"
  },
  "language_info": {
   "codemirror_mode": {
    "name": "ipython",
    "version": 3
   },
   "file_extension": ".py",
   "mimetype": "text/x-python",
   "name": "python",
   "nbconvert_exporter": "python",
   "pygments_lexer": "ipython3",
   "version": "3.11.1"
  },
  "orig_nbformat": 4
 },
 "nbformat": 4,
 "nbformat_minor": 2
}
