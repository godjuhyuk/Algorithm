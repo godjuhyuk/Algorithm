{
 "cells": [
  {
   "cell_type": "code",
   "execution_count": 122,
   "metadata": {},
   "outputs": [
    {
     "name": "stdout",
     "output_type": "stream",
     "text": [
      "4 2 6\n",
      "3\n"
     ]
    }
   ],
   "source": [
    "A, B, V = map(int, input().split())\n",
    "print(A, B, V)\n",
    "if V == A:\n",
    "    print(1)\n",
    "elif A-B == 1:\n",
    "    print((V-A) // (A-B) + 1)\n",
    "elif V % (A-B) == 0 and V % A == 0:\n",
    "    print(V // (A-B) - 1)\n",
    "elif V % (A-B) == 0:\n",
    "    print(V // (A-B))\n",
    "elif (V % (A-B) + (A-B)) %  A == 0:\n",
    "    print('!')\n",
    "    print(V // (A-B))\n",
    "elif V % (A-B) == 1:\n",
    "    print(V // (A-B))\n",
    "else:\n",
    "    print(V // (A-B) + 1)"
   ]
  },
  {
   "cell_type": "code",
   "execution_count": null,
   "metadata": {},
   "outputs": [],
   "source": []
  },
  {
   "cell_type": "code",
   "execution_count": null,
   "metadata": {},
   "outputs": [],
   "source": []
  },
  {
   "cell_type": "code",
   "execution_count": null,
   "metadata": {},
   "outputs": [],
   "source": []
  }
 ],
 "metadata": {
  "kernelspec": {
   "display_name": "Python 3",
   "language": "python",
   "name": "python3"
  },
  "language_info": {
   "codemirror_mode": {
    "name": "ipython",
    "version": 3
   },
   "file_extension": ".py",
   "mimetype": "text/x-python",
   "name": "python",
   "nbconvert_exporter": "python",
   "pygments_lexer": "ipython3",
   "version": "3.11.1"
  },
  "orig_nbformat": 4
 },
 "nbformat": 4,
 "nbformat_minor": 2
}
