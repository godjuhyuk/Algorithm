{
 "cells": [
  {
   "cell_type": "code",
   "execution_count": 20,
   "metadata": {},
   "outputs": [
    {
     "name": "stdout",
     "output_type": "stream",
     "text": [
      "AaaB\n",
      "['A']\n"
     ]
    }
   ],
   "source": [
    "word = input()\n",
    "print(word)\n",
    "\n",
    "word_dict = {\n",
    "    'A' : 0,\n",
    "    'B' : 0,\n",
    "    'C' : 0,\n",
    "    'D' : 0,\n",
    "    'E' : 0,\n",
    "    'F' : 0,\n",
    "    'G' : 0,\n",
    "    'H' : 0,\n",
    "    'I' : 0,\n",
    "    'J' : 0,\n",
    "    'K' : 0,\n",
    "    'L' : 0,\n",
    "    'M' : 0,\n",
    "    'N' : 0,\n",
    "    'O' : 0,\n",
    "    'P' : 0,\n",
    "    'Q' : 0,\n",
    "    'R' : 0,\n",
    "    'S' : 0,\n",
    "    'T' : 0,\n",
    "    'U' : 0,\n",
    "    'V' : 0,\n",
    "    'W' : 0,\n",
    "    'X' : 0,\n",
    "    'Y' : 0,\n",
    "    'Z' : 0\n",
    "}\n",
    "\n",
    "for alphabet in word:\n",
    "    word_dict[alphabet.upper()] += 1\n",
    "max_keys = [key for key, value in word_dict.items() if value == max(word_dict.values())]\n",
    "print(max_keys[0] if len(max_keys) == 1 else '?')\n"
   ]
  }
 ],
 "metadata": {
  "kernelspec": {
   "display_name": "base",
   "language": "python",
   "name": "python3"
  },
  "language_info": {
   "codemirror_mode": {
    "name": "ipython",
    "version": 3
   },
   "file_extension": ".py",
   "mimetype": "text/x-python",
   "name": "python",
   "nbconvert_exporter": "python",
   "pygments_lexer": "ipython3",
   "version": "3.9.13"
  },
  "orig_nbformat": 4
 },
 "nbformat": 4,
 "nbformat_minor": 2
}
