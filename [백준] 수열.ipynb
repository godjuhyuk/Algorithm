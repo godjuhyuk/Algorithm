{
 "cells": [
  {
   "cell_type": "code",
   "execution_count": 38,
   "metadata": {},
   "outputs": [
    {
     "name": "stdout",
     "output_type": "stream",
     "text": [
      "-1\n"
     ]
    }
   ],
   "source": [
    "N, M = map(int, input().split())\n",
    "temp_arr = list(map(int, input().split()))\n",
    "memo = [0] * (N-M+2)\n",
    "memo[1] = sum(temp_arr[0:M])\n",
    "_max = memo[1]\n",
    "for i in range(2, N-M+2):\n",
    "    memo[i] = memo[i-1] - temp_arr[i-2] + temp_arr[i-2+M]\n",
    "    if _max < memo[i]:\n",
    "        _max = memo[i]\n",
    "print(_max) if N!=M else print(memo[-1])\n",
    "# 3 -2 -4 -9 0 3 7 13 8 -3\n"
   ]
  },
  {
   "cell_type": "code",
   "execution_count": 37,
   "metadata": {},
   "outputs": [
    {
     "data": {
      "text/plain": [
       "[0, -1, -2, -3]"
      ]
     },
     "execution_count": 37,
     "metadata": {},
     "output_type": "execute_result"
    }
   ],
   "source": [
    "memo"
   ]
  }
 ],
 "metadata": {
  "kernelspec": {
   "display_name": "Python 3",
   "language": "python",
   "name": "python3"
  },
  "language_info": {
   "codemirror_mode": {
    "name": "ipython",
    "version": 3
   },
   "file_extension": ".py",
   "mimetype": "text/x-python",
   "name": "python",
   "nbconvert_exporter": "python",
   "pygments_lexer": "ipython3",
   "version": "3.11.1"
  },
  "orig_nbformat": 4
 },
 "nbformat": 4,
 "nbformat_minor": 2
}
