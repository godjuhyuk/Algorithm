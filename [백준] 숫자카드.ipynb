{
 "cells": [
  {
   "cell_type": "code",
   "execution_count": null,
   "metadata": {},
   "outputs": [],
   "source": [
    "import sys\n",
    "N=int(sys.stdin.readline())\n",
    "card_arr=sorted(list(map(int, sys.stdin.readline().split())))\n",
    "M=int(sys.stdin.readline())\n",
    "test_arr=list(map(int, sys.stdin.readline().split()))\n",
    "\n",
    "def binary_search(arr, target):\n",
    "    left, right = 0, len(arr) - 1\n",
    "    while left <= right:\n",
    "        mid = (left + right) // 2\n",
    "        \n",
    "        if arr[mid] == target:\n",
    "            return 1\n",
    "        elif arr[mid] < target:\n",
    "            left = mid + 1\n",
    "        else:\n",
    "            right = mid - 1\n",
    "    \n",
    "    return 0\n",
    "\n",
    "print(*[binary_search(card_arr, i) for i in test_arr])"
   ]
  }
 ],
 "metadata": {
  "language_info": {
   "name": "python"
  },
  "orig_nbformat": 4
 },
 "nbformat": 4,
 "nbformat_minor": 2
}
