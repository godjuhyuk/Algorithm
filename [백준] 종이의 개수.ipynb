{
 "cells": [
  {
   "cell_type": "code",
   "execution_count": 2,
   "metadata": {},
   "outputs": [
    {
     "ename": "AttributeError",
     "evalue": "'list' object has no attribute 'join'",
     "output_type": "error",
     "traceback": [
      "\u001b[1;31m---------------------------------------------------------------------------\u001b[0m",
      "\u001b[1;31mAttributeError\u001b[0m                            Traceback (most recent call last)",
      "Cell \u001b[1;32mIn[2], line 1\u001b[0m\n\u001b[1;32m----> 1\u001b[0m [\u001b[39m0\u001b[39;49m, \u001b[39m0\u001b[39;49m,\u001b[39m0\u001b[39;49m]\u001b[39m.\u001b[39;49mjoin(\u001b[39m\"\u001b[39m\u001b[39m\\n\u001b[39;00m\u001b[39m\"\u001b[39m)\n",
      "\u001b[1;31mAttributeError\u001b[0m: 'list' object has no attribute 'join'"
     ]
    }
   ],
   "source": []
  },
  {
   "cell_type": "code",
   "execution_count": null,
   "metadata": {},
   "outputs": [],
   "source": [
    "import sys\n",
    "n = int(input())\n",
    "paper = [[int(x) for x in sys.stdin.readline().strip().split(\" \")] for _ in range(n)]\n",
    "paper = [x.split(\" \") for x in sys.stdin.readlines().split(\"\\n\")]\n",
    "ans = [0, 0, 0]\n",
    "\n",
    "def paper_check(row, col, size):\n",
    "    for i in range(row, row+size):\n",
    "        for j in range(col, col+size):\n",
    "            if paper[row][col] != paper[i][j]:\n",
    "                return False\n",
    "    return True\n",
    "\n",
    "def partition(row, col, size):\n",
    "    global ans\n",
    "    if paper_check(row, col, size):\n",
    "        ans[paper[row][col]+1] += 1\n",
    "    else:\n",
    "        size //= 3\n",
    "        # for i in range(3):\n",
    "        #     for j in range(3):\n",
    "        #         partition(row + i*size, col + j*size, size)\n",
    "        partition(row, col, size)\n",
    "        partition(row + size, col, size)\n",
    "        partition(row + 2*size, col, size)\n",
    "        partition(row, col + size, size)\n",
    "        partition(row + size, col + size, size)\n",
    "        partition(row + 2*size, col + size, size)\n",
    "        partition(row, col + 2*size, size)\n",
    "        partition(row + size, col + 2*size, size)\n",
    "        partition(row + 2*size, col + 2*size, size)\n",
    "\n",
    "partition(0, 0, n)\n",
    "print(ans)"
   ]
  },
  {
   "cell_type": "code",
   "execution_count": null,
   "metadata": {},
   "outputs": [],
   "source": [
    "    import sys\n",
    "    n = int(input())\n",
    "    paper = [x.rstrip().split(\" \") for x in sys.stdin.readlines()]\n",
    "    ans = [0, 0, 0]\n",
    "\n",
    "    def paper_check(row, col, size):\n",
    "        for i in range(row, row+size):\n",
    "            for j in range(col, col+size):\n",
    "                if paper[row][col] != paper[i][j]:\n",
    "                    return False\n",
    "        return True\n",
    "\n",
    "    def partition(row, col, size):\n",
    "        global ans\n",
    "        if paper_check(row, col, size):\n",
    "            ans[int(paper[row][col])+1] += 1\n",
    "        else:\n",
    "            size //= 3\n",
    "            # for i in range(3):\n",
    "            #     for j in range(3):\n",
    "            #         partition(row + i*size, col + j*size, size)\n",
    "            partition(row, col, size)\n",
    "            partition(row + size, col, size)\n",
    "            partition(row + 2*size, col, size)\n",
    "            partition(row, col + size, size)\n",
    "            partition(row + size, col + size, size)\n",
    "            partition(row + 2*size, col + size, size)\n",
    "            partition(row, col + 2*size, size)\n",
    "            partition(row + size, col + 2*size, size)\n",
    "            partition(row + 2*size, col + 2*size, size)\n",
    "\n",
    "    partition(0, 0, n)\n",
    "    sys.stdout.write(str(ans[0]) + \"\\n\")\n",
    "    sys.stdout.write(str(ans[1]) + \"\\n\")\n",
    "    sys.stdout.write(str(ans[2]) + \"\\n\")"
   ]
  }
 ],
 "metadata": {
  "kernelspec": {
   "display_name": "Python 3",
   "language": "python",
   "name": "python3"
  },
  "language_info": {
   "codemirror_mode": {
    "name": "ipython",
    "version": 3
   },
   "file_extension": ".py",
   "mimetype": "text/x-python",
   "name": "python",
   "nbconvert_exporter": "python",
   "pygments_lexer": "ipython3",
   "version": "3.11.4"
  },
  "orig_nbformat": 4
 },
 "nbformat": 4,
 "nbformat_minor": 2
}
