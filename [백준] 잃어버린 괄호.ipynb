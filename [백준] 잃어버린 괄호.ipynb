{
 "cells": [
  {
   "cell_type": "code",
   "execution_count": 39,
   "metadata": {},
   "outputs": [
    {
     "name": "stdout",
     "output_type": "stream",
     "text": [
      "-80\n"
     ]
    }
   ],
   "source": [
    "# 마지막 수 가감\n",
    "# 첫번재 수 +\n",
    "s = input()\n",
    "sum, num = 0, ''\n",
    "sign = 1\n",
    "for i in range(len(s)):\n",
    "    if s[i].isdigit():\n",
    "        num += s[i]\n",
    "    else:\n",
    "        if s[i] == '-':\n",
    "            sum += sign * int(num)\n",
    "            sign = -1\n",
    "        else:\n",
    "            sum += sign * int(num)\n",
    "        num = ''\n",
    "    if i == len(s)-1:\n",
    "        sum += sign * int(num)\n",
    "print(sum)\n",
    "    \n",
    "            \n",
    "            \n",
    "\n",
    "    \n",
    "        \n",
    "    "
   ]
  }
 ],
 "metadata": {
  "kernelspec": {
   "display_name": "Python 3",
   "language": "python",
   "name": "python3"
  },
  "language_info": {
   "codemirror_mode": {
    "name": "ipython",
    "version": 3
   },
   "file_extension": ".py",
   "mimetype": "text/x-python",
   "name": "python",
   "nbconvert_exporter": "python",
   "pygments_lexer": "ipython3",
   "version": "3.11.1"
  },
  "orig_nbformat": 4
 },
 "nbformat": 4,
 "nbformat_minor": 2
}
