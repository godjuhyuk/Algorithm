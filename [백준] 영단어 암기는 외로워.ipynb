{
 "cells": [
  {
   "cell_type": "code",
   "execution_count": 17,
   "metadata": {},
   "outputs": [
    {
     "name": "stdout",
     "output_type": "stream",
     "text": [
      "swift\n",
      "mouse\n",
      "appearance\n",
      "attendance\n",
      "append\n",
      "wallet\n",
      "{'appearance': 1, 'append': 1, 'attendance': 1, 'swift': 3, 'mouse': 2, 'wallet': 1}\n"
     ]
    }
   ],
   "source": [
    "import sys\n",
    "N, M = map(int, input().split())\n",
    "words, _dict = [], {}\n",
    "for x in sys.stdin.readlines():\n",
    "    x = x.strip()\n",
    "    if len(x) >= M:\n",
    "        words.append(x)\n",
    "        _dict.setdefault(x, 0)\n",
    "        _dict[x] += 1\n",
    "\n",
    "\n",
    "for x in sorted(_dict.keys(), key=lambda a: (-1 * _dict[a], -1 * len(a), a)):\n",
    "    print(x)"
   ]
  }
 ],
 "metadata": {
  "kernelspec": {
   "display_name": "base",
   "language": "python",
   "name": "python3"
  },
  "language_info": {
   "codemirror_mode": {
    "name": "ipython",
    "version": 3
   },
   "file_extension": ".py",
   "mimetype": "text/x-python",
   "name": "python",
   "nbconvert_exporter": "python",
   "pygments_lexer": "ipython3",
   "version": "3.9.13"
  },
  "orig_nbformat": 4
 },
 "nbformat": 4,
 "nbformat_minor": 2
}
