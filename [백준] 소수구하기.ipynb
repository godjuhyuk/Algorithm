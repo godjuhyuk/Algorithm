{
 "cells": [
  {
   "cell_type": "code",
   "execution_count": 9,
   "metadata": {},
   "outputs": [],
   "source": [
    "import random\n",
    "\n",
    "def is_prime(n, k=5):\n",
    "    if n < 2: \n",
    "        return False\n",
    "    if n <= 3: \n",
    "        return True\n",
    "    if n % 2 == 0: \n",
    "        return False\n",
    "\n",
    "    # n-1 = 2^r * d 계산\n",
    "    r, d = 0, n-1\n",
    "    while d % 2 == 0:\n",
    "        r += 1\n",
    "        d //= 2\n",
    "\n",
    "    # k번 검사 수행\n",
    "    for _ in range(k):\n",
    "        a = random.randint(2, n-2) # 2 <= a <= n-2\n",
    "        x = pow(a, d, n) # a^d mod n\n",
    "\n",
    "        # a^d mod n == 1 or a^((2^j)*d) mod n == -1\n",
    "        if x == 1 or x == n-1:\n",
    "            continue\n",
    "\n",
    "        for j in range(r-1):\n",
    "            x = pow(x, 2, n)\n",
    "            if x == n-1:\n",
    "                break\n",
    "        else:\n",
    "            return False\n",
    "\n",
    "    return True\n",
    "M, N = map(int, input().split())\n",
    "ans = [str(n) for n in range(M, N+1) if is_prime(n) is True]\n",
    "print('\\n'.join(ans))\n"
   ]
  },
  {
   "cell_type": "code",
   "execution_count": 14,
   "metadata": {},
   "outputs": [],
   "source": [
    "def is_prime(num):\n",
    "    for i in range(2, int(num**0.5) + 1):\n",
    "        if num%i == 0:\n",
    "            return False\n",
    "    return True if num != 1 else False\n",
    "M, N = map(int, input().split())\n",
    "ans = [str(n) for n in range(M, N+1) if is_prime(n) is True]\n",
    "print('\\n'.join(ans))"
   ]
  },
  {
   "cell_type": "code",
   "execution_count": null,
   "metadata": {},
   "outputs": [],
   "source": [
    "import sys\n",
    "\n",
    "M, N = map(int, sys.stdin.readline().split())\n",
    "\n",
    "eratosthenes = [False] + [True] * ((N - 1) // 2)\n",
    "\n",
    "for i in range(1, int(N ** 0.5)):\n",
    "    if eratosthenes[i]:\n",
    "        eratosthenes[2 * i * (i + 1)::i * 2 + 1] = [False] * ((((N + 1) // 2) - i * i * 2) // (i * 2 + 1))\n",
    "\n",
    "if M <= 2:\n",
    "    sys.stdout.write(\"2\\n\")\n",
    "sys.stdout.write('\\n'.join([f'{x}' for x, val in zip(range(M+(M & 1 == 0), N + 1, 2), eratosthenes[M // 2:]) if val]))"
   ]
  }
 ],
 "metadata": {
  "kernelspec": {
   "display_name": "base",
   "language": "python",
   "name": "python3"
  },
  "language_info": {
   "codemirror_mode": {
    "name": "ipython",
    "version": 3
   },
   "file_extension": ".py",
   "mimetype": "text/x-python",
   "name": "python",
   "nbconvert_exporter": "python",
   "pygments_lexer": "ipython3",
   "version": "3.9.13"
  },
  "orig_nbformat": 4
 },
 "nbformat": 4,
 "nbformat_minor": 2
}
