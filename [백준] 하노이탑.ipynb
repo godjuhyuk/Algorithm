{
 "cells": [
  {
   "cell_type": "code",
   "execution_count": null,
   "metadata": {},
   "outputs": [],
   "source": [
    "# n==3\n",
    "# 7\n",
    "# 1 3\n",
    "# 1 2\n",
    "# 3 2\n",
    "# 1 3\n",
    "# 2 1\n",
    "# 2 3\n",
    "# 1 3\n",
    "\n",
    "# n==2\n",
    "# 3\n",
    "# 1 2\n",
    "# 1 3\n",
    "# 2 3\n",
    "\n",
    "[], [1,2,3], [4]\n",
    "[], [1,2,3,4], [5]\n"
   ]
  },
  {
   "cell_type": "code",
   "execution_count": 3,
   "metadata": {},
   "outputs": [
    {
     "data": {
      "text/plain": [
       "[10, 9, 8, 7, 6, 5, 4, 3, 2, 1]"
      ]
     },
     "execution_count": 3,
     "metadata": {},
     "output_type": "execute_result"
    }
   ],
   "source": [
    "list(range(10,0, -1))"
   ]
  },
  {
   "cell_type": "code",
   "execution_count": 1,
   "metadata": {},
   "outputs": [
    {
     "ename": "ValueError",
     "evalue": "invalid literal for int() with base 10: ''",
     "output_type": "error",
     "traceback": [
      "\u001b[1;31m---------------------------------------------------------------------------\u001b[0m",
      "\u001b[1;31mValueError\u001b[0m                                Traceback (most recent call last)",
      "\u001b[1;32m~\\AppData\\Local\\Temp\\ipykernel_5084\\2793194825.py\u001b[0m in \u001b[0;36m<module>\u001b[1;34m\u001b[0m\n\u001b[1;32m----> 1\u001b[1;33m \u001b[0mn\u001b[0m \u001b[1;33m=\u001b[0m \u001b[0mint\u001b[0m\u001b[1;33m(\u001b[0m\u001b[0minput\u001b[0m\u001b[1;33m(\u001b[0m\u001b[1;33m)\u001b[0m\u001b[1;33m)\u001b[0m\u001b[1;33m\u001b[0m\u001b[1;33m\u001b[0m\u001b[0m\n\u001b[0m\u001b[0;32m      2\u001b[0m \u001b[0mtower\u001b[0m\u001b[1;33m=\u001b[0m  \u001b[1;33m[\u001b[0m\u001b[1;33m[\u001b[0m\u001b[0mi\u001b[0m \u001b[1;32mfor\u001b[0m \u001b[0mi\u001b[0m \u001b[1;32min\u001b[0m \u001b[0mrange\u001b[0m\u001b[1;33m(\u001b[0m\u001b[0mn\u001b[0m\u001b[1;33m,\u001b[0m \u001b[1;36m0\u001b[0m\u001b[1;33m,\u001b[0m \u001b[1;33m-\u001b[0m\u001b[1;36m1\u001b[0m\u001b[1;33m)\u001b[0m\u001b[1;33m]\u001b[0m\u001b[1;33m,\u001b[0m \u001b[1;33m[\u001b[0m\u001b[1;33m]\u001b[0m\u001b[1;33m,\u001b[0m\u001b[1;33m[\u001b[0m\u001b[1;33m]\u001b[0m\u001b[1;33m]\u001b[0m\u001b[1;33m\u001b[0m\u001b[1;33m\u001b[0m\u001b[0m\n\u001b[0;32m      3\u001b[0m \u001b[0mflag\u001b[0m \u001b[1;33m=\u001b[0m \u001b[1;36m0\u001b[0m\u001b[1;33m\u001b[0m\u001b[1;33m\u001b[0m\u001b[0m\n\u001b[0;32m      4\u001b[0m \u001b[1;32mdef\u001b[0m \u001b[0mmove_to_target\u001b[0m\u001b[1;33m(\u001b[0m\u001b[0mtower\u001b[0m\u001b[1;33m,\u001b[0m \u001b[0mnow\u001b[0m\u001b[1;33m,\u001b[0m \u001b[0mtarget\u001b[0m\u001b[1;33m,\u001b[0m \u001b[0manother\u001b[0m\u001b[1;33m)\u001b[0m\u001b[1;33m:\u001b[0m\u001b[1;33m\u001b[0m\u001b[1;33m\u001b[0m\u001b[0m\n\u001b[0;32m      5\u001b[0m     \u001b[0mprint\u001b[0m\u001b[1;33m(\u001b[0m\u001b[0mtower\u001b[0m\u001b[1;33m)\u001b[0m\u001b[1;33m\u001b[0m\u001b[1;33m\u001b[0m\u001b[0m\n",
      "\u001b[1;31mValueError\u001b[0m: invalid literal for int() with base 10: ''"
     ]
    }
   ],
   "source": [
    "n = int(input())\n",
    "tower=  [[i for i in range(n, 0, -1)], [],[]]\n",
    "flag = 0\n",
    "ans = []\n",
    "def move_to_target(tower, now, target, another):\n",
    "    if len(tower[now]) >1:\n",
    "        temp_tower = tower\n",
    "        temp_tower[now] = tower[now][1:]\n",
    "        tower, after_now, after_target, after_another = move(temp_tower, now, target) # max value 제외하고 another로 다 옮김\n",
    "        tower[target].append(tower[now].pop())\n",
    "        ans.append([now, target])\n",
    "        return move_to_target(tower, after_now, after_target, after_another)\n",
    "        # return move(temp_tower, another, target, )\n",
    "    tower[target].append(tower[now].pop())\n",
    "    ans.append([now, target])\n",
    "\n",
    "def move(tower, now, target, another):\n",
    "    #tower[now]의 밑동까지 전부 target으로 옮기는 재귀 프로그램\n",
    "    \n",
    "    len_ = len(tower[now]) \n",
    "    if len_ % 2 == 0:\n",
    "        while len(tower[target]) != len_:\n",
    "            tower[target].append(tower[now].pop())\n",
    "            ans.append([target, now])\n",
    "    return tower, \n",
    "\n",
    "def hanoi(tower):\n",
    "    # full_poll = 0\n",
    "    # empty_poll = 1\n",
    "    # poll_3 = 2\n",
    "    move_to_target(tower, 0, 2, 1)\n",
    "\n",
    "hanoi(tower)        \n",
    "\n",
    "\n"
   ]
  },
  {
   "cell_type": "code",
   "execution_count": 5,
   "metadata": {},
   "outputs": [
    {
     "name": "stdout",
     "output_type": "stream",
     "text": [
      "7\n",
      "1 3\n",
      "1 2\n",
      "3 2\n",
      "1 3\n",
      "2 1\n",
      "2 3\n",
      "1 3\n"
     ]
    }
   ],
   "source": [
    "def move(n, start, end, temp, moves):\n",
    "    if n == 1:\n",
    "        moves.append((start, end))\n",
    "    else:\n",
    "        move(n-1, start, temp, end, moves)\n",
    "        moves.append((start, end))\n",
    "        move(n-1, temp, end, start, moves)  \n",
    "\n",
    "moves = []\n",
    "move(int(input()), 1, 3, 2, moves)\n",
    "print(len(moves))\n",
    "for x in moves:\n",
    "    print(*x)"
   ]
  }
 ],
 "metadata": {
  "kernelspec": {
   "display_name": "base",
   "language": "python",
   "name": "python3"
  },
  "language_info": {
   "codemirror_mode": {
    "name": "ipython",
    "version": 3
   },
   "file_extension": ".py",
   "mimetype": "text/x-python",
   "name": "python",
   "nbconvert_exporter": "python",
   "pygments_lexer": "ipython3",
   "version": "3.9.13"
  },
  "orig_nbformat": 4
 },
 "nbformat": 4,
 "nbformat_minor": 2
}
