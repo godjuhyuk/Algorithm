{
 "cells": [
  {
   "cell_type": "code",
   "execution_count": 1,
   "metadata": {},
   "outputs": [
    {
     "name": "stdout",
     "output_type": "stream",
     "text": [
      "3\n",
      "8\n",
      "5\n"
     ]
    }
   ],
   "source": [
    "n_iters = int(input())\n",
    "for i in range(n_iters):\n",
    "    a, b = map(int, input().split())\n",
    "    print(a+b)"
   ]
  }
 ],
 "metadata": {
  "kernelspec": {
   "display_name": "Python 3.8.8 ('base')",
   "language": "python",
   "name": "python3"
  },
  "language_info": {
   "codemirror_mode": {
    "name": "ipython",
    "version": 3
   },
   "file_extension": ".py",
   "mimetype": "text/x-python",
   "name": "python",
   "nbconvert_exporter": "python",
   "pygments_lexer": "ipython3",
   "version": "3.8.8"
  },
  "orig_nbformat": 4,
  "vscode": {
   "interpreter": {
    "hash": "80725a5d4783801daf92d35e3de29f83f3303a24bd0467f36404c047292b52a0"
   }
  }
 },
 "nbformat": 4,
 "nbformat_minor": 2
}
