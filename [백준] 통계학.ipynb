{
 "cells": [
  {
   "cell_type": "code",
   "execution_count": 25,
   "metadata": {},
   "outputs": [
    {
     "name": "stdout",
     "output_type": "stream",
     "text": [
      "4000\n",
      "4000\n",
      "4000\n",
      "0\n"
     ]
    }
   ],
   "source": [
    "# 1차 풀이\n",
    "import sys\n",
    "_sum = 0\n",
    "_max = -4000\n",
    "_min = 4000\n",
    "_freq = 1\n",
    "freq_list, mid_list = [], []\n",
    "num_dict = {}\n",
    "N= int(input())\n",
    "for x in sys.stdin.readlines():\n",
    "    a = x.strip()\n",
    "    \n",
    "    if a in num_dict.keys():\n",
    "        num_dict[a] += 1\n",
    "    else:\n",
    "        num_dict.setdefault(a, 1)\n",
    "    \n",
    "    a = int(a)\n",
    "    mid_list.append(a)\n",
    "    if a > _max:\n",
    "        _max = a\n",
    "    if a < _min:\n",
    "        _min = a  \n",
    "    _sum += a  \n",
    "for x in num_dict:\n",
    "    if num_dict[x] > _freq:\n",
    "        freq_list = [int(x)]\n",
    "        _freq = num_dict[x]\n",
    "    elif num_dict[x] == _freq:\n",
    "        freq_list.append(int(x))\n",
    "freq_list.sort()\n",
    "mid_list.sort()\n",
    "print(round(_sum/N))\n",
    "print(mid_list[N//2])\n",
    "print(freq_list[0] if len(freq_list) == 1 else freq_list[1])\n",
    "print(_max - _min)"
   ]
  },
  {
   "cell_type": "code",
   "execution_count": 26,
   "metadata": {},
   "outputs": [
    {
     "data": {
      "text/plain": [
       "0"
      ]
     },
     "execution_count": 26,
     "metadata": {},
     "output_type": "execute_result"
    }
   ],
   "source": [
    "# 정답 \n",
    "from sys import stdin\n",
    "\n",
    "\n",
    "def sol2108():\n",
    "    n = int(stdin.readline())\n",
    "    counts = [0]*8001\n",
    "    s = 0\n",
    "    for i in stdin:\n",
    "        num = int(i)\n",
    "        counts[num+4000] += 1\n",
    "\n",
    "    maxc = max(counts)\n",
    "    mode = mcnt = 0\n",
    "    idx = 0\n",
    "    med = None\n",
    "    mi, ma = 4001, -4001\n",
    "    for i in range(8001):\n",
    "        cnt = counts[i]\n",
    "        if cnt == 0:\n",
    "            continue\n",
    "\n",
    "        num = i-4000\n",
    "        s += num*counts[i]\n",
    "        if cnt == maxc and mcnt < 2:\n",
    "            mode = num\n",
    "            mcnt += 1\n",
    "        mi = min(mi, num)\n",
    "        ma = max(ma, num)\n",
    "        idx += counts[i]\n",
    "        if idx >= n//2+1 and med == None:\n",
    "            med = num\n",
    "\n",
    "    print(round(s/n), med, mode, ma-mi, sep='\\n')\n",
    "\n",
    "\n",
    "if __name__ == '__main__':\n",
    "    sol2108()"
   ]
  },
  {
   "cell_type": "code",
   "execution_count": null,
   "metadata": {},
   "outputs": [],
   "source": []
  },
  {
   "cell_type": "code",
   "execution_count": 16,
   "metadata": {},
   "outputs": [
    {
     "data": {
      "text/plain": [
       "[-3, -2, -1]"
      ]
     },
     "execution_count": 16,
     "metadata": {},
     "output_type": "execute_result"
    }
   ],
   "source": [
    "freq_list"
   ]
  }
 ],
 "metadata": {
  "kernelspec": {
   "display_name": "base",
   "language": "python",
   "name": "python3"
  },
  "language_info": {
   "codemirror_mode": {
    "name": "ipython",
    "version": 3
   },
   "file_extension": ".py",
   "mimetype": "text/x-python",
   "name": "python",
   "nbconvert_exporter": "python",
   "pygments_lexer": "ipython3",
   "version": "3.9.13"
  },
  "orig_nbformat": 4
 },
 "nbformat": 4,
 "nbformat_minor": 2
}
