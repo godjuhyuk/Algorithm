{
 "cells": [
  {
   "cell_type": "code",
   "execution_count": 8,
   "metadata": {},
   "outputs": [
    {
     "name": "stdout",
     "output_type": "stream",
     "text": [
      "1 2 3 4 5\n",
      "1 2 3 4 6\n",
      "1 2 3 4 7\n",
      "1 2 3 4 8\n",
      "1 2 3 5 6\n",
      "1 2 3 5 7\n",
      "1 2 3 5 8\n",
      "1 2 3 6 7\n",
      "1 2 3 6 8\n",
      "1 2 3 7 8\n",
      "1 2 4 5 6\n",
      "1 2 4 5 7\n",
      "1 2 4 5 8\n",
      "1 2 4 6 7\n",
      "1 2 4 6 8\n",
      "1 2 4 7 8\n",
      "1 2 5 6 7\n",
      "1 2 5 6 8\n",
      "1 2 5 7 8\n",
      "1 2 6 7 8\n",
      "1 3 4 5 6\n",
      "1 3 4 5 7\n",
      "1 3 4 5 8\n",
      "1 3 4 6 7\n",
      "1 3 4 6 8\n",
      "1 3 4 7 8\n",
      "1 3 5 6 7\n",
      "1 3 5 6 8\n",
      "1 3 5 7 8\n",
      "1 3 6 7 8\n",
      "1 4 5 6 7\n",
      "1 4 5 6 8\n",
      "1 4 5 7 8\n",
      "1 4 6 7 8\n",
      "1 5 6 7 8\n",
      "2 3 4 5 6\n",
      "2 3 4 5 7\n",
      "2 3 4 5 8\n",
      "2 3 4 6 7\n",
      "2 3 4 6 8\n",
      "2 3 4 7 8\n",
      "2 3 5 6 7\n",
      "2 3 5 6 8\n",
      "2 3 5 7 8\n",
      "2 3 6 7 8\n",
      "2 4 5 6 7\n",
      "2 4 5 6 8\n",
      "2 4 5 7 8\n",
      "2 4 6 7 8\n",
      "2 5 6 7 8\n",
      "3 4 5 6 7\n",
      "3 4 5 6 8\n",
      "3 4 5 7 8\n",
      "3 4 6 7 8\n",
      "3 5 6 7 8\n",
      "4 5 6 7 8\n"
     ]
    }
   ],
   "source": [
    "from itertools import combinations\n",
    "N, M = map(int, input().split())\n",
    "number_arr = [x for x in range(1, N+1)]\n",
    "ans = set()\n",
    "for combination in combinations(number_arr, M):\n",
    "    ans.add(combination)\n",
    "\n",
    "\n",
    "for el in sorted(list(ans)):\n",
    "    print(*el)\n"
   ]
  }
 ],
 "metadata": {
  "kernelspec": {
   "display_name": "Python 3",
   "language": "python",
   "name": "python3"
  },
  "language_info": {
   "codemirror_mode": {
    "name": "ipython",
    "version": 3
   },
   "file_extension": ".py",
   "mimetype": "text/x-python",
   "name": "python",
   "nbconvert_exporter": "python",
   "pygments_lexer": "ipython3",
   "version": "3.11.1"
  },
  "orig_nbformat": 4
 },
 "nbformat": 4,
 "nbformat_minor": 2
}
