{
 "cells": [
  {
   "cell_type": "code",
   "execution_count": 15,
   "metadata": {},
   "outputs": [
    {
     "name": "stdout",
     "output_type": "stream",
     "text": [
      "27\n"
     ]
    }
   ],
   "source": [
    "import sys\n",
    "input = sys.stdin.readline\n",
    "print = sys.stdout.write\n",
    "N, M = map(int, input().split())\n",
    "matrix = [list(map(int, input().split())) for _ in range(N)]\n",
    "orders = [s.strip() for s in sys.stdin.readlines()]\n",
    "# N, M = 4, 3\n",
    "# matrix = [\n",
    "#     [1,2,3,4], \n",
    "#     [2,3,4,5],\n",
    "#     [3,4,5,6],\n",
    "#     [4,5,6,7]]\n",
    "# orders = ['2 2 3 4']\n",
    "a = [0] * (N+1)\n",
    "d=  [0] * (N+1)\n",
    "for i in range(1, N+1):\n",
    "    a[i] = [0] + matrix[i-1]\n",
    "    d[i] = [0] * (N+1)\n",
    "a[0] = d[0] = [0] * (N+1)\n",
    "for i in range(1, N+1):\n",
    "    for j in range(1, N+1):\n",
    "        d[i][j] = a[i][j] + d[i-1][j] + d[i][j-1] - d[i-1][j-1]\n",
    "\n",
    "for order in orders:\n",
    "    x1, y1, x2, y2 = map(int, order.split(' '))\n",
    "    print(str(d[x2][y2] - d[x2][y1-1] - d[x1-1][y2] + d[x1-1][y1-1]) + '\\n')\n",
    "# col_prefix = [[0] * N for _ in range(N)]\n",
    "# for c in range(N):\n",
    "#     for r in range(N):\n",
    "#         if r == 0: \n",
    "#             col_prefix[c][r] = matrix[c][r]\n",
    "#         else:\n",
    "#             col_prefix[c][r] = col_prefix[c][r-1] + matrix[c][r]\n",
    "# for order in orders:\n",
    "#     x1, y1, x2, y2 = map(int, order.split(' '))\n",
    "#     _sum = 0\n",
    "#     if x1 != 1:\n",
    "#         _sum += col_prefix[y2-1][x2-1] - col_prefix[y1-1][x1-2]\n",
    "#     else:\n",
    "#         _sum += col_prefix[y2-1][x2-1]\n",
    "#     print(str(_sum) + '\\n')"
   ]
  },
  {
   "cell_type": "code",
   "execution_count": 16,
   "metadata": {},
   "outputs": [
    {
     "data": {
      "text/plain": [
       "[[0, 0, 0, 0, 0],\n",
       " [0, 1, 2, 3, 4],\n",
       " [0, 2, 3, 4, 5],\n",
       " [0, 3, 4, 5, 6],\n",
       " [0, 4, 5, 6, 7]]"
      ]
     },
     "execution_count": 16,
     "metadata": {},
     "output_type": "execute_result"
    }
   ],
   "source": [
    "a"
   ]
  },
  {
   "cell_type": "code",
   "execution_count": 5,
   "metadata": {},
   "outputs": [],
   "source": [
    "# n,m=map(int,input().split())\n",
    "n, m = 4, 3\n",
    "n+=1\n",
    "a=[0]*n\n",
    "d=[0]*n\n",
    "matrix = [\n",
    "    [1,2,3,4], \n",
    "    [2,3,4,5],\n",
    "    [3,4,5,6],\n",
    "    [4,5,6,7]]\n",
    "for i in range(1,n):\n",
    "    a[i]=[0]+matrix[i-1]\n",
    "    d[i]=[0]*n\n",
    "a[0]=d[0]=[0]*n\n",
    "for i in range(1,n):\n",
    "    for j in range(1,n):\n",
    "        d[i][j]=a[i][j]+d[i-1][j]+d[i][j-1]-d[i-1][j-1]\n",
    "for t in range(m):\n",
    "    x1,y1,x2,y2=map(int,input().split())\n",
    "    print(d[x2][y2]-d[x2][y1-1]-d[x1-1][y2]+d[x1-1][y1-1])"
   ]
  },
  {
   "cell_type": "code",
   "execution_count": 4,
   "metadata": {},
   "outputs": [
    {
     "data": {
      "text/plain": [
       "[[0, 0, 0, 0, 0],\n",
       " [0, 1, 2, 3, 4],\n",
       " [0, 2, 3, 4, 5],\n",
       " [0, 3, 4, 5, 6],\n",
       " [0, 4, 5, 6, 7]]"
      ]
     },
     "execution_count": 4,
     "metadata": {},
     "output_type": "execute_result"
    }
   ],
   "source": [
    "a"
   ]
  },
  {
   "cell_type": "code",
   "execution_count": 3,
   "metadata": {},
   "outputs": [
    {
     "data": {
      "text/plain": [
       "[[0, 0, 0, 0, 0],\n",
       " [0, 1, 3, 6, 10],\n",
       " [0, 3, 8, 15, 24],\n",
       " [0, 6, 15, 27, 42],\n",
       " [0, 10, 24, 42, 64]]"
      ]
     },
     "execution_count": 3,
     "metadata": {},
     "output_type": "execute_result"
    }
   ],
   "source": [
    "d"
   ]
  }
 ],
 "metadata": {
  "kernelspec": {
   "display_name": "Python 3",
   "language": "python",
   "name": "python3"
  },
  "language_info": {
   "codemirror_mode": {
    "name": "ipython",
    "version": 3
   },
   "file_extension": ".py",
   "mimetype": "text/x-python",
   "name": "python",
   "nbconvert_exporter": "python",
   "pygments_lexer": "ipython3",
   "version": "3.11.1"
  },
  "orig_nbformat": 4
 },
 "nbformat": 4,
 "nbformat_minor": 2
}
