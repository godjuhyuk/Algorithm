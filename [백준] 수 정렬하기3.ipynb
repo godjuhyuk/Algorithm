{
 "cells": [
  {
   "cell_type": "code",
   "execution_count": 3,
   "metadata": {},
   "outputs": [],
   "source": [
    "import sys  \n",
    "N = int(sys.stdin.readline())\n",
    "# N = int(input())\n",
    "\n",
    "count_arr = [0] * 10001\n",
    "for num in sys.stdin.read().split():\n",
    "    count_arr[int(num)] += 1\n",
    "    # temp_num = int(input())\n",
    "    # count_arr[temp_num] += 1\n",
    "\n",
    "# culti_arr = count_arr[:]\n",
    "# for i in range(1, len(count_arr)):  \n",
    "#     culti_arr[i] += count_arr[i-1]\n",
    "\n",
    "sorted_arr = [0] * N\n",
    "for num in range(10000, 0, -1):\n",
    "    while count_arr[num] != 0:\n",
    "        idx = count_arr[num] - 1\n",
    "        sorted_arr[idx] = num\n",
    "        count_arr[num] -=1 \n",
    "sys.stdout.write('\\n'.join(map(str, sorted_arr)))\n",
    "# print(sorted_arr)"
   ]
  },
  {
   "cell_type": "code",
   "execution_count": 4,
   "metadata": {},
   "outputs": [
    {
     "name": "stdout",
     "output_type": "stream",
     "text": [
      "[1, 1, 1, 1, 1, 1, 1, 2, 2, 2, 3, 3, 3, 5, 5, 5, 9, 9, 100, 10000]\n",
      "189865\n"
     ]
    }
   ],
   "source": [
    "import sys\n",
    "\n",
    "N = int(input())\n",
    "count_arr = [0] * 10001\n",
    "\n",
    "for _ in range(N):\n",
    "    count_arr[int(input())] += 1\n",
    "\n",
    "for i in range(1, len(count_arr)):\n",
    "    count_arr[i] += count_arr[i-1]\n",
    "\n",
    "sorted_arr = [0] * N\n",
    "for num in reversed(range(10001)):\n",
    "    while count_arr[num] != 0:\n",
    "        idx = count_arr[num] - 1\n",
    "        sorted_arr[idx] = num\n",
    "        count_arr[num] -= 1\n",
    "# sys.stdout.write('\\n'.join(map(str, sorted_arr)))"
   ]
  },
  {
   "cell_type": "code",
   "execution_count": 5,
   "metadata": {},
   "outputs": [],
   "source": [
    "import sys  \n",
    "N = int(sys.stdin.readline())\n",
    "# N = int(input())\n",
    "\n",
    "count_arr = [0] * 10001\n",
    "for num in sys.stdin.read().split():\n",
    "    count_arr[int(num)] += 1\n",
    "\n",
    "sorted_arr = []\n",
    "for num in range(1, 10001):\n",
    "    sorted_arr += [num] * count_arr[num]\n",
    "    \n",
    "sys.stdout.write('\\n'.join(map(str, sorted_arr)))\n",
    "# print(sorted_arr)"
   ]
  },
  {
   "cell_type": "code",
   "execution_count": null,
   "metadata": {},
   "outputs": [],
   "source": [
    "import sys\n",
    "\n",
    "N = int(sys.stdin.readline())\n",
    "\n",
    "count_arr = [0] * 10001\n",
    "for _ in range(N):\n",
    "    count_arr[int(sys.stdin.readline())] += 1\n",
    "\n",
    "for num in range(1, 10001):\n",
    "    for _ in range(count_arr[num]):\n",
    "        sys.stdout.write(str(num) + '\\n')\n"
   ]
  }
 ],
 "metadata": {
  "kernelspec": {
   "display_name": "base",
   "language": "python",
   "name": "python3"
  },
  "language_info": {
   "codemirror_mode": {
    "name": "ipython",
    "version": 3
   },
   "file_extension": ".py",
   "mimetype": "text/x-python",
   "name": "python",
   "nbconvert_exporter": "python",
   "pygments_lexer": "ipython3",
   "version": "3.9.13"
  },
  "orig_nbformat": 4
 },
 "nbformat": 4,
 "nbformat_minor": 2
}
