{
 "cells": [
  {
   "cell_type": "code",
   "execution_count": 37,
   "metadata": {},
   "outputs": [
    {
     "name": "stdout",
     "output_type": "stream",
     "text": [
      "0\n"
     ]
    }
   ],
   "source": [
    "N = int(input())\n",
    "if N == 1:\n",
    "    print(0)\n",
    "for a in range(1, N):\n",
    "    len_a = len(str(a)) - 1\n",
    "    \n",
    "    sum, temp_a = a, a\n",
    "    \n",
    "    while len_a >= 0:\n",
    "        sum+= int(temp_a/(10**len_a))\n",
    "        temp_a = temp_a%(10**len_a)\n",
    "        len_a = len_a - 1\n",
    "    if sum == N:\n",
    "        print(a)\n",
    "        break\n",
    "    if a == N-1:\n",
    "        print(0)"
   ]
  },
  {
   "cell_type": "code",
   "execution_count": null,
   "metadata": {},
   "outputs": [],
   "source": [
    "N = input()\n",
    "a= int(N) - 9*len(N)\n",
    "b = int(N)\n",
    "\n",
    "if a < 0:\n",
    "    a = 0 \n",
    "\n",
    "for i in range(a,b):\n",
    "    total = i + sum(map(int,str(i)))\n",
    "    if total == int(N):\n",
    "        print(i)\n",
    "        break \n",
    "    if i == b-1:\n",
    "        print(0)"
   ]
  }
 ],
 "metadata": {
  "kernelspec": {
   "display_name": "base",
   "language": "python",
   "name": "python3"
  },
  "language_info": {
   "name": "python",
   "version": "3.9.13"
  },
  "orig_nbformat": 4
 },
 "nbformat": 4,
 "nbformat_minor": 2
}
