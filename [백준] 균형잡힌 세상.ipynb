{
 "cells": [
  {
   "cell_type": "code",
   "execution_count": 5,
   "metadata": {},
   "outputs": [
    {
     "name": "stdout",
     "output_type": "stream",
     "text": [
      "[]\n"
     ]
    }
   ],
   "source": [
    "import sys\n",
    "input = sys.stdin.readline()\n",
    "sent = input()\n",
    "while sent != '.':\n",
    "    # sent = sys.stdin.readline()\n",
    "    paren_stack = []\n",
    "    for i in sent:\n",
    "        if i in ['(', ')', '[', ']']:\n",
    "            paren_stack.append(i)\n",
    "            if paren_stack[len(paren_stack) - 2] == '(' and i == ')':\n",
    "                paren_stack.pop()\n",
    "                paren_stack.pop()\n",
    "            elif paren_stack[len(paren_stack) - 2] == '[' and i == ']':\n",
    "                paren_stack.pop()\n",
    "                paren_stack.pop()\n",
    "    sys.stdout.write('YES\\n') if len(paren_stack) == 0 else sys.stdout.write('NO\\n')\n",
    "    sent = input()\n",
    "\n",
    "\n",
    "# import sys\n",
    "# for _ in range(int(input())):\n",
    "#     parenthsis = sys.stdin.readline().strip()\n",
    "#     paren_stack = []\n",
    "#     for i in parenthsis:\n",
    "#         paren_stack.append(i)\n",
    "#         if paren_stack[len(paren_stack) - 2] == '(' and i == ')':\n",
    "#             paren_stack.pop()\n",
    "#             paren_stack.pop()\n",
    "#     sys.stdout.write('YES\\n') if len(paren_stack) == 0 else sys.stdout.write('NO\\n')\n"
   ]
  }
 ],
 "metadata": {
  "kernelspec": {
   "display_name": "base",
   "language": "python",
   "name": "python3"
  },
  "language_info": {
   "codemirror_mode": {
    "name": "ipython",
    "version": 3
   },
   "file_extension": ".py",
   "mimetype": "text/x-python",
   "name": "python",
   "nbconvert_exporter": "python",
   "pygments_lexer": "ipython3",
   "version": "3.9.13"
  },
  "orig_nbformat": 4
 },
 "nbformat": 4,
 "nbformat_minor": 2
}
