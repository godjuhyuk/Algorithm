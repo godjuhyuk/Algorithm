{
 "cells": [
  {
   "cell_type": "code",
   "execution_count": 2,
   "metadata": {},
   "outputs": [
    {
     "name": "stdout",
     "output_type": "stream",
     "text": [
      "45000\n"
     ]
    }
   ],
   "source": [
    "for _ in range(int(input())):\n",
    "    x, y = map(int, input().split())\n",
    "    a = x*y\n",
    "    temp = []\n",
    "    while a > 0:\n",
    "        if  a % x == 0:\n",
    "            temp.append(a)\n",
    "        a -= y\n",
    "    print(temp[len(temp)-1])"
   ]
  },
  {
   "cell_type": "code",
   "execution_count": 4,
   "metadata": {},
   "outputs": [
    {
     "data": {
      "text/plain": [
       "30"
      ]
     },
     "execution_count": 4,
     "metadata": {},
     "output_type": "execute_result"
    }
   ],
   "source": [
    "def lcm(a, b):\n",
    "    # 최대 공약수 구하기\n",
    "    def gcd(a, b):\n",
    "        if b == 0:\n",
    "            return a\n",
    "        return gcd(b, a % b)\n",
    "\n",
    "    # 최소 공배수 계산\n",
    "    return a * b // gcd(a, b)"
   ]
  },
  {
   "cell_type": "code",
   "execution_count": 3,
   "metadata": {},
   "outputs": [
    {
     "name": "stdout",
     "output_type": "stream",
     "text": [
      "9\n",
      "6\n"
     ]
    }
   ],
   "source": [
    "def lcm(a, b):\n",
    "    def gcd(a, b):\n",
    "        if b == 0:\n",
    "            return a\n",
    "        return gcd(b, a % b)\n",
    "\n",
    "    return a * b // gcd(a, b)\n",
    "\n",
    "for _ in range(int(input())):\n",
    "    x, y = map(int, input().split())\n",
    "    print(lcm(x, y))"
   ]
  }
 ],
 "metadata": {
  "kernelspec": {
   "display_name": "base",
   "language": "python",
   "name": "python3"
  },
  "language_info": {
   "codemirror_mode": {
    "name": "ipython",
    "version": 3
   },
   "file_extension": ".py",
   "mimetype": "text/x-python",
   "name": "python",
   "nbconvert_exporter": "python",
   "pygments_lexer": "ipython3",
   "version": "3.9.13"
  },
  "orig_nbformat": 4
 },
 "nbformat": 4,
 "nbformat_minor": 2
}
