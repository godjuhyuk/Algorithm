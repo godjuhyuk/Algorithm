{
 "cells": [
  {
   "cell_type": "code",
   "execution_count": null,
   "metadata": {},
   "outputs": [],
   "source": [
    "import sys\n",
    "input()\n",
    "arr = [x.strip() for x in sys.stdin.readlines()]\n",
    "test = {}\n",
    "for a in arr:\n",
    "    log = a.split(' ')\n",
    "    if log[1] == 'enter':\n",
    "        test[log[0]] = 1\n",
    "    elif log[1] == 'leave':\n",
    "        test[log[0]] = 0\n",
    "\n",
    "print('\\n'.join(sorted([key for key in test if test[key] == 1], reverse=True)))"
   ]
  }
 ],
 "metadata": {
  "language_info": {
   "name": "python"
  },
  "orig_nbformat": 4
 },
 "nbformat": 4,
 "nbformat_minor": 2
}
