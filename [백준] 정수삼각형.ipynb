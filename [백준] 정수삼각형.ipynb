{
 "cells": [
  {
   "cell_type": "code",
   "execution_count": null,
   "metadata": {},
   "outputs": [],
   "source": [
    "# 5\n",
    "# 7\n",
    "# 3 8\n",
    "# 8 1 0\n",
    "# 2 7 4 4\n",
    "# 4 5 2 6 5 \n",
    "\n",
    "# ans = 30\n",
    "\n",
    "N = int(input())\n",
    "tri = []\n",
    "for _ in range(N):\n",
    "    tri.append(list(map(int, input().split())))"
   ]
  }
 ],
 "metadata": {
  "language_info": {
   "name": "python"
  },
  "orig_nbformat": 4
 },
 "nbformat": 4,
 "nbformat_minor": 2
}
