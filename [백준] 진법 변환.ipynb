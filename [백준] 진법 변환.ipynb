{
 "cells": [
  {
   "cell_type": "code",
   "execution_count": 25,
   "metadata": {},
   "outputs": [
    {
     "ename": "TypeError",
     "evalue": "chr() takes exactly one argument (2 given)",
     "output_type": "error",
     "traceback": [
      "\u001b[1;31m---------------------------------------------------------------------------\u001b[0m",
      "\u001b[1;31mTypeError\u001b[0m                                 Traceback (most recent call last)",
      "Cell \u001b[1;32mIn[25], line 1\u001b[0m\n\u001b[1;32m----> 1\u001b[0m \u001b[39mchr\u001b[39;49m(\u001b[39m30\u001b[39;49m, \u001b[39m2\u001b[39;49m)\n",
      "\u001b[1;31mTypeError\u001b[0m: chr() takes exactly one argument (2 given)"
     ]
    }
   ],
   "source": [
    "chr(30, 2)"
   ]
  },
  {
   "cell_type": "code",
   "execution_count": 22,
   "metadata": {},
   "outputs": [
    {
     "data": {
      "text/plain": [
       "9310"
      ]
     },
     "execution_count": 22,
     "metadata": {},
     "output_type": "execute_result"
    }
   ],
   "source": [
    "# n,b=input().split()\n",
    "int('AAA', 30)"
   ]
  },
  {
   "cell_type": "code",
   "execution_count": 11,
   "metadata": {},
   "outputs": [
    {
     "name": "stdout",
     "output_type": "stream",
     "text": [
      "66739400096387\n"
     ]
    }
   ],
   "source": [
    "# 진법 변환 1\n",
    "N, B = input().split()\n",
    "ans, _len = 0, len(N) - 1\n",
    "for idx, val in enumerate(N):\n",
    "    if val.isdigit():\n",
    "        ans += int(val) * int(B) ** (_len - idx)\n",
    "    else:\n",
    "        ans += (ord(val)-55) * int(B) ** (_len - idx)\n",
    "print(ans)"
   ]
  },
  {
   "cell_type": "code",
   "execution_count": 31,
   "metadata": {},
   "outputs": [
    {
     "data": {
      "text/plain": [
       "'A'"
      ]
     },
     "execution_count": 31,
     "metadata": {},
     "output_type": "execute_result"
    }
   ],
   "source": [
    "chr(65)"
   ]
  },
  {
   "cell_type": "code",
   "execution_count": 52,
   "metadata": {},
   "outputs": [
    {
     "data": {
      "text/plain": [
       "3"
      ]
     },
     "execution_count": 52,
     "metadata": {},
     "output_type": "execute_result"
    }
   ],
   "source": [
    "3 % 35"
   ]
  },
  {
   "cell_type": "code",
   "execution_count": 60,
   "metadata": {},
   "outputs": [
    {
     "name": "stdout",
     "output_type": "stream",
     "text": [
      "ZZZZZ\n"
     ]
    }
   ],
   "source": [
    "# 진법 변환 2\n",
    "N, B = map(int, input().split())\n",
    "# def sol(N, B, ans='', cnt=0):\n",
    "#     if N < B:\n",
    "#         return N\n",
    "#     elif N == B:\n",
    "#         return '10'\n",
    "    \n",
    "#     while B ** cnt < N:\n",
    "#         cnt += 1\n",
    "#     for i in range(cnt-1, -1, -1):\n",
    "#         if N // (B**i) > 9:\n",
    "#             ans += chr(N // (B**i) + 55)\n",
    "#         else:\n",
    "#             ans += str(N // (B**i))\n",
    "#         N %= (B**i)\n",
    "#     return ans\n",
    "\n",
    "def sol(N, B, ans=''):\n",
    "    if N==0:\n",
    "        return '0'\n",
    "    while N>0:\n",
    "        ans += str(N%B) if N%B < 10 else (chr(N%B + 55))\n",
    "        N//=B\n",
    "    return ans[::-1]\n",
    "print(sol(N, B))\n"
   ]
  },
  {
   "cell_type": "code",
   "execution_count": 49,
   "metadata": {},
   "outputs": [
    {
     "data": {
      "text/plain": [
       "1"
      ]
     },
     "execution_count": 49,
     "metadata": {},
     "output_type": "execute_result"
    }
   ],
   "source": [
    "a = 5\n",
    "a%= 2\n",
    "a"
   ]
  }
 ],
 "metadata": {
  "kernelspec": {
   "display_name": "Python 3",
   "language": "python",
   "name": "python3"
  },
  "language_info": {
   "codemirror_mode": {
    "name": "ipython",
    "version": 3
   },
   "file_extension": ".py",
   "mimetype": "text/x-python",
   "name": "python",
   "nbconvert_exporter": "python",
   "pygments_lexer": "ipython3",
   "version": "3.11.1"
  },
  "orig_nbformat": 4
 },
 "nbformat": 4,
 "nbformat_minor": 2
}
