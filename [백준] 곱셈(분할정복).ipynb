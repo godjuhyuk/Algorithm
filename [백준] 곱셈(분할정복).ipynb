{
 "cells": [
  {
   "cell_type": "code",
   "execution_count": 7,
   "metadata": {},
   "outputs": [
    {
     "name": "stdout",
     "output_type": "stream",
     "text": [
      "3125\n",
      "3\n",
      "2\n"
     ]
    }
   ],
   "source": [
    "(A * A * A * A* ... A) % C = (A%C) * (A%C) * .... * (A%C)\n"
   ]
  },
  {
   "cell_type": "code",
   "execution_count": 1,
   "metadata": {},
   "outputs": [
    {
     "ename": "",
     "evalue": "",
     "output_type": "error",
     "traceback": [
      "\u001b[1;31mCannot execute code, session has been disposed. Please try restarting the Kernel."
     ]
    },
    {
     "ename": "",
     "evalue": "",
     "output_type": "error",
     "traceback": [
      "\u001b[1;31mThe Kernel crashed while executing code in the the current cell or a previous cell. Please review the code in the cell(s) to identify a possible cause of the failure. Click <a href='https://aka.ms/vscodeJupyterKernelCrash'>here</a> for more info. View Jupyter <a href='command:jupyter.viewOutput'>log</a> for further details."
     ]
    }
   ],
   "source": [
    "import sys\n",
    "A, B, C = map(int, sys.stdin.readline().split(\" \"))\n",
    "sum = 1\n",
    "def fast_multiple(A, B, C):\n",
    "    global sum\n",
    "    if b1 == 1 or b2 == 1:\n",
    "        sum *= A%C\n",
    "        sum %= C\n",
    "        return\n",
    "    else:\n",
    "        b1= B//2\n",
    "        b2 = B - b1\n",
    "        fast_multiple(A, b1, C)\n",
    "        fast_multiple(A, b2, C)\n",
    "fast_multiple(A, B, C)\n",
    "print(sum)\n"
   ]
  }
 ],
 "metadata": {
  "kernelspec": {
   "display_name": "Python 3",
   "language": "python",
   "name": "python3"
  },
  "language_info": {
   "codemirror_mode": {
    "name": "ipython",
    "version": 3
   },
   "file_extension": ".py",
   "mimetype": "text/x-python",
   "name": "python",
   "nbconvert_exporter": "python",
   "pygments_lexer": "ipython3",
   "version": "3.11.4"
  },
  "orig_nbformat": 4
 },
 "nbformat": 4,
 "nbformat_minor": 2
}
