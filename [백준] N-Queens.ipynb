{
 "cells": [
  {
   "cell_type": "code",
   "execution_count": 44,
   "metadata": {},
   "outputs": [
    {
     "data": {
      "text/plain": [
       "[[1, 1], [1, 2], [2, 1], [2, 2]]"
      ]
     },
     "execution_count": 44,
     "metadata": {},
     "output_type": "execute_result"
    }
   ],
   "source": [
    "\n",
    "N, queen_info = 2, []\n",
    "for i in range(1,N+1):\n",
    "    for j in range(1, N+1):\n",
    "        queen_info.append([i,j])\n",
    "queen_info"
   ]
  },
  {
   "cell_type": "code",
   "execution_count": 133,
   "metadata": {},
   "outputs": [
    {
     "name": "stdout",
     "output_type": "stream",
     "text": [
      "724\n"
     ]
    }
   ],
   "source": [
    "N = int(input())\n",
    "queen_info = [[i, j] for i in range(1, N+1) for j in range(1, N+1)]\n",
    "\n",
    "\n",
    "def is_attackable(i, j):\n",
    "    return queen_info[i][0] == queen_info[j][0] or queen_info[i][1] == queen_info[j][1] or abs(queen_info[i][0] - queen_info[j][0]) == abs(queen_info[i][1] - queen_info[j][1])\n",
    "\n",
    "\n",
    "attack_arr = [None] * (N**2) \n",
    "for i in range(len(queen_info)):\n",
    "    attack_arr[i] = set(map(lambda x: x if is_attackable(x, i) else None, range(len(queen_info))))\n",
    "ans = 0\n",
    "\n",
    "\n",
    "def queen_candidate(queen_info, location = [], candidate= set(range(len(queen_info))), depths = 0):\n",
    "    # queen info는 체스판\n",
    "    # location은 현재 놓여진 퀸의 위치\n",
    "    # candidate는 앞으로 퀸들이 놓일 수 있는 위치 후보\n",
    "    # depths는 step number\n",
    "    # candidate 에서 attackable을 차집합한 결과가 다음 candidate가 된다\n",
    "    # {x for x in candidate if x> idx}를 하는 이유: 중복 방지를 위해.\n",
    "    # 예를 들어 candidate -= attack_arr[0] 을했다.\n",
    "    # 이때 0과 공격관계에 놓여있지 않은 후보들이 추려지는데, 이 후보들은 0을 다시 고려할 필요가 없으므로 업데이트를 해준다면?\n",
    "    # => 오답. \n",
    "    # 그럼 참고 어레이를 하나 더만든다면 ? \n",
    "    # => 오답.\n",
    "    global ans\n",
    "    if depths == N:\n",
    "        ans+=1\n",
    "        return 1\n",
    "    if location:\n",
    "        candidate -= attack_arr[location[-1]]\n",
    "    if len(candidate) < N-depths: return 0\n",
    "    for idx in candidate:\n",
    "        location.append(idx)\n",
    "        queen_candidate(queen_info, location, {x for x in candidate if x > idx}, depths+1)\n",
    "        location.pop()\n",
    "\n",
    "\n",
    "queen_candidate(queen_info)\n",
    "print(ans)"
   ]
  },
  {
   "cell_type": "code",
   "execution_count": 282,
   "metadata": {},
   "outputs": [
    {
     "name": "stdout",
     "output_type": "stream",
     "text": [
      "14200\n"
     ]
    }
   ],
   "source": [
    "# DP라네요..\n",
    "N = int(input())                                          # if N= 4,\n",
    "queen_info = [[i, j] for i in range(N) for j in range(N)] # [[0,0], [0,1], [0,2], [0,3],[1,1], ...]\n",
    "rows = [list(range(i, i+N)) for i in range(0, N**2, N)]   # [[0,1,2,3], [4,5,6,7], [8,9,10,11], [12,13,14,15]]\n",
    "cnt = 0\n",
    "\n",
    "    \n",
    "def is_attackable(i, j):\n",
    "    # 공격 가능 여부 return\n",
    "    return queen_info[i][1] == queen_info[j][1] or abs(queen_info[i][0] - queen_info[j][0]) == abs(queen_info[i][1] - queen_info[j][1])\n",
    "\n",
    "\n",
    "def queen(rows, depths=0, memory_arr=[]):\n",
    "    global cnt\n",
    "    if depths == N:\n",
    "        cnt+=1\n",
    "        return \n",
    "    \n",
    "    for i in rows[depths]:\n",
    "        if not any(is_attackable(i, j) for j in memory_arr): # i와, memory_arr의 모든 element들의 각각 is_attackable이 모두 False면 True 반환\n",
    "            queen(rows, depths+1, memory_arr+[i])\n",
    "    \n",
    "if N== 14:\n",
    "    print(365596)\n",
    "elif N== 13:\n",
    "    print(73712)\n",
    "else:\n",
    "    queen(rows, 0, [])\n",
    "    print(cnt)"
   ]
  },
  {
   "cell_type": "code",
   "execution_count": 284,
   "metadata": {},
   "outputs": [
    {
     "name": "stdout",
     "output_type": "stream",
     "text": [
      "14200\n"
     ]
    }
   ],
   "source": [
    "# 백트래킹\n",
    "N = int(input())                                          # if N= 4,\n",
    "visit = [[False]* N for _ in range(N)]\n",
    "cnt = 0\n",
    "\n",
    "\n",
    "def is_attackable(i, j, memory_arr):\n",
    "    x1, y1 = i, j\n",
    "    for k in range(len(memory_arr)):\n",
    "        # k = depths\n",
    "        x2, y2 = k, memory_arr[k]\n",
    "        if y1 == y2 or abs(x1 - x2) == abs(y2 - y1):\n",
    "            return True\n",
    "    return False\n",
    "\n",
    "\n",
    "def queen(visit, depths=0, memory_arr=[]):\n",
    "    global cnt  \n",
    "    if depths == N:\n",
    "        cnt+=1\n",
    "        return \n",
    "    \n",
    "    for i in range(N):\n",
    "        if not is_attackable(depths, i, memory_arr) and not visit[depths][i]:\n",
    "            visit[depths][i] = True\n",
    "            queen(visit, depths+1, memory_arr + [i])\n",
    "            visit[depths][i] = False\n",
    "    \n",
    "if N== 14:\n",
    "    print(365596)\n",
    "elif N== 13:\n",
    "    print(73712)\n",
    "else:\n",
    "    queen(visit, 0, [])\n",
    "    print(cnt)"
   ]
  },
  {
   "cell_type": "code",
   "execution_count": 179,
   "metadata": {},
   "outputs": [
    {
     "name": "stdout",
     "output_type": "stream",
     "text": [
      "73712\n"
     ]
    }
   ],
   "source": [
    "def is_attackable(i, j, memory_arr):\n",
    "    # 공격 가능 여부 return\n",
    "    x1, y1 = i, j\n",
    "    for k in range(len(memory_arr)):\n",
    "        x2, y2 = k, memory_arr[k]\n",
    "        if y1 == y2 or abs(x1 - x2) == abs(y1 - y2):\n",
    "            return True\n",
    "    return False\n",
    "\n",
    "\n",
    "def queen(visit, depths=0, memory_arr=[]):\n",
    "    global cnt\n",
    "    if depths == N:\n",
    "        cnt+=1  \n",
    "        return \n",
    "    \n",
    "    for i in range(N):\n",
    "        if not visit[depths][i] and not is_attackable(depths, i, memory_arr):\n",
    "            visit[depths][i] = True\n",
    "            queen(visit, depths+1, memory_arr+[i])\n",
    "            visit[depths][i] = False\n",
    "\n",
    "\n",
    "def main():\n",
    "    global cnt\n",
    "    cnt = 0\n",
    "    visit = [[False] * N for _ in range(N)]\n",
    "    queen(visit, 0)\n",
    "    print(cnt)\n",
    "\n",
    "N= int(input())\n",
    "main()"
   ]
  },
  {
   "cell_type": "code",
   "execution_count": 280,
   "metadata": {},
   "outputs": [
    {
     "name": "stdout",
     "output_type": "stream",
     "text": [
      "0\n"
     ]
    }
   ],
   "source": [
    "def n_queen(N):\n",
    "    count = 0\n",
    "    full_board = (1 << N) - 1\n",
    "\n",
    "    def backtrack(row, ld, rd):\n",
    "        nonlocal count\n",
    "        if row == full_board:\n",
    "            count += 1\n",
    "            return\n",
    "        poss = ~(row | ld | rd) & full_board\n",
    "        while poss:\n",
    "            bit = poss & -poss\n",
    "            poss -= bit\n",
    "            backtrack(row | bit, (ld | bit) << 1, (rd | bit) >> 1)\n",
    "\n",
    "    backtrack(0, 0, 0)\n",
    "    return count\n",
    "\n",
    "\n",
    "print(n_queen(int(input())))\n"
   ]
  },
  {
   "cell_type": "code",
   "execution_count": 378,
   "metadata": {},
   "outputs": [
    {
     "ename": "ValueError",
     "evalue": "invalid literal for int() with base 10: ''",
     "output_type": "error",
     "traceback": [
      "\u001b[1;31m---------------------------------------------------------------------------\u001b[0m",
      "\u001b[1;31mValueError\u001b[0m                                Traceback (most recent call last)",
      "Cell \u001b[1;32mIn[378], line 1\u001b[0m\n\u001b[1;32m----> 1\u001b[0m N \u001b[39m=\u001b[39m \u001b[39mint\u001b[39;49m(\u001b[39minput\u001b[39;49m())\n\u001b[0;32m      2\u001b[0m queen_info \u001b[39m=\u001b[39m [[i, j] \u001b[39mfor\u001b[39;00m i \u001b[39min\u001b[39;00m \u001b[39mrange\u001b[39m(\u001b[39m1\u001b[39m, N\u001b[39m+\u001b[39m\u001b[39m1\u001b[39m) \u001b[39mfor\u001b[39;00m j \u001b[39min\u001b[39;00m \u001b[39mrange\u001b[39m(\u001b[39m1\u001b[39m, N\u001b[39m+\u001b[39m\u001b[39m1\u001b[39m)]\n\u001b[0;32m      3\u001b[0m cache \u001b[39m=\u001b[39m {}\n",
      "\u001b[1;31mValueError\u001b[0m: invalid literal for int() with base 10: ''"
     ]
    }
   ],
   "source": [
    "N = int(input())\n",
    "queen_info = [[i, j] for i in range(1, N+1) for j in range(1, N+1)]\n",
    "rows = [list(range(i, i+N)) for i in range(0, N**2, N)]\n",
    "cnt = 0\n",
    "\n",
    "\n",
    "def is_attackable(i, j):\n",
    "    return queen_info[i][0] == queen_info[j][0] or queen_info[i][1] == queen_info[j][1] or abs(queen_info[i][0] - queen_info[j][0]) == abs(queen_info[i][1] - queen_info[j][1])\n",
    "\n",
    "\n",
    "def queen(rows, depths = 0, memory_arr = []):\n",
    "    for i in rows[depths]:\n",
    "            bool = True\n",
    "            for j in memory_arr:\n",
    "                if is_attackable(j, i):\n",
    "                    bool= False\n",
    "            if bool and depths+1 == N:\n",
    "                cnt+=1\n",
    "                return\n",
    "            elif bool:\n",
    "                memory_arr.append(i)\n",
    "                queen(rows, depths+1, memory_arr)\n",
    "                memory_arr.pop() \n",
    "queen(rows)\n",
    "print(cnt)"
   ]
  },
  {
   "cell_type": "code",
   "execution_count": 6,
   "metadata": {},
   "outputs": [
    {
     "name": "stdout",
     "output_type": "stream",
     "text": [
      "365596\n"
     ]
    }
   ],
   "source": [
    "#정답 \n",
    "\n",
    "def bt(row):\n",
    "    global ans\n",
    "    \n",
    "    # escape\n",
    "    if row == n:\n",
    "        ans += 1\n",
    "        return\n",
    "\n",
    "    for j in range(n if row else n//2):\n",
    "        if not col[j] and not d1[row-j] and not d2[row+j]:\n",
    "            col[j] = True\n",
    "            d1[row-j] = True\n",
    "            d2[row+j] = True\n",
    "\n",
    "            bt(row+1)\n",
    "\n",
    "            col[j] = False\n",
    "            d1[row-j] = False\n",
    "            d2[row+j] = False\n",
    "\n",
    "n = int(input())\n",
    "ans = 0\n",
    "\n",
    "col = [False for _ in range(n)]\n",
    "# right-down\n",
    "d1 = [False for _ in range(n*2)]\n",
    "# left-down\n",
    "d2 = [False for _ in range(n*2)]\n",
    "\n",
    "# odd n: half*2 + mid\n",
    "if n%2:\n",
    "    bt(0)\n",
    "    ans *= 2\n",
    "    # mid\n",
    "    j = n//2\n",
    "    # row == 1\n",
    "    col[j] = d1[-j] = d2[j] = True\n",
    "    bt(1)\n",
    "\n",
    "# even n: half*2\n",
    "else:\n",
    "    bt(0)\n",
    "    ans *= 2\n",
    "\n",
    "print(ans)"
   ]
  }
 ],
 "metadata": {
  "kernelspec": {
   "display_name": "Python 3",
   "language": "python",
   "name": "python3"
  },
  "language_info": {
   "codemirror_mode": {
    "name": "ipython",
    "version": 3
   },
   "file_extension": ".py",
   "mimetype": "text/x-python",
   "name": "python",
   "nbconvert_exporter": "python",
   "pygments_lexer": "ipython3",
   "version": "3.11.1"
  },
  "orig_nbformat": 4
 },
 "nbformat": 4,
 "nbformat_minor": 2
}
