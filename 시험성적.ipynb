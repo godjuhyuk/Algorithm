{
 "cells": [
  {
   "cell_type": "code",
   "execution_count": 33,
   "metadata": {},
   "outputs": [
    {
     "name": "stdout",
     "output_type": "stream",
     "text": [
      "A\n"
     ]
    }
   ],
   "source": [
    "input_test = int(input())\n",
    "print('A') if input_test >= 90 else print('B') if input_test >= 80 else print('C') if input_test >= 70 else print('D') if input_test >= 60 else print('F')"
   ]
  }
 ],
 "metadata": {
  "interpreter": {
   "hash": "085600a7aa13deceb8deb0fe24866ff20c45f3fe42a7fd427e717b2e61e27c6a"
  },
  "kernelspec": {
   "display_name": "Python 3.10.1 64-bit",
   "language": "python",
   "name": "python3"
  },
  "language_info": {
   "codemirror_mode": {
    "name": "ipython",
    "version": 3
   },
   "file_extension": ".py",
   "mimetype": "text/x-python",
   "name": "python",
   "nbconvert_exporter": "python",
   "pygments_lexer": "ipython3",
   "version": "3.10.1"
  },
  "orig_nbformat": 4
 },
 "nbformat": 4,
 "nbformat_minor": 2
}
