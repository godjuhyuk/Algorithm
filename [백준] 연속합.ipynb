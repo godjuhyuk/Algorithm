{
 "cells": [
  {
   "cell_type": "code",
   "execution_count": 85,
   "metadata": {},
   "outputs": [
    {
     "name": "stdout",
     "output_type": "stream",
     "text": [
      "-1\n"
     ]
    }
   ],
   "source": [
    "# a, = [2, 1, -4, 3, 4, -4, 6, 5, -5, 1], []\n",
    "# a, b  = [13, 1, 1, -10, 15], []\n",
    "import sys\n",
    "N = int(input())\n",
    "def sol():\n",
    "    a, b= list(map(int, input().split())), []\n",
    "    _max, _sum = -sys.maxsize, 0\n",
    "    for num in a:\n",
    "        if num >= 0:\n",
    "            _sum += num\n",
    "        elif num < 0:\n",
    "            b.append(_sum)\n",
    "            b.append(num)\n",
    "            _sum = 0\n",
    "    \n",
    "    if a[-1] > 0:\n",
    "        b.append(_sum)\n",
    "    elif max(a) <= 0:\n",
    "        return max(a)\n",
    "    ans = 0\n",
    "    for x in range(len(b)):\n",
    "        if b[x] < 0 and abs(ans) < abs(b[x]):\n",
    "            ans = 0\n",
    "        else:\n",
    "            ans += b[x]\n",
    "        if ans > _max:\n",
    "            _max = ans\n",
    "    return _max\n",
    "print(sol())"
   ]
  }
 ],
 "metadata": {
  "kernelspec": {
   "display_name": "Python 3",
   "language": "python",
   "name": "python3"
  },
  "language_info": {
   "codemirror_mode": {
    "name": "ipython",
    "version": 3
   },
   "file_extension": ".py",
   "mimetype": "text/x-python",
   "name": "python",
   "nbconvert_exporter": "python",
   "pygments_lexer": "ipython3",
   "version": "3.11.1"
  },
  "orig_nbformat": 4
 },
 "nbformat": 4,
 "nbformat_minor": 2
}
