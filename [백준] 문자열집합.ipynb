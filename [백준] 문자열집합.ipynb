{
 "cells": [
  {
   "cell_type": "code",
   "execution_count": 7,
   "metadata": {},
   "outputs": [
    {
     "name": "stdout",
     "output_type": "stream",
     "text": [
      "['baekjoononlinejudge', 'startlink', 'codeplus', 'sundaycoding', 'codingsh']\n",
      "['baekjoon', 'codeplus', 'codeminus', 'startlink', 'starlink', 'sundaycoding', 'codingsh', 'codinghs', 'sondaycoding', 'startrink', 'icerink', '']\n"
     ]
    }
   ],
   "source": [
    "testtest= \"\"\"baekjoononlinejudge\n",
    "startlink\n",
    "codeplus\n",
    "sundaycoding\n",
    "codingsh\n",
    "baekjoon\n",
    "codeplus\n",
    "codeminus\n",
    "startlink\n",
    "starlink\n",
    "sundaycoding\n",
    "codingsh\n",
    "codinghs\n",
    "sondaycoding\n",
    "startrink\n",
    "icerink\n",
    "\"\"\"\n",
    "print(testtest.split('\\n')[0:5])\n",
    "print(testtest.split('\\n')[5:5+12])"
   ]
  },
  {
   "cell_type": "code",
   "execution_count": 11,
   "metadata": {},
   "outputs": [
    {
     "data": {
      "text/plain": [
       "'oononlinejudge\\nstartlink\\ncodeplus\\nsundaycoding\\ncodingsh\\nbaekjoon\\ncodeplus\\ncodeminus\\nstartlink\\nstarlink\\nsundaycoding\\ncodingsh\\ncodinghs\\nsondaycoding\\nstartrink\\nicerink\\n'"
      ]
     },
     "execution_count": 11,
     "metadata": {},
     "output_type": "execute_result"
    }
   ],
   "source": [
    "test_arr"
   ]
  },
  {
   "cell_type": "code",
   "execution_count": 14,
   "metadata": {},
   "outputs": [
    {
     "name": "stdout",
     "output_type": "stream",
     "text": [
      "2\n"
     ]
    }
   ],
   "source": [
    "import sys\n",
    "N, M = map(int, input().split())\n",
    "arr = [x.strip() for x in sys.stdin.readlines()]\n",
    "my_arr, test_arr = arr[0:N], arr[N:N+M]\n",
    "print(len([a for a in test_arr if a in my_arr]))"
   ]
  }
 ],
 "metadata": {
  "kernelspec": {
   "display_name": "base",
   "language": "python",
   "name": "python3"
  },
  "language_info": {
   "codemirror_mode": {
    "name": "ipython",
    "version": 3
   },
   "file_extension": ".py",
   "mimetype": "text/x-python",
   "name": "python",
   "nbconvert_exporter": "python",
   "pygments_lexer": "ipython3",
   "version": "3.9.13"
  },
  "orig_nbformat": 4
 },
 "nbformat": 4,
 "nbformat_minor": 2
}
