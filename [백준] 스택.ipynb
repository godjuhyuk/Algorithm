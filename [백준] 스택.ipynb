{
 "cells": [
  {
   "cell_type": "code",
   "execution_count": 8,
   "metadata": {},
   "outputs": [
    {
     "name": "stdout",
     "output_type": "stream",
     "text": [
      "-1\n",
      "-1\n",
      "-1\n",
      "-1\n",
      "-1\n"
     ]
    }
   ],
   "source": [
    "import sys\n",
    "# push X: 정수 X를 스택에 넣는 연산이다.\n",
    "# pop: 스택에서 가장 위에 있는 정수를 빼고, 그 수를 출력한다. 만약 스택에 들어있는 정수가 없는 경우에는 -1을 출력한다.\n",
    "# size: 스택에 들어있는 정수의 개수를 출력한다.\n",
    "# empty: 스택이 비어있으면 1, 아니면 0을 출력한다.\n",
    "# top: 스택의 가장 위에 있는 정수를 출력한다. 만약 스택에 들어있는 정수가 없는 경우에는 -1을 출력한다.\n",
    "def push(arr, val):\n",
    "    arr.append(val)\n",
    "\n",
    "def size(arr):\n",
    "    sys.stdout.write(str(len(arr))+ '\\n')\n",
    "\n",
    "\n",
    "def empty(arr):\n",
    "    sys.stdout.write(\"1\\n\" if len(arr) == 0 else \"0\\n\")\n",
    "\n",
    "\n",
    "def top(arr):\n",
    "    sys.stdout.write(str(arr[len(arr)-1]) + \"\\n\" if len(arr) > 0 else '-1\\n' )\n",
    "\n",
    "\n",
    "def pop(arr):\n",
    "    sys.stdout.write(str(arr.pop()) + \"\\n\" if len(arr) != 0 else \"-1\\n\")\n",
    "\n",
    "stack = []\n",
    "stack_dict = {\n",
    "    'push': push,\n",
    "    'size': size,\n",
    "    'empty': empty,\n",
    "    'top': top,\n",
    "    'pop': pop\n",
    "}\n",
    "\n",
    "for _ in range(int(input())):\n",
    "    # cmd = input().split(' ')\n",
    "    cmd = sys.stdin.readline().strip().split(' ')\n",
    "    stack_dict[cmd[0]](stack) if len(cmd) == 1 else stack_dict[cmd[0]](stack, cmd[1])"
   ]
  },
  {
   "cell_type": "code",
   "execution_count": null,
   "metadata": {},
   "outputs": [],
   "source": []
  }
 ],
 "metadata": {
  "kernelspec": {
   "display_name": "base",
   "language": "python",
   "name": "python3"
  },
  "language_info": {
   "codemirror_mode": {
    "name": "ipython",
    "version": 3
   },
   "file_extension": ".py",
   "mimetype": "text/x-python",
   "name": "python",
   "nbconvert_exporter": "python",
   "pygments_lexer": "ipython3",
   "version": "3.9.13"
  },
  "orig_nbformat": 4
 },
 "nbformat": 4,
 "nbformat_minor": 2
}
