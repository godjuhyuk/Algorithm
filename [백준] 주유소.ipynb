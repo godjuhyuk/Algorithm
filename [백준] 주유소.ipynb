{
 "cells": [
  {
   "cell_type": "code",
   "execution_count": 4,
   "metadata": {},
   "outputs": [
    {
     "name": "stdout",
     "output_type": "stream",
     "text": [
      "4\n",
      "4\n"
     ]
    }
   ],
   "source": [
    "import sys\n",
    "input = sys.stdin.readline\n",
    "N= int(input())\n",
    "dist = list(map(int, input().split()))\n",
    "price = list(map(int, input().split()))\n",
    "ans, all_dist = 0, 0\n",
    "i, j =  0, 1\n",
    "while j < N:\n",
    "    if price[i] <= price[j] and j < N-1:\n",
    "        j+=1\n",
    "    else:\n",
    "        for k in range(i, j):\n",
    "            all_dist += dist[k]\n",
    "        ans += price[i] * all_dist\n",
    "        i = j\n",
    "        j = i+1\n",
    "        all_dist = 0\n",
    "print(ans)"
   ]
  }
 ],
 "metadata": {
  "kernelspec": {
   "display_name": "Python 3",
   "language": "python",
   "name": "python3"
  },
  "language_info": {
   "codemirror_mode": {
    "name": "ipython",
    "version": 3
   },
   "file_extension": ".py",
   "mimetype": "text/x-python",
   "name": "python",
   "nbconvert_exporter": "python",
   "pygments_lexer": "ipython3",
   "version": "3.11.1"
  },
  "orig_nbformat": 4
 },
 "nbformat": 4,
 "nbformat_minor": 2
}
