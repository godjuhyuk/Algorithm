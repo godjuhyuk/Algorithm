{
 "cells": [
  {
   "cell_type": "code",
   "execution_count": 12,
   "metadata": {},
   "outputs": [
    {
     "name": "stdout",
     "output_type": "stream",
     "text": [
      "{'', 'b', 'bab', 'bc', 'c', 'aba', 'ba', 'babc', 'abab', 'ab', 'ababc', 'abc', 'a'}\n",
      "13\n"
     ]
    }
   ],
   "source": [
    "a = input()\n",
    "ans = set()\n",
    "for i in range(len(a)):\n",
    "    for j in range(len(a)+1):\n",
    "        ans.add(a[i:j])\n",
    "print(len(ans)-1)"
   ]
  },
  {
   "cell_type": "code",
   "execution_count": 20,
   "metadata": {},
   "outputs": [
    {
     "name": "stdout",
     "output_type": "stream",
     "text": [
      "[None, None, None, None, None, None, None, None, None, None, None, None, None, None, None, None, None, None, None, None, None, None, None, None, None, None, None, None, None, None]\n"
     ]
    }
   ],
   "source": [
    "import sys\n",
    "input = sys.stdin.readline\n",
    "\n",
    "def getsfxarr(s):\n",
    "\tn = len(s)\n",
    "\tt = 1\n",
    "\tsfxarr = list(range(n))\n",
    "\tgroup = [ord(s[i]) for i in range(n)] + [-1]\n",
    "\tnewgroup = [0 for _ in range(n + 1)]\n",
    "\tnewgroup[sfxarr[0]] = 0\n",
    "\tnewgroup[n] = -1\n",
    "\twhile t < n:\n",
    "\t\tsfxarr.sort(key = lambda x: (group[x], group[min(x+t, n)]))\n",
    "\t\t# print(sfxarr, group, newgroup)\n",
    "\t\tfor i in range(1, n):\n",
    "\t\t\tp, q = sfxarr[i-1], sfxarr[i]\n",
    "\t\t\tif group[p] != group[q] or group[min(p + t, n)] != group[min(q + t, n)]:\n",
    "\t\t\t\tnewgroup[q] = newgroup[p] + 1\n",
    "\t\t\telse:\n",
    "\t\t\t\tnewgroup[q] = newgroup[p]\n",
    "\t\tgroup = newgroup[:]\n",
    "\t\tt <<= 1\n",
    "\treturn sfxarr\n",
    "\n",
    "def getlcp(s):\n",
    "\tn = len(s)\n",
    "\tsfxarr = getsfxarr(s)\n",
    "\tk = 0\n",
    "\tlcp = [0 for _ in range(n)]\n",
    "\tinv_sfxarr = [0 for _ in range(n)]\n",
    "\tfor i in range(n):\n",
    "\t\tinv_sfxarr[sfxarr[i]] = i\n",
    "\tfor i in range(n):\n",
    "\t\tif inv_sfxarr[i]:\n",
    "\t\t\tj = sfxarr[inv_sfxarr[i] - 1]\n",
    "\t\t\twhile (j + k < n and i + k < n) and s[j + k] == s[i + k]:\n",
    "\t\t\t\tk += 1\n",
    "\t\t\tlcp[inv_sfxarr[i]] = k\n",
    "\t\t\tif k > 0:\n",
    "\t\t\t\tk -= 1\n",
    "\treturn lcp\n",
    "\n",
    "def best():\n",
    "\ts = input().rstrip()\n",
    "\tn = len(s)\n",
    "\tprint(n*(n+1)//2 - sum(getlcp(s)))\n",
    "\n",
    "if __name__ == \"__main__\":\n",
    "\t# solution()\n",
    "\tbest()"
   ]
  }
 ],
 "metadata": {
  "kernelspec": {
   "display_name": "base",
   "language": "python",
   "name": "python3"
  },
  "language_info": {
   "codemirror_mode": {
    "name": "ipython",
    "version": 3
   },
   "file_extension": ".py",
   "mimetype": "text/x-python",
   "name": "python",
   "nbconvert_exporter": "python",
   "pygments_lexer": "ipython3",
   "version": "3.9.13"
  },
  "orig_nbformat": 4
 },
 "nbformat": 4,
 "nbformat_minor": 2
}
