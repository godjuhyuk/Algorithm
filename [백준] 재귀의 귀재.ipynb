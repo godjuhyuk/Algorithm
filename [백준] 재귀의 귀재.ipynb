{
 "cells": [
  {
   "cell_type": "code",
   "execution_count": 12,
   "metadata": {},
   "outputs": [
    {
     "name": "stdout",
     "output_type": "stream",
     "text": [
      "0 1\n"
     ]
    }
   ],
   "source": [
    "import sys\n",
    "def recur(s, l, r, cnt):\n",
    "    cnt+=1\n",
    "    if l>=r:\n",
    "        print(*[1, cnt]);\n",
    "    elif s[l] != s[r]:\n",
    "        print(*[0, cnt]);\n",
    "    else:\n",
    "        return recur(s, l+1, r-1, cnt)\n",
    "def is_palindrome(s):\n",
    "    cnt = 0\n",
    "    return recur(s, 0, len(s)-1, cnt)\n",
    "input_ = [is_palindrome(x.strip()) for x in sys.stdin.readlines()[1:]]\n"
   ]
  }
 ],
 "metadata": {
  "kernelspec": {
   "display_name": "base",
   "language": "python",
   "name": "python3"
  },
  "language_info": {
   "codemirror_mode": {
    "name": "ipython",
    "version": 3
   },
   "file_extension": ".py",
   "mimetype": "text/x-python",
   "name": "python",
   "nbconvert_exporter": "python",
   "pygments_lexer": "ipython3",
   "version": "3.9.13"
  },
  "orig_nbformat": 4
 },
 "nbformat": 4,
 "nbformat_minor": 2
}
