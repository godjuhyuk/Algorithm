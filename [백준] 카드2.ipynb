{
 "cells": [
  {
   "cell_type": "code",
   "execution_count": 38,
   "metadata": {},
   "outputs": [
    {
     "name": "stdout",
     "output_type": "stream",
     "text": [
      "16\n"
     ]
    }
   ],
   "source": [
    "# 1차 시도 - 288ms\n",
    "N = int(input())\n",
    "deck = [0] * (2*N + 1)\n",
    "for i in range(1, N+1):\n",
    "    deck[i] = i\n",
    "front_idx = 1\n",
    "back_idx = N + 1\n",
    "while front_idx != back_idx-1:\n",
    "    deck[front_idx] = 0\n",
    "    front_idx +=1\n",
    "    deck[back_idx] = deck[front_idx]\n",
    "    deck[front_idx] = 0\n",
    "    front_idx+=1\n",
    "    back_idx += 1\n",
    "print(deck[front_idx])"
   ]
  },
  {
   "cell_type": "code",
   "execution_count": 48,
   "metadata": {},
   "outputs": [
    {
     "name": "stdout",
     "output_type": "stream",
     "text": [
      "4\n"
     ]
    }
   ],
   "source": [
    "# 2차 시도 - 228ms\n",
    "from collections import deque\n",
    "deck = deque([x for x in range(1, int(input())+1)])\n",
    "while len(deck) != 1:\n",
    "    deck.popleft()\n",
    "    deck.append(deck.popleft())\n",
    "print(deck[0])\n"
   ]
  }
 ],
 "metadata": {
  "kernelspec": {
   "display_name": "base",
   "language": "python",
   "name": "python3"
  },
  "language_info": {
   "name": "python",
   "version": "3.9.13"
  },
  "orig_nbformat": 4
 },
 "nbformat": 4,
 "nbformat_minor": 2
}
