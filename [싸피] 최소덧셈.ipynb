{
 "cells": [
  {
   "cell_type": "code",
   "execution_count": 26,
   "metadata": {},
   "outputs": [
    {
     "name": "stdout",
     "output_type": "stream",
     "text": [
      "#1 57\n",
      "#2 33\n",
      "#3 57\n"
     ]
    },
    {
     "ename": "ValueError",
     "evalue": "invalid literal for int() with base 10: ''",
     "output_type": "error",
     "traceback": [
      "\u001b[1;31m---------------------------------------------------------------------------\u001b[0m",
      "\u001b[1;31mValueError\u001b[0m                                Traceback (most recent call last)",
      "Cell \u001b[1;32mIn[26], line 4\u001b[0m\n\u001b[0;32m      2\u001b[0m n \u001b[39m=\u001b[39m \u001b[39minput\u001b[39m()\n\u001b[0;32m      3\u001b[0m l \u001b[39m=\u001b[39m \u001b[39mlen\u001b[39m(n)\n\u001b[1;32m----> 4\u001b[0m result \u001b[39m=\u001b[39m \u001b[39mint\u001b[39m(n[\u001b[39m0\u001b[39m]) \u001b[39m+\u001b[39m \u001b[39mint\u001b[39m(n[\u001b[39m1\u001b[39m]) \u001b[39mif\u001b[39;00m l \u001b[39m==\u001b[39m \u001b[39m2\u001b[39m \u001b[39melse\u001b[39;00m \u001b[39mint\u001b[39;49m(n[:l\u001b[39m/\u001b[39;49m\u001b[39m/\u001b[39;49m\u001b[39m2\u001b[39;49m]) \u001b[39m+\u001b[39m \u001b[39mint\u001b[39m(n[l\u001b[39m/\u001b[39m\u001b[39m/\u001b[39m\u001b[39m2\u001b[39m:])\n\u001b[0;32m      5\u001b[0m \u001b[39mprint\u001b[39m(\u001b[39mf\u001b[39m\u001b[39m\"\u001b[39m\u001b[39m#\u001b[39m\u001b[39m{\u001b[39;00mt\u001b[39m}\u001b[39;00m\u001b[39m \u001b[39m\u001b[39m{\u001b[39;00mresult\u001b[39m}\u001b[39;00m\u001b[39m\"\u001b[39m)\n",
      "\u001b[1;31mValueError\u001b[0m: invalid literal for int() with base 10: ''"
     ]
    }
   ],
   "source": [
    "for t in range(1, int(input()) + 1):\n",
    "    n = input()\n",
    "    l = len(n)\n",
    "    result = int(n[0]) + int(n[1]) if l == 2 else int(n[:l//2]) + int(n[l//2:])\n",
    "    print(f\"#{t} {result}\")"
   ]
  },
  {
   "cell_type": "code",
   "execution_count": 27,
   "metadata": {},
   "outputs": [
    {
     "data": {
      "text/plain": [
       "True"
      ]
     },
     "execution_count": 27,
     "metadata": {},
     "output_type": "execute_result"
    }
   ],
   "source": [
    "a = \"52\"\n",
    "b = \"42\"\n",
    "a>b"
   ]
  },
  {
   "cell_type": "code",
   "execution_count": 29,
   "metadata": {},
   "outputs": [
    {
     "name": "stdout",
     "output_type": "stream",
     "text": [
      "#1 3\n",
      "#2 4\n",
      "#3 9\n",
      "#4 7\n"
     ]
    }
   ],
   "source": [
    "T = int(input())\n",
    "for t in range(1, T + 1):\n",
    "    n = input()\n",
    "    l = len(n)\n",
    "    if l % 2 == 0:    \n",
    "        print(f\"#{t} {int(n[:l//2]) + int(n[l//2:])}\")\n",
    "    else:\n",
    "        a = int(n[:l//2])\n",
    "        b = int(n[l//2:])\n",
    "        c = int(n[:l//2+1])\n",
    "        d = int(n[l//2+1:])\n",
    "        print(f\"#{t} {a+b}\") if a+b <= c+d else print(f\"#{t} {c+d}\")\n"
   ]
  }
 ],
 "metadata": {
  "kernelspec": {
   "display_name": "Python 3",
   "language": "python",
   "name": "python3"
  },
  "language_info": {
   "codemirror_mode": {
    "name": "ipython",
    "version": 3
   },
   "file_extension": ".py",
   "mimetype": "text/x-python",
   "name": "python",
   "nbconvert_exporter": "python",
   "pygments_lexer": "ipython3",
   "version": "3.11.4"
  },
  "orig_nbformat": 4
 },
 "nbformat": 4,
 "nbformat_minor": 2
}
