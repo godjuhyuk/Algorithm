{
 "cells": [
  {
   "cell_type": "code",
   "execution_count": 11,
   "metadata": {},
   "outputs": [
    {
     "data": {
      "text/plain": [
       "130"
      ]
     },
     "execution_count": 11,
     "metadata": {},
     "output_type": "execute_result"
    }
   ],
   "source": [
    "len(chess_board)"
   ]
  },
  {
   "cell_type": "code",
   "execution_count": 41,
   "metadata": {},
   "outputs": [
    {
     "name": "stdout",
     "output_type": "stream",
     "text": [
      "['BBBBBBBB', 'BBBBBBBB', 'BBBBBBBB', 'BBBBBBBB', 'BBBBBBBB', 'BBBBBBBB', 'BBBBBBBB', 'BBBBBBBB']\n",
      "['BBBBBBBW', 'BBBBBBBB', 'BBBBBBBW', 'BBBBBBBB', 'BBBBBBBW', 'BBBBBBBB', 'BBBBBBBW', 'BBBBBBBB']\n",
      "['BBBBBBWB', 'BBBBBBBW', 'BBBBBBWB', 'BBBBBBBW', 'BBBBBBWB', 'BBBBBBBW', 'BBBBBBWB', 'BBBBBBBW']\n",
      "['BBBBBWBW', 'BBBBBBWB', 'BBBBBWBW', 'BBBBBBWB', 'BBBBBWBW', 'BBBBBBWB', 'BBBBBWBW', 'BBBBBBWB']\n",
      "['BBBBWBWB', 'BBBBBWBW', 'BBBBWBWB', 'BBBBBWBW', 'BBBBWBWB', 'BBBBBWBW', 'BBBBWBWB', 'BBBBBWBW']\n",
      "['BBBWBWBW', 'BBBBWBWB', 'BBBWBWBW', 'BBBBWBWB', 'BBBWBWBW', 'BBBBWBWB', 'BBBWBWBW', 'BBBBWBWB']\n",
      "['BBBBBBBB', 'BBBBBBBB', 'BBBBBBBB', 'BBBBBBBB', 'BBBBBBBB', 'BBBBBBBB', 'BBBBBBBB', 'WWWWWWWW']\n",
      "['BBBBBBBB', 'BBBBBBBW', 'BBBBBBBB', 'BBBBBBBW', 'BBBBBBBB', 'BBBBBBBW', 'BBBBBBBB', 'WWWWWWWW']\n",
      "['BBBBBBBW', 'BBBBBBWB', 'BBBBBBBW', 'BBBBBBWB', 'BBBBBBBW', 'BBBBBBWB', 'BBBBBBBW', 'WWWWWWWW']\n",
      "['BBBBBBWB', 'BBBBBWBW', 'BBBBBBWB', 'BBBBBWBW', 'BBBBBBWB', 'BBBBBWBW', 'BBBBBBWB', 'WWWWWWWB']\n",
      "['BBBBBWBW', 'BBBBWBWB', 'BBBBBWBW', 'BBBBWBWB', 'BBBBBWBW', 'BBBBWBWB', 'BBBBBWBW', 'WWWWWWBW']\n",
      "['BBBBWBWB', 'BBBWBWBW', 'BBBBWBWB', 'BBBWBWBW', 'BBBBWBWB', 'BBBWBWBW', 'BBBBWBWB', 'WWWWWBWB']\n",
      "['BBBBBBBB', 'BBBBBBBB', 'BBBBBBBB', 'BBBBBBBB', 'BBBBBBBB', 'BBBBBBBB', 'WWWWWWWW', 'WWWWWWWW']\n",
      "['BBBBBBBW', 'BBBBBBBB', 'BBBBBBBW', 'BBBBBBBB', 'BBBBBBBW', 'BBBBBBBB', 'WWWWWWWW', 'WWWWWWWW']\n",
      "['BBBBBBWB', 'BBBBBBBW', 'BBBBBBWB', 'BBBBBBBW', 'BBBBBBWB', 'BBBBBBBW', 'WWWWWWWW', 'WWWWWWWW']\n",
      "['BBBBBWBW', 'BBBBBBWB', 'BBBBBWBW', 'BBBBBBWB', 'BBBBBWBW', 'BBBBBBWB', 'WWWWWWWB', 'WWWWWWWB']\n",
      "['BBBBWBWB', 'BBBBBWBW', 'BBBBWBWB', 'BBBBBWBW', 'BBBBWBWB', 'BBBBBWBW', 'WWWWWWBW', 'WWWWWWBW']\n",
      "['BBBWBWBW', 'BBBBWBWB', 'BBBWBWBW', 'BBBBWBWB', 'BBBWBWBW', 'BBBBWBWB', 'WWWWWBWB', 'WWWWWBWB']\n",
      "12\n"
     ]
    }
   ],
   "source": [
    "import sys\n",
    "N, M= map(int, input().split())\n",
    "chess_board = \"\"\n",
    "for _ in range(N):\n",
    "    chess_board += input()\n",
    "chess_board = chess_board.replace(' ','')\n",
    "ans1= (\"BW\"*4 + \"WB\"*4) * 4\n",
    "ans2= (\"WB\"*4 + \"BW\"*4) * 4\n",
    "\n",
    "_min = 64\n",
    "for y in range(N-7):\n",
    "    for x in range(M-7):\n",
    "        start = x + M * y\n",
    "        temp_board = \"\" #빈 체스판\n",
    "        test = []\n",
    "        for i in range(8):\n",
    "            temp_board += chess_board[start:start+8]\n",
    "            test.append(chess_board[start:start+8])\n",
    "            start += M\n",
    "        cnt1 = 0\n",
    "        cnt2 = 0\n",
    "        for j in range(len(temp_board)):\n",
    "            if temp_board[j] != ans1[j]:\n",
    "                cnt1 += 1\n",
    "            if temp_board[j] != ans2[j]:\n",
    "                cnt2 += 1     \n",
    "        if _min > min(cnt1, cnt2): _min = min(cnt1, cnt2)\n",
    "print(_min)            "
   ]
  }
 ],
 "metadata": {
  "kernelspec": {
   "display_name": "base",
   "language": "python",
   "name": "python3"
  },
  "language_info": {
   "codemirror_mode": {
    "name": "ipython",
    "version": 3
   },
   "file_extension": ".py",
   "mimetype": "text/x-python",
   "name": "python",
   "nbconvert_exporter": "python",
   "pygments_lexer": "ipython3",
   "version": "3.9.13"
  },
  "orig_nbformat": 4
 },
 "nbformat": 4,
 "nbformat_minor": 2
}
