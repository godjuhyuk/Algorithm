{
 "cells": [
  {
   "cell_type": "code",
   "execution_count": 12,
   "metadata": {},
   "outputs": [
    {
     "name": "stdout",
     "output_type": "stream",
     "text": [
      "[0, 5, 9, 12, 14, 15]\n",
      "12\n",
      "3\n",
      "1\n"
     ]
    },
    {
     "data": {
      "text/plain": [
       "[None, None, None]"
      ]
     },
     "execution_count": 12,
     "metadata": {},
     "output_type": "execute_result"
    }
   ],
   "source": [
    "import sys\n",
    "N, M = map(int, input().split())\n",
    "num_list = list(map(int, input().split()))\n",
    "inv_arr = [x.strip() for x in sys.stdin.readlines()]\n",
    "# N, M, num_list, inv_arr = 5, 1, [5,4,3,2,1], ['1 3', '4 5', '5 5']\n",
    "memo = [0] * (N+1)\n",
    "memo[1] = num_list[0]\n",
    "for i in range(2, N+1):\n",
    "    memo[i] = memo[i-1] + num_list[i-1]\n",
    "print(memo)\n",
    "def sum_div(str):\n",
    "    a, b = map(int, str.split())\n",
    "    print(memo[b] - memo[a-1])\n",
    "list(map(sum_div, inv_arr))\n"
   ]
  },
  {
   "cell_type": "code",
   "execution_count": 4,
   "metadata": {},
   "outputs": [
    {
     "name": "stdout",
     "output_type": "stream",
     "text": [
      "3 4\n"
     ]
    }
   ],
   "source": [
    "a=  [[3, 4]]\n",
    "x, y = a[0]\n",
    "print(x, y)"
   ]
  }
 ],
 "metadata": {
  "kernelspec": {
   "display_name": "Python 3",
   "language": "python",
   "name": "python3"
  },
  "language_info": {
   "codemirror_mode": {
    "name": "ipython",
    "version": 3
   },
   "file_extension": ".py",
   "mimetype": "text/x-python",
   "name": "python",
   "nbconvert_exporter": "python",
   "pygments_lexer": "ipython3",
   "version": "3.11.1"
  },
  "orig_nbformat": 4
 },
 "nbformat": 4,
 "nbformat_minor": 2
}
