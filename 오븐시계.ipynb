{
 "cells": [
  {
   "cell_type": "code",
   "execution_count": 8,
   "metadata": {},
   "outputs": [
    {
     "name": "stdout",
     "output_type": "stream",
     "text": [
      "3 31\n"
     ]
    }
   ],
   "source": [
    "hour, minute = map(int, input().split())\n",
    "operate_time = int(input())\n",
    "operate_hour = int(operate_time / 60)\n",
    "operate_minute = operate_time % 60\n",
    "\n",
    "return_hour = ( hour + operate_hour + 1 ) % 24 if (operate_minute + minute) >= 60 else (hour + operate_hour) % 24\n",
    "return_minute = (operate_minute + minute) % 60\n",
    "print(return_hour, return_minute)"
   ]
  }
 ],
 "metadata": {
  "interpreter": {
   "hash": "085600a7aa13deceb8deb0fe24866ff20c45f3fe42a7fd427e717b2e61e27c6a"
  },
  "kernelspec": {
   "display_name": "Python 3.10.1 64-bit",
   "language": "python",
   "name": "python3"
  },
  "language_info": {
   "codemirror_mode": {
    "name": "ipython",
    "version": 3
   },
   "file_extension": ".py",
   "mimetype": "text/x-python",
   "name": "python",
   "nbconvert_exporter": "python",
   "pygments_lexer": "ipython3",
   "version": "3.10.1"
  },
  "orig_nbformat": 4
 },
 "nbformat": 4,
 "nbformat_minor": 2
}
