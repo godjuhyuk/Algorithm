{
 "cells": [
  {
   "cell_type": "code",
   "execution_count": 53,
   "metadata": {},
   "outputs": [
    {
     "name": "stdout",
     "output_type": "stream",
     "text": [
      "[0, 1] 5\n",
      "[0, 2] 9\n",
      "[0, 3] 6\n",
      "[1, 2] 6\n",
      "[1, 3] 10\n",
      "[2, 3] 7\n",
      "0\n"
     ]
    }
   ],
   "source": [
    "import sys\n",
    "N= int(input())\n",
    "S= [list(map(int, sys.stdin.readline())) for _ in range(N)]\n",
    "# N = 4\n",
    "# S= [\n",
    "#     [0, 1, 2, 3],\n",
    "#     [4, 0, 5, 6],\n",
    "#     [7, 1, 0, 2],\n",
    "#     [3, 4, 5, 0]\n",
    "#                 ]\n",
    "_min = sys.maxsize\n",
    "def sol(S, member_list= set(range(N)),team_a = [], team_b = [], cnt = 0, sum_a = 0, sum_b = 0):\n",
    "    global _min    \n",
    "    for a in team_a[:-1]:\n",
    "        sum_a += S[a][team_a[-1]] + S[team_a[-1]][a]\n",
    "    \n",
    "    \n",
    "    # for b in team_b[:-1]:\n",
    "    #     sum_b += S[b][team_b[-1]] + S[team_b[-1]][b]\n",
    "    if cnt == N//2 and len(team_a) == N//2:\n",
    "        print(team_a, sum_a)\n",
    "        for i in range(N//2):\n",
    "            for j in range(i+1, N//2):\n",
    "                sum_b += S[i][j] + S[j][i]\n",
    "        # if cnt == N and len(team_a) == N//2 and len(team_b) == N//2:\n",
    "        if _min > abs(sum_b - sum_a):\n",
    "            _min = abs(sum_b - sum_a)\n",
    "        return\n",
    "    elif len(team_a) > N//2 or len(team_b) > N//2:\n",
    "        return\n",
    "    for member_num in member_list:\n",
    "        if member_num in team_a or member_num in team_b:\n",
    "            continue\n",
    "        elif len(team_a) == 0:\n",
    "            team_a.append(member_num)\n",
    "            sol(S, member_list - set([member_num]), team_a, team_b, cnt+1, sum_a, sum_b)\n",
    "            team_a.pop()\n",
    "        elif len(team_a) < N//2 and team_a[-1] < member_num:\n",
    "            team_a.append(member_num)\n",
    "            sol(S, member_list - set([member_num]), team_a, team_b, cnt+1, sum_a, sum_b)\n",
    "            team_a.pop()\n",
    "        # elif len(team_b) == 0:\n",
    "        #     team_b.append(member_num)\n",
    "        #     sol(S, member_list - set([member_num]), team_a, team_b, cnt+1, sum_a, sum_b)\n",
    "        #     team_b.pop()\n",
    "        # elif len(team_b) < N//2 and team_b[-1] < member_num:\n",
    "        #     team_b.append(member_num)\n",
    "        #     sol(S, member_list - set([member_num]), team_a, team_b, cnt+1, sum_a, sum_b)\n",
    "        #     team_b.pop()\n",
    "        \n",
    "sol(S)\n",
    "print(_min)"
   ]
  },
  {
   "cell_type": "code",
   "execution_count": 66,
   "metadata": {},
   "outputs": [
    {
     "name": "stdout",
     "output_type": "stream",
     "text": [
      "2\n"
     ]
    }
   ],
   "source": [
    "import sys\n",
    "N= int(input())\n",
    "S= [list(map(int, input().split())) for _ in range(N)]\n",
    "for i in range(N):\n",
    "    for j in range(i+1,N):\n",
    "        S[i][j] += S[j][i]\n",
    "        S[j][i] = S[i][j]\n",
    "\n",
    "_min = sys.maxsize\n",
    "def sol(S, member_list= set(range(N)),team_a = [], cnt = 0, sum_a = 0):\n",
    "    global _min    \n",
    "    for a in team_a[:-1]:\n",
    "        sum_a += S[a][team_a[-1]] + S[team_a[-1]][a]\n",
    "        \n",
    "    if cnt == N/2:\n",
    "        team_b, sum_b = list(member_list), 0\n",
    "        for i in range(N//2):\n",
    "            for j in range(i+1, N//2):\n",
    "                sum_b += S[team_b[i]][team_b[j]] + S[team_b[j]][team_b[i]]\n",
    "        if _min > abs(sum_b - sum_a):\n",
    "            _min = abs(sum_b - sum_a)\n",
    "        return\n",
    "    \n",
    "    for member_num in member_list:\n",
    "        if len(team_a) == 0:\n",
    "            sol(S, member_list - set([member_num]), team_a + [member_num], cnt+1, sum_a)\n",
    "        elif len(team_a) < N/2 and team_a[-1] < member_num:\n",
    "            sol(S, member_list - set([member_num]), team_a + [member_num], cnt+1, sum_a)\n",
    "        \n",
    "sol(S)\n",
    "print(_min)"
   ]
  },
  {
   "cell_type": "code",
   "execution_count": 67,
   "metadata": {},
   "outputs": [
    {
     "name": "stdout",
     "output_type": "stream",
     "text": [
      "2\n"
     ]
    }
   ],
   "source": [
    "import sys\n",
    "N= int(input())\n",
    "S= [list(map(int, input().split())) for _ in range(N)]\n",
    "for i in range(N):\n",
    "    for j in range(i+1,N):\n",
    "        S[i][j] += S[j][i]\n",
    "        S[j][i] = S[i][j]\n",
    "\n",
    "_min = sys.maxsize\n",
    "def sol(S, member_list= set(range(N)),team_a = [], cnt = 0, sum_a = 0):\n",
    "    global _min    \n",
    "    if len(team_a) > N/2:\n",
    "        return\n",
    "    if len(team_a) > 1 and team_a[-2] > team_a[-1]:\n",
    "        return\n",
    "    for a in team_a[:-1]:\n",
    "        sum_a += S[a][team_a[-1]]\n",
    "        \n",
    "    if cnt == N/2:\n",
    "        team_b, sum_b = list(member_list), 0\n",
    "        for i in range(N//2):\n",
    "            for j in range(i+1, N//2):\n",
    "                sum_b += S[team_b[i]][team_b[j]]\n",
    "        if _min > abs(sum_b - sum_a):\n",
    "            _min = abs(sum_b - sum_a)\n",
    "        return\n",
    "    \n",
    "    for member_num in member_list:\n",
    "        sol(S, member_list - set([member_num]), team_a + [member_num], cnt+1, sum_a)\n",
    "        \n",
    "sol(S)\n",
    "print(_min)\n"
   ]
  }
 ],
 "metadata": {
  "kernelspec": {
   "display_name": "Python 3",
   "language": "python",
   "name": "python3"
  },
  "language_info": {
   "codemirror_mode": {
    "name": "ipython",
    "version": 3
   },
   "file_extension": ".py",
   "mimetype": "text/x-python",
   "name": "python",
   "nbconvert_exporter": "python",
   "pygments_lexer": "ipython3",
   "version": "3.11.1"
  },
  "orig_nbformat": 4
 },
 "nbformat": 4,
 "nbformat_minor": 2
}
