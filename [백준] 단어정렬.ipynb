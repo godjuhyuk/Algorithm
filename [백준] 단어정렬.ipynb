{
 "cells": [
  {
   "cell_type": "code",
   "execution_count": 10,
   "metadata": {},
   "outputs": [
    {
     "name": "stdout",
     "output_type": "stream",
     "text": [
      "i\n",
      "no\n",
      "im\n",
      "but\n",
      "wont\n",
      "wait\n",
      "more\n",
      "yours\n",
      "hesitate\n",
      "it\n",
      "cannot\n",
      "\n"
     ]
    }
   ],
   "source": [
    "print(''.join(sorted(['wont\\n', 'wait\\n', 'no\\n', 'im\\n', 'i\\n', 'it\\ncannot\\n', 'more\\n', 'hesitate\\n', 'but\\n', 'yours\\n'], key=lambda x : len(x))))"
   ]
  },
  {
   "cell_type": "code",
   "execution_count": 22,
   "metadata": {},
   "outputs": [
    {
     "data": {
      "text/plain": [
       "['c', 'b', 'i', 'a', 'no', 'ia', 'na', 'im']"
      ]
     },
     "execution_count": 22,
     "metadata": {},
     "output_type": "execute_result"
    }
   ],
   "source": [
    "sorted(list(set(['i','a','b','c','im','no','ia','na'])), key=lambda x: (len(x)))"
   ]
  },
  {
   "cell_type": "code",
   "execution_count": 6,
   "metadata": {},
   "outputs": [
    {
     "name": "stdout",
     "output_type": "stream",
     "text": [
      "['i', 'it', 'ii', 'ia', 'abcdef']\n"
     ]
    }
   ],
   "source": [
    "import sys\n",
    "print(''.join(sorted(list(set(sys.stdin.readlines()[1:])), key=lambda x: (len(x), x))))\n"
   ]
  }
 ],
 "metadata": {
  "kernelspec": {
   "display_name": "base",
   "language": "python",
   "name": "python3"
  },
  "language_info": {
   "codemirror_mode": {
    "name": "ipython",
    "version": 3
   },
   "file_extension": ".py",
   "mimetype": "text/x-python",
   "name": "python",
   "nbconvert_exporter": "python",
   "pygments_lexer": "ipython3",
   "version": "3.9.13"
  },
  "orig_nbformat": 4
 },
 "nbformat": 4,
 "nbformat_minor": 2
}
