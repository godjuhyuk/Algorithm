{
 "cells": [
  {
   "cell_type": "code",
   "execution_count": 19,
   "metadata": {},
   "outputs": [
    {
     "name": "stdout",
     "output_type": "stream",
     "text": [
      "21\n"
     ]
    }
   ],
   "source": [
    "# 입력의 첫째 줄에 계단의 개수가 주어진다.\n",
    "\n",
    "# 둘째 줄부터 한 줄에 하나씩 제일 아래에 놓인 계단부터 순서대로 각 계단에 쓰여 있는 점수가 주어진다.\n",
    "# 계단의 개수는 300이하의 자연수이고, 계단에 쓰여 있는 점수는 10,000이하의 자연수이다.\n",
    "\n",
    "# 출력\n",
    "# 첫째 줄에 계단 오르기 게임에서 얻을 수 있는 총 점수의 최댓값을 출력한다.\n",
    "\n",
    "# n= 6\n",
    "# stairs = [10,20,15,25,10,20]\n",
    "import sys\n",
    "n= int(input())\n",
    "stairs = [int(x.strip()) for x in sys.stdin.readlines()]\n",
    "d=[0]*301\n",
    "if n==1:\n",
    "    print(stairs[0])\n",
    "elif n==2:\n",
    "    print(stairs[0]+stairs[1])\n",
    "else:\n",
    "    d[1]=stairs[0]\n",
    "    d[2]=stairs[0]+stairs[1]\n",
    "    d[3]=max(stairs[0]+stairs[2],stairs[1]+stairs[2])\n",
    "    for i in range(4,n+1):\n",
    "        d[i]=max(d[i-3]+stairs[i-2]+stairs[i-1], d[i-2]+stairs[i-1])\n",
    "    print(d[n])\n",
    "# dp = [[0 for _ in range(i+1)] for i in range(N)]\n",
    "# stair_idx = 0\n",
    "# while stair_idx < N:\n",
    "    # dp[stair_idx][0] = stairs_arr[stair_idx]\n",
    "\n",
    "# for i in range(N):\n",
    "#     for j in range(i+1):\n",
    "#         dp[i][j] = dp[i-1][j-1] + stairs_arr[j]\n",
    "\n",
    "#[10]\n",
    "#[30(연속), 20(점프)]\n",
    "#[55(점프), 35(연속), 45(또 점프)]\n",
    "#[65(연속-> 탈락), 75(점프), 45(점프), 55(연속 -> 탈락), 65(또 점프)]\n",
    "#[]\n",
    "# =>\n",
    "# [[10, not jumped]]\n",
    "# [[30, continuous], []]"
   ]
  }
 ],
 "metadata": {
  "kernelspec": {
   "display_name": "Python 3",
   "language": "python",
   "name": "python3"
  },
  "language_info": {
   "codemirror_mode": {
    "name": "ipython",
    "version": 3
   },
   "file_extension": ".py",
   "mimetype": "text/x-python",
   "name": "python",
   "nbconvert_exporter": "python",
   "pygments_lexer": "ipython3",
   "version": "3.11.1"
  },
  "orig_nbformat": 4
 },
 "nbformat": 4,
 "nbformat_minor": 2
}
