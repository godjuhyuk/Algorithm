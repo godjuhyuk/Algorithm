{
 "cells": [
  {
   "cell_type": "code",
   "execution_count": null,
   "metadata": {},
   "outputs": [],
   "source": [
    "\n",
    "# push_front X: 정수 X를 덱의 앞에 넣는다.\n",
    "# push_back X: 정수 X를 덱의 뒤에 넣는다.\n",
    "# pop_front: 덱의 가장 앞에 있는 수를 빼고, 그 수를 출력한다. 만약, 덱에 들어있는 정수가 없는 경우에는 -1을 출력한다.\n",
    "# pop_back: 덱의 가장 뒤에 있는 수를 빼고, 그 수를 출력한다. 만약, 덱에 들어있는 정수가 없는 경우에는 -1을 출력한다.\n",
    "# size: 덱에 들어있는 정수의 개수를 출력한다.\n",
    "# empty: 덱이 비어있으면 1을, 아니면 0을 출력한다.\n",
    "# front: 덱의 가장 앞에 있는 정수를 출력한다. 만약 덱에 들어있는 정수가 없는 경우에는 -1을 출력한다.\n",
    "# back: 덱의 가장 뒤에 있는 정수를 출력한다. 만약 덱에 들어있는 정수가 없는 경우에는 -1을 출력한다."
   ]
  },
  {
   "cell_type": "code",
   "execution_count": 24,
   "metadata": {},
   "outputs": [
    {
     "name": "stdout",
     "output_type": "stream",
     "text": [
      "3\n",
      "3\n",
      "-1\n",
      "-1\n"
     ]
    }
   ],
   "source": [
    "import sys\n",
    "# cmd_arr = [input() for _ in range(5)]\n",
    "cmd_arr = [x.strip() for x in sys.stdin.readlines()[1:]]\n",
    "deck = [0] * 30001\n",
    "front_idx, back_idx = 10000, 9999\n",
    "ans = []\n",
    "for cmd in cmd_arr:\n",
    "    if cmd == 'size':\n",
    "        ans.append(str(back_idx - front_idx + 1))\n",
    "    elif cmd =='empty':\n",
    "        ans.append('1') if back_idx - front_idx < 0 else ans.append('0')\n",
    "    elif cmd =='front':\n",
    "        ans.append(deck[front_idx]) if front_idx <= back_idx else ans.append('-1')\n",
    "    elif cmd =='back':\n",
    "        ans.append(deck[back_idx]) if front_idx <= back_idx else ans.append('-1')\n",
    "    elif cmd =='pop_front':\n",
    "        if front_idx <= back_idx:\n",
    "            ans.append(deck[front_idx]) \n",
    "            front_idx += 1\n",
    "        else:\n",
    "            ans.append('-1')\n",
    "    elif cmd =='pop_back':\n",
    "        if front_idx <= back_idx:\n",
    "            ans.append(deck[back_idx]) \n",
    "            back_idx -= 1\n",
    "        else:\n",
    "            ans.append('-1')\n",
    "    elif cmd[0:6] =='push_f':\n",
    "        front_idx -= 1\n",
    "        deck[front_idx] = cmd.split(' ')[1]\n",
    "    else:\n",
    "        back_idx +=1 \n",
    "        deck[back_idx] = cmd.split(' ')[1]\n",
    "print('\\n'.join(ans))        "
   ]
  },
  {
   "cell_type": "code",
   "execution_count": 25,
   "metadata": {},
   "outputs": [
    {
     "data": {
      "text/plain": [
       "['3', '3', '-1', '-1']"
      ]
     },
     "execution_count": 25,
     "metadata": {},
     "output_type": "execute_result"
    }
   ],
   "source": [
    "ans"
   ]
  },
  {
   "cell_type": "code",
   "execution_count": 20,
   "metadata": {},
   "outputs": [
    {
     "ename": "IndexError",
     "evalue": "list index out of range",
     "output_type": "error",
     "traceback": [
      "\u001b[1;31m---------------------------------------------------------------------------\u001b[0m",
      "\u001b[1;31mIndexError\u001b[0m                                Traceback (most recent call last)",
      "\u001b[1;32m~\\AppData\\Local\\Temp\\ipykernel_8256\\3157842538.py\u001b[0m in \u001b[0;36m<module>\u001b[1;34m\u001b[0m\n\u001b[1;32m----> 1\u001b[1;33m \u001b[0mans\u001b[0m\u001b[1;33m[\u001b[0m\u001b[1;36m9999\u001b[0m\u001b[1;33m]\u001b[0m\u001b[1;33m\u001b[0m\u001b[1;33m\u001b[0m\u001b[0m\n\u001b[0m",
      "\u001b[1;31mIndexError\u001b[0m: list index out of range"
     ]
    }
   ],
   "source": [
    "ans[9999]"
   ]
  }
 ],
 "metadata": {
  "kernelspec": {
   "display_name": "base",
   "language": "python",
   "name": "python3"
  },
  "language_info": {
   "codemirror_mode": {
    "name": "ipython",
    "version": 3
   },
   "file_extension": ".py",
   "mimetype": "text/x-python",
   "name": "python",
   "nbconvert_exporter": "python",
   "pygments_lexer": "ipython3",
   "version": "3.9.13"
  },
  "orig_nbformat": 4
 },
 "nbformat": 4,
 "nbformat_minor": 2
}
