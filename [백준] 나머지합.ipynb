{
 "cells": [
  {
   "cell_type": "code",
   "execution_count": 52,
   "metadata": {},
   "outputs": [
    {
     "name": "stdout",
     "output_type": "stream",
     "text": [
      "{0: [2, 3, 5], 1: [1, 4], 2: []}\n",
      "7\n"
     ]
    }
   ],
   "source": [
    "from math import comb\n",
    "# N, M = map(int, input().split())\n",
    "# num_arr = list(map(int, input().split()))\n",
    "N, M = 5, 3\n",
    "num_arr = [1,2,3,1,2]\n",
    "ans = 0\n",
    "prefix = [0] * (N+1)\n",
    "memo = {}\n",
    "for key in range(M):\n",
    "    memo[key] = []\n",
    "\n",
    "for i in range(1, N+1):\n",
    "    prefix[i] = prefix[i-1] + num_arr[i-1]\n",
    "    memo[prefix[i] % M].append(i)\n",
    "\n",
    "for key in memo:\n",
    "    l = len(memo[key])\n",
    "    if key == 0:\n",
    "        ans += l + comb(l, 2)\n",
    "    elif l!=0:\n",
    "        ans += comb(l, 2)\n",
    "# front, back = 0, 1\n",
    "# while True:\n",
    "#     if front == N-1 and back == N: break\n",
    "    \n",
    "#     if (prefix[back] - prefix[front]) % M == 0:\n",
    "#         ans +=1 \n",
    "#     back +=1\n",
    "#     if back > N:\n",
    "#         front +=1\n",
    "#         back = front+1\n",
    "# for i in range(N+1):\n",
    "#     for j in range(i+1, N+1):\n",
    "#         print(i,j)\n",
    "#         if (prefix[j] - prefix[i]) % M == 0:\n",
    "#             ans +=1\n",
    "print(ans)"
   ]
  },
  {
   "cell_type": "markdown",
   "metadata": {},
   "source": []
  },
  {
   "cell_type": "code",
   "execution_count": 54,
   "metadata": {},
   "outputs": [
    {
     "name": "stdout",
     "output_type": "stream",
     "text": [
      "7\n"
     ]
    }
   ],
   "source": [
    "# N, M = map(int, input().split())\n",
    "# num_arr = list(map(int, input().split()))\n",
    "N, M = 5, 3\n",
    "num_arr = [1,2,3,1,2]\n",
    "ans = 0\n",
    "prefix = [0] * (N+1)\n",
    "memo = {}\n",
    "for key in range(M):\n",
    "    memo[key] = 0\n",
    "\n",
    "for i in range(1, N+1):\n",
    "    prefix[i] = prefix[i-1] + num_arr[i-1]\n",
    "    memo[prefix[i] % M]+=1\n",
    "\n",
    "for key in memo:\n",
    "    l = memo[key]\n",
    "    if key == 0:\n",
    "        ans += l + l*(l-1)/2\n",
    "    elif l!=0:\n",
    "        ans += l*(l-1)/2\n",
    "print(int(ans))"
   ]
  }
 ],
 "metadata": {
  "kernelspec": {
   "display_name": "Python 3",
   "language": "python",
   "name": "python3"
  },
  "language_info": {
   "codemirror_mode": {
    "name": "ipython",
    "version": 3
   },
   "file_extension": ".py",
   "mimetype": "text/x-python",
   "name": "python",
   "nbconvert_exporter": "python",
   "pygments_lexer": "ipython3",
   "version": "3.11.1"
  },
  "orig_nbformat": 4
 },
 "nbformat": 4,
 "nbformat_minor": 2
}
