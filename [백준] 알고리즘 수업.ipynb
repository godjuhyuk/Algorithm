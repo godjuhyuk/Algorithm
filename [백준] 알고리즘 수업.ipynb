{
 "cells": [
  {
   "cell_type": "code",
   "execution_count": 2,
   "metadata": {},
   "outputs": [
    {
     "name": "stdout",
     "output_type": "stream",
     "text": [
      "True\n"
     ]
    }
   ],
   "source": [
    "# 첫째 줄에 함수 f(n)을 나타내는 정수 a1, a0가 주어진다. (0 ≤ |ai| ≤ 100)\n",
    "\n",
    "# 다음 줄에 양의 정수 c가 주어진다. (1 ≤ c ≤ 100)\n",
    "\n",
    "# 다음 줄에 양의 정수 n0가 주어진다. (1 ≤ n0 ≤ 100)\n",
    "\n",
    "# f(n) = 7n + 7, g(n) = n, c = 8, n0 = 1이다. f(1) = 14, c × g(1) = 8이므로 O(n) 정의를 만족하지 못한다.\n",
    "\n",
    "# f(n) = 7n + 7, g(n) = n, c = 8, n0 = 10이다. 모든 n ≥ 10에 대하여 7n + 7 ≤ 8n 이므로 O(n) 정의를 만족한다.\n",
    "\n",
    "a, b = map(int, input().split())\n",
    "c = int(input())\n",
    "n0 = int(input())\n",
    "return_bool = 1\n",
    "for i in range(n0, 100):\n",
    "    if a * i + b > c * i:\n",
    "        return_bool = 0\n",
    "        break\n",
    "\n",
    "print(return_bool)"
   ]
  }
 ],
 "metadata": {
  "kernelspec": {
   "display_name": "Python 3",
   "language": "python",
   "name": "python3"
  },
  "language_info": {
   "codemirror_mode": {
    "name": "ipython",
    "version": 3
   },
   "file_extension": ".py",
   "mimetype": "text/x-python",
   "name": "python",
   "nbconvert_exporter": "python",
   "pygments_lexer": "ipython3",
   "version": "3.6.7"
  },
  "orig_nbformat": 4
 },
 "nbformat": 4,
 "nbformat_minor": 2
}
