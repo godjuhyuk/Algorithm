{
 "cells": [
  {
   "cell_type": "code",
   "execution_count": 13,
   "metadata": {},
   "outputs": [
    {
     "name": "stdout",
     "output_type": "stream",
     "text": [
      "+\n",
      "+\n",
      "+\n",
      "+\n",
      "-\n",
      "-\n",
      "+\n",
      "+\n",
      "-\n",
      "+\n",
      "+\n",
      "-\n",
      "-\n",
      "-\n",
      "-\n",
      "-\n"
     ]
    }
   ],
   "source": [
    "#1차 시도\n",
    "import sys\n",
    "N = int(input())\n",
    "ori_num_arr = [int(x.strip()) for x in sys.stdin.readlines()]\n",
    "num_arr= ori_num_arr[::-1]\n",
    "stack = []\n",
    "ans_stack = []\n",
    "ans_str = ''\n",
    "for i in range(1, N+1):\n",
    "    stack.append(i)\n",
    "    ans_str+='+'\n",
    "    if i == num_arr[-1]:\n",
    "        while stack[-1] == num_arr[-1]:\n",
    "            ans_stack.append(stack.pop())\n",
    "            num_arr.pop()\n",
    "            ans_str += '-'\n",
    "            if len(stack) == 0:\n",
    "                break\n",
    "if ans_stack == ori_num_arr:\n",
    "    print('\\n'.join(ans_str))\n",
    "else:\n",
    "    print('NO')\n"
   ]
  },
  {
   "cell_type": "code",
   "execution_count": null,
   "metadata": {},
   "outputs": [],
   "source": [
    "#정답 풀이\n",
    "import sys\n",
    "# N = int(input())\n",
    "def sol():\n",
    "    num_arr = [int(x.strip()) for x in sys.stdin.readlines()[1:]]\n",
    "    stack = []\n",
    "    ans_str, cur  = '', 1\n",
    "    for num in num_arr:\n",
    "        while cur <= num:\n",
    "            stack.append(cur)\n",
    "            ans_str += '+'\n",
    "            cur +=1 \n",
    "        if stack.pop() != num:\n",
    "            return 'NO'\n",
    "        else:\n",
    "            ans_str += '-'\n",
    "    return '\\n'.join(ans_str)\n",
    "\n",
    "print(sol())\n",
    "    \n",
    "# for i in range(1, N+1):\n",
    "#     stack.append(i)\n",
    "#     ans_str+='+'\n",
    "#     if i == num_arr[-1]:\n",
    "#         while stack[-1] == num_arr[-1]:\n",
    "#             ans_stack.append(stack.pop())\n",
    "#             num_arr.pop()\n",
    "#             ans_str += '-'\n",
    "#             if len(stack) == 0:\n",
    "#                 break\n",
    "# if ans_stack == ori_num_arr:\n",
    "#     print('\\n'.join(ans_str))\n",
    "# else:\n",
    "#     print('NO')\n"
   ]
  }
 ],
 "metadata": {
  "kernelspec": {
   "display_name": "base",
   "language": "python",
   "name": "python3"
  },
  "language_info": {
   "codemirror_mode": {
    "name": "ipython",
    "version": 3
   },
   "file_extension": ".py",
   "mimetype": "text/x-python",
   "name": "python",
   "nbconvert_exporter": "python",
   "pygments_lexer": "ipython3",
   "version": "3.9.13"
  },
  "orig_nbformat": 4
 },
 "nbformat": 4,
 "nbformat_minor": 2
}
