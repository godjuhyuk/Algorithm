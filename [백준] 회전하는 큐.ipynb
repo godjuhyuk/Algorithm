{
 "cells": [
  {
   "cell_type": "code",
   "execution_count": 40,
   "metadata": {},
   "outputs": [
    {
     "name": "stdout",
     "output_type": "stream",
     "text": [
      "14\n"
     ]
    }
   ],
   "source": [
    "# 지민이는 이 큐에서 다음과 같은 3가지 연산을 수행할 수 있다.\n",
    "\n",
    "# 첫 번째 원소를 뽑아낸다. 이 연산을 수행하면, 원래 큐의 원소가 a1, ..., ak이었던 것이 a2, ..., ak와 같이 된다.\n",
    "# 왼쪽으로 한 칸 이동시킨다. 이 연산을 수행하면, a1, ..., ak가 a2, ..., ak, a1이 된다.\n",
    "# 오른쪽으로 한 칸 이동시킨다. 이 연산을 수행하면, a1, ..., ak가 ak, a1, ..., ak-1이 된다\n",
    "\n",
    "N, M = map(int, input().split())\n",
    "rank = list(map(int, input().split()))\n",
    "queue = [i for i in range(1, N+1)]\n",
    "cnt = 0\n",
    "for target in rank:\n",
    "# while rank_idx != M:\n",
    "    # print('find rank: ',rank[rank_idx])\n",
    "    # print('while bool: ', rank[rank_idx]>= len(queue)//2)\n",
    "    if queue.index(target)>= len(queue)//2 + 1:\n",
    "        while queue[0] != target:\n",
    "            queue = [queue.pop()] + queue[:N-1]\n",
    "            cnt+=1\n",
    "    else:\n",
    "        while queue[0] != target:\n",
    "            queue.append(queue.pop(0))\n",
    "            cnt+=1\n",
    "    queue.pop(0)\n",
    "print(cnt)"
   ]
  },
  {
   "cell_type": "code",
   "execution_count": 26,
   "metadata": {},
   "outputs": [
    {
     "data": {
      "text/plain": [
       "27"
      ]
     },
     "execution_count": 26,
     "metadata": {},
     "output_type": "execute_result"
    }
   ],
   "source": [
    "len([7, 8, 9, 10, 12, 13, 14, 15, 17, 18, 19, 20, 21, 22, 23, 24, 25, 26, 28, 29, 31, 32, 1, 2, 3, 4, 5])"
   ]
  }
 ],
 "metadata": {
  "kernelspec": {
   "display_name": "base",
   "language": "python",
   "name": "python3"
  },
  "language_info": {
   "codemirror_mode": {
    "name": "ipython",
    "version": 3
   },
   "file_extension": ".py",
   "mimetype": "text/x-python",
   "name": "python",
   "nbconvert_exporter": "python",
   "pygments_lexer": "ipython3",
   "version": "3.9.13"
  },
  "orig_nbformat": 4
 },
 "nbformat": 4,
 "nbformat_minor": 2
}
