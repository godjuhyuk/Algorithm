{
 "cells": [
  {
   "cell_type": "code",
   "execution_count": 24,
   "metadata": {},
   "outputs": [
    {
     "data": {
      "text/plain": [
       "877450749"
      ]
     },
     "execution_count": 24,
     "metadata": {},
     "output_type": "execute_result"
    }
   ],
   "source": [
    "import math\n",
    "math.comb(4000000, 175242) % 1000000007"
   ]
  },
  {
   "cell_type": "code",
   "execution_count": 24,
   "metadata": {},
   "outputs": [
    {
     "name": "stdout",
     "output_type": "stream",
     "text": [
      "0.16731655674872184\n"
     ]
    }
   ],
   "source": [
    "# 자연수 \n",
    "# \\(N\\)과 정수 \n",
    "# \\(K\\)가 주어졌을 때 이항 계수 \n",
    "# n C k를 1,000,000,007로 나눈 나머지를 구하는 프로그램을 작성하시오.\n",
    "A, B= map(int, input().split())\n",
    "C = 1000000007\n",
    "def fast_factorial(n,r):\n",
    "    if r==1:\n",
    "        return n\n",
    "    elif r==0:\n",
    "        return 1\n",
    "    return (fast_factorial(n, r//2)%C) * (fast_factorial(n-r//2, r - r//2)%C)\n",
    "\n",
    "print((fast_factorial(A, B)) * fast_factorial(B, B)**(-1))\n",
    "# print(fast_factorial(A, A-B+1) // fast_factorial(B, 1) % C)\n"
   ]
  }
 ],
 "metadata": {
  "kernelspec": {
   "display_name": "Python 3",
   "language": "python",
   "name": "python3"
  },
  "language_info": {
   "codemirror_mode": {
    "name": "ipython",
    "version": 3
   },
   "file_extension": ".py",
   "mimetype": "text/x-python",
   "name": "python",
   "nbconvert_exporter": "python",
   "pygments_lexer": "ipython3",
   "version": "3.11.4"
  },
  "orig_nbformat": 4
 },
 "nbformat": 4,
 "nbformat_minor": 2
}
