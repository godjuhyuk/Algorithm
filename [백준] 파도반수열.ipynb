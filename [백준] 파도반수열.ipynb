{
 "cells": [
  {
   "cell_type": "code",
   "execution_count": 5,
   "metadata": {},
   "outputs": [],
   "source": [
    "import sys\n",
    "tri_list = [1, 1, 1, 2, 2, 3, 4, 5, 7, 9]\n",
    "for i in range(11, 101):\n",
    "    tri_list.append(tri_list[i-3] + tri_list[i-4])\n",
    "tri_list = [str(num) for num in tri_list]\n",
    "ans = [tri_list[int(x.strip())-1] for x in sys.stdin.readlines()[1:]]\n",
    "print('\\n'.join(ans))"
   ]
  }
 ],
 "metadata": {
  "kernelspec": {
   "display_name": "Python 3",
   "language": "python",
   "name": "python3"
  },
  "language_info": {
   "codemirror_mode": {
    "name": "ipython",
    "version": 3
   },
   "file_extension": ".py",
   "mimetype": "text/x-python",
   "name": "python",
   "nbconvert_exporter": "python",
   "pygments_lexer": "ipython3",
   "version": "3.11.1"
  },
  "orig_nbformat": 4
 },
 "nbformat": 4,
 "nbformat_minor": 2
}
