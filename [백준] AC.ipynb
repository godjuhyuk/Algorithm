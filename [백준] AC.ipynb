{
 "cells": [
  {
   "cell_type": "code",
   "execution_count": 5,
   "metadata": {},
   "outputs": [
    {
     "name": "stdout",
     "output_type": "stream",
     "text": [
      "[]\n"
     ]
    }
   ],
   "source": [
    "import sys\n",
    "input_ = [x.strip() for x in sys.stdin.readlines()[1:]]\n",
    "# input_ = ['RDD', 3, '[1,2,3]']\n",
    "def sol(method, len_, queue):\n",
    "    front_idx, back_idx = 0, len_-1\n",
    "    is_reverse = False\n",
    "    for func in method:\n",
    "        if func == 'R':\n",
    "            is_reverse = not is_reverse\n",
    "        else:\n",
    "            if back_idx < front_idx:\n",
    "                return 'error'\n",
    "            elif is_reverse:\n",
    "                back_idx -= 1\n",
    "            else:\n",
    "                front_idx += 1\n",
    "    if is_reverse:\n",
    "        return f'[{\",\".join([queue[i] for i in range(back_idx, front_idx-1, -1)])}]'\n",
    "    else:    \n",
    "        return f'[{\",\".join([i for i in queue[front_idx:back_idx+1]])}]'\n",
    "ans = []\n",
    "for i in range(0, len(input_)-1, 3):\n",
    "    method, len_, queue = input_[i], int(input_[i+1]), input_[i+2].strip('[]').split(',')\n",
    "    ans.append(sol(method.replace('RR', ''), len_, queue))\n",
    "print('\\n'.join(ans))"
   ]
  },
  {
   "cell_type": "code",
   "execution_count": 7,
   "metadata": {},
   "outputs": [
    {
     "name": "stdout",
     "output_type": "stream",
     "text": [
      "3628800\n"
     ]
    }
   ],
   "source": [
    "def factorial(n):\n",
    "    if n==1: return 1\n",
    "    return n*factorial(n-1)\n",
    "print(factorial(int(input())))"
   ]
  }
 ],
 "metadata": {
  "kernelspec": {
   "display_name": "base",
   "language": "python",
   "name": "python3"
  },
  "language_info": {
   "codemirror_mode": {
    "name": "ipython",
    "version": 3
   },
   "file_extension": ".py",
   "mimetype": "text/x-python",
   "name": "python",
   "nbconvert_exporter": "python",
   "pygments_lexer": "ipython3",
   "version": "3.9.13"
  },
  "orig_nbformat": 4
 },
 "nbformat": 4,
 "nbformat_minor": 2
}
