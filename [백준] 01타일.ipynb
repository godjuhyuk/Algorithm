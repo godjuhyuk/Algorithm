{
 "cells": [
  {
   "cell_type": "code",
   "execution_count": 45,
   "metadata": {},
   "outputs": [
    {
     "name": "stdout",
     "output_type": "stream",
     "text": [
      "13\n"
     ]
    }
   ],
   "source": [
    "# 문제\n",
    "# 지원이에게 2진 수열을 가르쳐 주기 위해, 지원이 아버지는 그에게 타일들을 선물해주셨다. 그리고 이 각각의 타일들은 0 또는 1이 쓰여 있는 낱장의 타일들이다.\n",
    "\n",
    "# 어느 날 짓궂은 동주가 지원이의 공부를 방해하기 위해 0이 쓰여진 낱장의 타일들을 붙여서 한 쌍으로 이루어진 00 타일들을 만들었다. \n",
    "\n",
    "# 결국 현재 1 하나만으로 이루어진 타일 또는 0타일을 두 개 붙인 한 쌍의 00타일들만이 남게 되었다.\n",
    "\n",
    "# 그러므로 지원이는 타일로 더 이상 크기가 N인 모든 2진 수열을 만들 수 없게 되었다. \n",
    "\n",
    "# 예를 들어, N=1일 때 1만 만들 수 있고, N=2일 때는 00, 11을 만들 수 있다. (01, 10은 만들 수 없게 되었다.) \n",
    "\n",
    "# N=1 ) 1\n",
    "# N=2 ) 00, 11\n",
    "# N=3 ) 001, 100, 111\n",
    "# N=4 ) 0000, 0011, 1100, 1001, 1111\n",
    "# N=5 ) 00001, 00100, 10000, 11100, 00111, 10011, 11001, 11111\n",
    "# N=6 ) 000000, 000011, 001100, 110000, 100001, 001001, 111100, 110011, 001111, 111111, 111001, 110011, 100011\n",
    "\n",
    "# 또한 N=4일 때는 0011, 0000, 1001, 1100, 1111 등 총 5개의 2진 수열을 만들 수 있다.\n",
    "\n",
    "# 우리의 목표는 N이 주어졌을 때 지원이가 만들 수 있는 모든 가짓수를 세는 것이다. 단 타일들은 무한히 많은 것으로 가정하자.\n",
    "\n",
    "# 입력\n",
    "# 첫 번째 줄에 자연수 N이 주어진다. (1 ≤ N ≤ 1,000,000)\n",
    "# N개의 빈칸에, j쌍의 남자와 N-j명의 여자를 배치 => N-j C j => N-j P j / j! => N! / N\n",
    "\n",
    "# 출력\n",
    "# 첫 번째 줄에 지원이가 만들 수 있는 길이가 N인 모든 2진 수열의 개수를 15746으로 나눈 나머지를 출력한다.\n",
    "\n",
    "# N= 1000000\n",
    "\n",
    "N=int(input())\n",
    "fibo = [0, 1] + [None] * (N)\n",
    "for i in range(2, N+2):\n",
    "    fibo[i] = (fibo[i-1] + fibo[i-2]) % 15746\n",
    "print(fibo[-1])\n",
    "\n",
    "# import math\n",
    "# factorials = [1] + [i for i in range(1, N+1)]\n",
    "# for i in range(1, N+1):\n",
    "#     factorials[i] =  (factorials[i]) * (factorials[i-1])\n",
    "# ans = 0\n",
    "# combinations = [math.comb(N-i, i) % 15746 for i in range((N+1)//2)]\n",
    "# if N%2 == 0:\n",
    "#     for j in range(N//2 + 1):\n",
    "#         if j == 0 or j == N//2:\n",
    "#             ans+=1\n",
    "#         else:\n",
    "#             ans += combinations[j]\n",
    "# else:\n",
    "#     for j in range((N-1)//2 +1):\n",
    "#         if j == 0:\n",
    "#             ans+=1\n",
    "#         elif j == (N-1)//2:\n",
    "#             ans += j+1\n",
    "#         else:\n",
    "#             ans += combinations[j]\n",
    "            # ans += factorials[N-j] // (factorials[N-2*j] *factorials[j])"
   ]
  },
  {
   "cell_type": "code",
   "execution_count": 35,
   "metadata": {},
   "outputs": [],
   "source": [
    "test= []\n",
    "for N in range(1, int(input())+1):\n",
    "    ans = 0\n",
    "    combinations = [math.comb(N-i, i) % 15746 for i in range((N+1)//2)]\n",
    "    if N%2 == 0:\n",
    "        for j in range(N//2 + 1):\n",
    "            if j == 0 or j == N//2:\n",
    "                ans+=1\n",
    "            else:\n",
    "                ans += combinations[j]\n",
    "    else:\n",
    "        for j in range((N-1)//2 +1):\n",
    "            if j == 0:\n",
    "                ans+=1\n",
    "            elif j == (N-1)//2:\n",
    "                ans += j+1\n",
    "            else:\n",
    "                ans += combinations[j]\n",
    "    test.append(ans)"
   ]
  },
  {
   "cell_type": "code",
   "execution_count": 36,
   "metadata": {},
   "outputs": [
    {
     "data": {
      "text/plain": [
       "[1, 2, 3, 5, 8, 13, 21, 34, 55, 89]"
      ]
     },
     "execution_count": 36,
     "metadata": {},
     "output_type": "execute_result"
    }
   ],
   "source": [
    "test"
   ]
  },
  {
   "cell_type": "code",
   "execution_count": 19,
   "metadata": {},
   "outputs": [
    {
     "name": "stdout",
     "output_type": "stream",
     "text": [
      "500000\n"
     ]
    }
   ],
   "source": [
    "a= [1] * 1000000\n",
    "cnt = 0\n",
    "for i in range(500000):\n",
    "    if i%2 ==0 :\n",
    "       cnt+= a[i] // (a[i] * a[i])\n",
    "    else:\n",
    "       cnt+= a[i] // (a[i] * a[i])\n",
    "print(cnt)"
   ]
  }
 ],
 "metadata": {
  "kernelspec": {
   "display_name": "Python 3",
   "language": "python",
   "name": "python3"
  },
  "language_info": {
   "codemirror_mode": {
    "name": "ipython",
    "version": 3
   },
   "file_extension": ".py",
   "mimetype": "text/x-python",
   "name": "python",
   "nbconvert_exporter": "python",
   "pygments_lexer": "ipython3",
   "version": "3.11.1"
  },
  "orig_nbformat": 4
 },
 "nbformat": 4,
 "nbformat_minor": 2
}
