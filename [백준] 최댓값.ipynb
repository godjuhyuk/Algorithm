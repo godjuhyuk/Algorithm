{
 "cells": [
  {
   "cell_type": "code",
   "execution_count": 12,
   "metadata": {},
   "outputs": [
    {
     "name": "stdout",
     "output_type": "stream",
     "text": [
      "100\n",
      "5 2\n"
     ]
    }
   ],
   "source": [
    "max_num, max_i, i, j = 0, 1, 1, 1\n",
    "for _ in range(9):\n",
    "    a = list(map(int, input().split()))\n",
    "    if max_num < max(a):\n",
    "        max_num = max(a)\n",
    "        j = a.index(max_num) + 1\n",
    "        max_i = i\n",
    "    i+=1\n",
    "\n",
    "print(max_num)\n",
    "print(max_i, j)"
   ]
  },
  {
   "cell_type": "code",
   "execution_count": 17,
   "metadata": {},
   "outputs": [
    {
     "data": {
      "text/plain": [
       "3"
      ]
     },
     "execution_count": 17,
     "metadata": {},
     "output_type": "execute_result"
    }
   ],
   "source": [
    "m=(l:=sum([list(map(int,input().split()))for _ in range(2)],[])).index(a:=max(l))\n",
    "m"
   ]
  }
 ],
 "metadata": {
  "kernelspec": {
   "display_name": "base",
   "language": "python",
   "name": "python3"
  },
  "language_info": {
   "codemirror_mode": {
    "name": "ipython",
    "version": 3
   },
   "file_extension": ".py",
   "mimetype": "text/x-python",
   "name": "python",
   "nbconvert_exporter": "python",
   "pygments_lexer": "ipython3",
   "version": "3.9.13"
  },
  "orig_nbformat": 4
 },
 "nbformat": 4,
 "nbformat_minor": 2
}
